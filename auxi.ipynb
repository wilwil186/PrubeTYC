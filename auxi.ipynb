{
 "cells": [
  {
   "cell_type": "code",
   "execution_count": 19,
   "metadata": {},
   "outputs": [
    {
     "name": "stderr",
     "output_type": "stream",
     "text": [
      "C:\\Users\\wilson.hernandez\\AppData\\Local\\Temp\\ipykernel_3296\\4198566822.py:14: DtypeWarning: Columns (4,5) have mixed types. Specify dtype option on import or set low_memory=False.\n",
      "  train_df = pd.read_csv('train_df.csv', delimiter=';', thousands='.', decimal=',')\n"
     ]
    },
    {
     "data": {
      "application/vnd.microsoft.datawrangler.viewer.v0+json": {
       "columns": [
        {
         "name": "index",
         "rawType": "int64",
         "type": "integer"
        },
        {
         "name": "identificador_cliente",
         "rawType": "int64",
         "type": "integer"
        },
        {
         "name": "cust_age_number",
         "rawType": "int64",
         "type": "integer"
        },
        {
         "name": "customer_seniority_number",
         "rawType": "int64",
         "type": "integer"
        },
        {
         "name": "main_city_type",
         "rawType": "int64",
         "type": "integer"
        },
        {
         "name": "town_id",
         "rawType": "object",
         "type": "string"
        },
        {
         "name": "personal_type",
         "rawType": "object",
         "type": "unknown"
        },
        {
         "name": "marital_status_type",
         "rawType": "float64",
         "type": "float"
        },
        {
         "name": "address_relationship_type",
         "rawType": "int64",
         "type": "integer"
        },
        {
         "name": "adult_dependants_number",
         "rawType": "float64",
         "type": "float"
        },
        {
         "name": "target_type",
         "rawType": "int64",
         "type": "integer"
        },
        {
         "name": "customer_asset_amount",
         "rawType": "int64",
         "type": "integer"
        },
        {
         "name": "customer_liability_amount",
         "rawType": "int64",
         "type": "integer"
        },
        {
         "name": "customer_status_type",
         "rawType": "int64",
         "type": "integer"
        },
        {
         "name": "month_withdrawals_number",
         "rawType": "float64",
         "type": "float"
        },
        {
         "name": "month_payment_number",
         "rawType": "float64",
         "type": "float"
        },
        {
         "name": "month_purchase_number",
         "rawType": "float64",
         "type": "float"
        },
        {
         "name": "m_exit_amount",
         "rawType": "float64",
         "type": "float"
        },
        {
         "name": "m_entry_amount",
         "rawType": "float64",
         "type": "float"
        },
        {
         "name": "mth_mbl_app_qry_number",
         "rawType": "float64",
         "type": "float"
        },
        {
         "name": "mth_mbl_app_mnty_tr_number",
         "rawType": "float64",
         "type": "float"
        },
        {
         "name": "mth_mbl_app_non_mnty_tr_number",
         "rawType": "float64",
         "type": "float"
        },
        {
         "name": "month_atm_queries_number",
         "rawType": "float64",
         "type": "float"
        },
        {
         "name": "atm_made_fin_trans_number",
         "rawType": "float64",
         "type": "float"
        },
        {
         "name": "atm_made_nfin_tran_number",
         "rawType": "float64",
         "type": "float"
        },
        {
         "name": "inquiries_digi_channel_number",
         "rawType": "float64",
         "type": "float"
        },
        {
         "name": "dig_financial_trans_tot_number",
         "rawType": "float64",
         "type": "float"
        },
        {
         "name": "dig_non_fin_trans_tot_number",
         "rawType": "float64",
         "type": "float"
        },
        {
         "name": "mth_co_netcash_queries_number",
         "rawType": "float64",
         "type": "float"
        },
        {
         "name": "mth_co_netc_non_mnty_tr_number",
         "rawType": "float64",
         "type": "float"
        },
        {
         "name": "mth_co_netcash_mnty_tr_number",
         "rawType": "float64",
         "type": "float"
        },
        {
         "name": "mth_ppl_netcash_queries_number",
         "rawType": "float64",
         "type": "float"
        },
        {
         "name": "mth_ppl_netcash_mnty_tr_number",
         "rawType": "float64",
         "type": "float"
        },
        {
         "name": "mth_pplnetc_non_mnty_tr_number",
         "rawType": "float64",
         "type": "float"
        },
        {
         "name": "month_h2h_queries_number",
         "rawType": "float64",
         "type": "float"
        },
        {
         "name": "month_h2h_mnty_tr_number",
         "rawType": "float64",
         "type": "float"
        },
        {
         "name": "month_h2h_non_mnty_tr_number",
         "rawType": "float64",
         "type": "float"
        },
        {
         "name": "month_webpage_queries_number",
         "rawType": "float64",
         "type": "float"
        },
        {
         "name": "mth_webpage_mnty_tr_number",
         "rawType": "float64",
         "type": "float"
        },
        {
         "name": "mth_webpage_non_mnty_tr_number",
         "rawType": "float64",
         "type": "float"
        },
        {
         "name": "mth_ext_pos_queries_number",
         "rawType": "float64",
         "type": "float"
        },
        {
         "name": "mth_ext_pos_mnty_tr_number",
         "rawType": "float64",
         "type": "float"
        },
        {
         "name": "mth_ext_pos_non_mnty_tr_number",
         "rawType": "float64",
         "type": "float"
        },
        {
         "name": "mth_ext_ntwrk_queries_number",
         "rawType": "float64",
         "type": "float"
        },
        {
         "name": "mth_ext_ntwrk_mnty_tr_number",
         "rawType": "float64",
         "type": "float"
        },
        {
         "name": "m_ext_ntwrk_non_mnty_tr_number",
         "rawType": "float64",
         "type": "float"
        },
        {
         "name": "mth_banknet_queries_number",
         "rawType": "float64",
         "type": "float"
        },
        {
         "name": "mth_banknet_mnty_tr_number",
         "rawType": "float64",
         "type": "float"
        },
        {
         "name": "mth_banknet_non_mnty_tr_number",
         "rawType": "float64",
         "type": "float"
        },
        {
         "name": "mth_third_party_queries_number",
         "rawType": "float64",
         "type": "float"
        },
        {
         "name": "month_thpty_mnty_tr_number",
         "rawType": "float64",
         "type": "float"
        },
        {
         "name": "month_thpty_non_mnty_tr_number",
         "rawType": "float64",
         "type": "float"
        },
        {
         "name": "recv_payrl_transactions_number",
         "rawType": "float64",
         "type": "float"
        },
        {
         "name": "current_payroll_incm_amount",
         "rawType": "float64",
         "type": "float"
        },
        {
         "name": "payroll_type",
         "rawType": "float64",
         "type": "float"
        },
        {
         "name": "instlmnt_1_bill_average_amount",
         "rawType": "float64",
         "type": "float"
        },
        {
         "name": "cr_card_bill_average_amount",
         "rawType": "float64",
         "type": "float"
        },
        {
         "name": "instlmnt_1_tr_average_per",
         "rawType": "float64",
         "type": "float"
        },
        {
         "name": "instlmnt_1_transactions_type",
         "rawType": "float64",
         "type": "float"
        },
        {
         "name": "saving_prdt_avg_bal_amount",
         "rawType": "float64",
         "type": "float"
        },
        {
         "name": "fix_saving_prdt_avg_bal_amount",
         "rawType": "float64",
         "type": "float"
        },
        {
         "name": "cdt_prdt_avg_balance_amount",
         "rawType": "float64",
         "type": "float"
        },
        {
         "name": "consumer_cash_balance_amount",
         "rawType": "float64",
         "type": "float"
        },
        {
         "name": "current_asset_amount",
         "rawType": "float64",
         "type": "float"
        },
        {
         "name": "avg_balance_fund_amount",
         "rawType": "float64",
         "type": "float"
        },
        {
         "name": "mtge_prdt_avg_balance_amount",
         "rawType": "float64",
         "type": "float"
        },
        {
         "name": "bbva_payrl_oblg_tot_bal_amount",
         "rawType": "float64",
         "type": "float"
        },
        {
         "name": "avg_cr_card_balance_amount",
         "rawType": "float64",
         "type": "float"
        },
        {
         "name": "vehicle_credit_average_amount",
         "rawType": "float64",
         "type": "float"
        },
        {
         "name": "lt_saving_prdt_avg_bal_amount",
         "rawType": "float64",
         "type": "float"
        },
        {
         "name": "save_account_type",
         "rawType": "float64",
         "type": "float"
        },
        {
         "name": "fixed_savings_tenure_type",
         "rawType": "float64",
         "type": "float"
        },
        {
         "name": "term_cdt_tenure_type",
         "rawType": "float64",
         "type": "float"
        },
        {
         "name": "tenure_consm_product_type",
         "rawType": "float64",
         "type": "float"
        },
        {
         "name": "ownership_ca_type",
         "rawType": "float64",
         "type": "float"
        },
        {
         "name": "funds_ownership_ind_type",
         "rawType": "float64",
         "type": "float"
        },
        {
         "name": "ownership_mloan_type",
         "rawType": "float64",
         "type": "float"
        },
        {
         "name": "libranza_tenure_mark_type",
         "rawType": "float64",
         "type": "float"
        },
        {
         "name": "credit_card_ownshp_ind_type",
         "rawType": "float64",
         "type": "float"
        },
        {
         "name": "vehicle_cr_tenure_mark_type",
         "rawType": "float64",
         "type": "float"
        },
        {
         "name": "long_term_savings_tenure_type",
         "rawType": "float64",
         "type": "float"
        },
        {
         "name": "new_segment_id",
         "rawType": "float64",
         "type": "float"
        },
        {
         "name": "customer_products_number",
         "rawType": "float64",
         "type": "float"
        },
        {
         "name": "collective_name",
         "rawType": "object",
         "type": "string"
        },
        {
         "name": "cr_dbt_card_agric_expns_amount",
         "rawType": "float64",
         "type": "float"
        },
        {
         "name": "cr_dbt_card_agric_op_number",
         "rawType": "float64",
         "type": "float"
        },
        {
         "name": "cr_dbt_card_adv_expns_amount",
         "rawType": "float64",
         "type": "float"
        },
        {
         "name": "cr_dbt_card_adv_op_number",
         "rawType": "float64",
         "type": "float"
        },
        {
         "name": "cr_dbt_card_veh_expns_amount",
         "rawType": "float64",
         "type": "float"
        },
        {
         "name": "cr_dbt_card_veh_op_number",
         "rawType": "float64",
         "type": "float"
        },
        {
         "name": "cr_dbt_cd_beauty_expns_amount",
         "rawType": "float64",
         "type": "float"
        },
        {
         "name": "cr_dbt_card_beauty_op_number",
         "rawType": "float64",
         "type": "float"
        },
        {
         "name": "cr_dbt_cd_casino_expns_amount",
         "rawType": "float64",
         "type": "float"
        },
        {
         "name": "cr_dbt_card_casino_op_number",
         "rawType": "float64",
         "type": "float"
        },
        {
         "name": "cr_dbt_cd_cns_expns_amount",
         "rawType": "float64",
         "type": "float"
        },
        {
         "name": "cr_dbt_card_cns_op_number",
         "rawType": "float64",
         "type": "float"
        },
        {
         "name": "cr_dbt_cd_sport_expns_amount",
         "rawType": "float64",
         "type": "float"
        },
        {
         "name": "cr_dbt_card_sport_op_number",
         "rawType": "float64",
         "type": "float"
        },
        {
         "name": "cr_dbt_cd_digital_expns_amount",
         "rawType": "float64",
         "type": "float"
        },
        {
         "name": "cr_dbt_cd_digital_op_number",
         "rawType": "float64",
         "type": "float"
        },
        {
         "name": "cr_dbt_card_educ_expns_amount",
         "rawType": "float64",
         "type": "float"
        },
        {
         "name": "cr_dbt_card_educ_op_number",
         "rawType": "float64",
         "type": "float"
        },
        {
         "name": "cr_dbt_cd_co_stmp_expns_amount",
         "rawType": "float64",
         "type": "float"
        },
        {
         "name": "cr_dbt_cd_co_stamp_op_number",
         "rawType": "float64",
         "type": "float"
        },
        {
         "name": "cr_dbt_card_fcg_expns_amount",
         "rawType": "float64",
         "type": "float"
        },
        {
         "name": "cr_dbt_card_fcg_op_number",
         "rawType": "float64",
         "type": "float"
        },
        {
         "name": "cr_dbt_card_fndat_expns_amount",
         "rawType": "float64",
         "type": "float"
        },
        {
         "name": "cr_dbt_card_fndat_op_number",
         "rawType": "float64",
         "type": "float"
        },
        {
         "name": "cr_dbt_cd_funeral_expns_amount",
         "rawType": "float64",
         "type": "float"
        },
        {
         "name": "cr_dbt_card_funeral_op_number",
         "rawType": "float64",
         "type": "float"
        },
        {
         "name": "cr_dbt_card_govt_expns_amount",
         "rawType": "float64",
         "type": "float"
        },
        {
         "name": "cr_dbt_card_govt_op_number",
         "rawType": "float64",
         "type": "float"
        },
        {
         "name": "cr_dbt_card_home_expns_amount",
         "rawType": "float64",
         "type": "float"
        },
        {
         "name": "cr_dbt_card_home_op_number",
         "rawType": "float64",
         "type": "float"
        },
        {
         "name": "cr_dbt_card_inds_expns_amount",
         "rawType": "float64",
         "type": "float"
        },
        {
         "name": "cr_dbt_card_inds_op_number",
         "rawType": "float64",
         "type": "float"
        },
        {
         "name": "cr_dbt_card_re_expns_amount",
         "rawType": "float64",
         "type": "float"
        },
        {
         "name": "cr_dbt_card_re_op_number",
         "rawType": "float64",
         "type": "float"
        },
        {
         "name": "cr_dbt_card_jwlry_expns_amount",
         "rawType": "float64",
         "type": "float"
        },
        {
         "name": "cr_dbt_card_jwlry_op_number",
         "rawType": "float64",
         "type": "float"
        },
        {
         "name": "cr_dbt_cd_lbrtry_expns_amount",
         "rawType": "float64",
         "type": "float"
        },
        {
         "name": "cr_dbt_cd_laboratory_op_number",
         "rawType": "float64",
         "type": "float"
        },
        {
         "name": "cr_dbt_cd_lqr_str_expns_amount",
         "rawType": "float64",
         "type": "float"
        },
        {
         "name": "cr_dbt_cd_lqr_str_op_number",
         "rawType": "float64",
         "type": "float"
        },
        {
         "name": "cr_dbt_card_clng_expns_amount",
         "rawType": "float64",
         "type": "float"
        },
        {
         "name": "cr_dbt_card_clng_op_number",
         "rawType": "float64",
         "type": "float"
        },
        {
         "name": "cr_dbt_card_maint_expns_amount",
         "rawType": "float64",
         "type": "float"
        },
        {
         "name": "cr_dbt_card_maint_op_number",
         "rawType": "float64",
         "type": "float"
        },
        {
         "name": "cr_dbt_card_pets_expns_amount",
         "rawType": "float64",
         "type": "float"
        },
        {
         "name": "cr_dbt_card_pets_op_number",
         "rawType": "float64",
         "type": "float"
        },
        {
         "name": "cr_dbt_card_med_expns_amount",
         "rawType": "float64",
         "type": "float"
        },
        {
         "name": "cr_dbt_card_med_op_number",
         "rawType": "float64",
         "type": "float"
        },
        {
         "name": "cr_dbt_cd_courier_expns_amount",
         "rawType": "float64",
         "type": "float"
        },
        {
         "name": "cr_dbt_card_courier_op_number",
         "rawType": "float64",
         "type": "float"
        },
        {
         "name": "cr_dbt_card_misc_expns_amount",
         "rawType": "float64",
         "type": "float"
        },
        {
         "name": "cr_debit_card_misc_op_number",
         "rawType": "float64",
         "type": "float"
        },
        {
         "name": "cr_dbt_card_motel_expns_amount",
         "rawType": "float64",
         "type": "float"
        },
        {
         "name": "cr_debit_card_motel_op_number",
         "rawType": "float64",
         "type": "float"
        },
        {
         "name": "cr_dbt_cd_others_expns_amount",
         "rawType": "float64",
         "type": "float"
        },
        {
         "name": "cr_debit_card_others_op_number",
         "rawType": "float64",
         "type": "float"
        },
        {
         "name": "cr_dbt_cd_sttnry_expns_amount",
         "rawType": "float64",
         "type": "float"
        },
        {
         "name": "cr_debit_card_sttnry_op_number",
         "rawType": "float64",
         "type": "float"
        },
        {
         "name": "cr_dbt_cd_parkg_expns_amount",
         "rawType": "float64",
         "type": "float"
        },
        {
         "name": "cr_debit_card_parkg_op_number",
         "rawType": "float64",
         "type": "float"
        },
        {
         "name": "cr_dbt_cd_bakery_expns_amount",
         "rawType": "float64",
         "type": "float"
        },
        {
         "name": "cr_debit_card_bakery_op_number",
         "rawType": "float64",
         "type": "float"
        },
        {
         "name": "cr_dbt_cd_recyc_expns_amount",
         "rawType": "float64",
         "type": "float"
        },
        {
         "name": "cr_debit_card_recyc_op_number",
         "rawType": "float64",
         "type": "float"
        },
        {
         "name": "cr_dbt_cd_rstrnt_expns_amount",
         "rawType": "float64",
         "type": "float"
        },
        {
         "name": "cr_debit_card_rstrnt_op_number",
         "rawType": "float64",
         "type": "float"
        },
        {
         "name": "cr_dbt_cd_ins_expns_amount",
         "rawType": "float64",
         "type": "float"
        },
        {
         "name": "cr_debit_card_ins_op_number",
         "rawType": "float64",
         "type": "float"
        },
        {
         "name": "cr_dbt_cd_pub_srv_expns_amount",
         "rawType": "float64",
         "type": "float"
        },
        {
         "name": "cr_debit_cd_pub_srv_op_number",
         "rawType": "float64",
         "type": "float"
        },
        {
         "name": "cr_dbt_card_spmk_expns_amount",
         "rawType": "float64",
         "type": "float"
        },
        {
         "name": "cr_debit_card_spmk_op_number",
         "rawType": "float64",
         "type": "float"
        },
        {
         "name": "cr_dbt_card_tech_expns_amount",
         "rawType": "float64",
         "type": "float"
        },
        {
         "name": "cr_debit_card_tech_op_number",
         "rawType": "float64",
         "type": "float"
        },
        {
         "name": "cr_dbt_cd_tourism_expns_amount",
         "rawType": "float64",
         "type": "float"
        },
        {
         "name": "cr_debit_cd_tourism_op_number",
         "rawType": "float64",
         "type": "float"
        },
        {
         "name": "cr_dbt_cd_clothes_expns_amount",
         "rawType": "float64",
         "type": "float"
        },
        {
         "name": "cr_debit_cd_clothes_op_number",
         "rawType": "float64",
         "type": "float"
        },
        {
         "name": "cr_dbt_card_prvs_expns_amount",
         "rawType": "float64",
         "type": "float"
        },
        {
         "name": "cr_debit_card_prvs_op_number",
         "rawType": "float64",
         "type": "float"
        },
        {
         "name": "audit_date",
         "rawType": "object",
         "type": "string"
        },
        {
         "name": "alta_tdc",
         "rawType": "int64",
         "type": "integer"
        }
       ],
       "conversionMethod": "pd.DataFrame",
       "ref": "ec7536f1-f51d-431f-81ee-a54c18fb1d1e",
       "rows": [
        [
         "0",
         "1",
         "68",
         "37",
         "1",
         "11001",
         "1",
         "1.0",
         "3",
         "0.0",
         "1",
         "13866111161",
         "255747166",
         "2",
         "2300000.0",
         "0.0",
         "2198616.0",
         "0.0",
         "1552922600.0",
         "0.0",
         "0.0",
         "0.0",
         "0.0",
         "11.0",
         "0.0",
         "0.0",
         "0.0",
         "0.0",
         "0.0",
         "0.0",
         "0.0",
         "0.0",
         "0.0",
         "0.0",
         "0.0",
         "0.0",
         "1.0",
         "0.0",
         "0.0",
         "0.0",
         "0.0",
         "44.0",
         "0.0",
         "0.0",
         "0.0",
         "0.0",
         "0.0",
         "0.0",
         "0.0",
         "0.0",
         "0.0",
         "0.0",
         "1.0",
         "656553839.0",
         "2.0",
         null,
         null,
         null,
         null,
         "163017427.0",
         null,
         null,
         null,
         null,
         null,
         null,
         "13859580800.0",
         "0.0",
         null,
         null,
         "1.0",
         "0.0",
         "0.0",
         "0.0",
         "0.0",
         "0.0",
         "0.0",
         "1.0",
         "0.0",
         "0.0",
         "0.0",
         "83000.0",
         "3.0",
         "PENSIONADOS",
         "0.0",
         "0.0",
         "0.0",
         "0.0",
         "18177900.0",
         "3.0",
         "0.0",
         "0.0",
         "50000000.0",
         "5.0",
         "0.0",
         "0.0",
         "0.0",
         "0.0",
         "0.0",
         "0.0",
         "0.0",
         "0.0",
         "0.0",
         "0.0",
         "0.0",
         "0.0",
         "0.0",
         "0.0",
         "0.0",
         "0.0",
         "0.0",
         "0.0",
         "0.0",
         "0.0",
         "0.0",
         "0.0",
         "0.0",
         "0.0",
         "0.0",
         "0.0",
         "0.0",
         "0.0",
         "0.0",
         "0.0",
         "0.0",
         "0.0",
         "0.0",
         "0.0",
         "0.0",
         "0.0",
         "21500000.0",
         "6.0",
         "0.0",
         "0.0",
         "0.0",
         "0.0",
         "0.0",
         "0.0",
         "0.0",
         "0.0",
         "0.0",
         "0.0",
         "0.0",
         "0.0",
         "0.0",
         "0.0",
         "0.0",
         "0.0",
         "44590000.0",
         "9.0",
         "0.0",
         "0.0",
         "3790000.0",
         "1.0",
         "41906500.0",
         "11.0",
         "12545000.0",
         "3.0",
         "0.0",
         "0.0",
         "8500000.0",
         "1.0",
         "18852200.0",
         "5.0",
         "2024-11-07T05:18:36.416Z",
         "0"
        ],
        [
         "1",
         "2",
         "92",
         "37",
         "1",
         "11001",
         "1",
         "2.0",
         "3",
         "0.0",
         "1",
         "241279238",
         "8825528",
         "2",
         null,
         null,
         null,
         null,
         null,
         null,
         null,
         null,
         null,
         null,
         null,
         null,
         null,
         null,
         null,
         null,
         null,
         null,
         null,
         null,
         null,
         null,
         null,
         null,
         null,
         null,
         null,
         null,
         null,
         null,
         null,
         null,
         null,
         null,
         null,
         null,
         null,
         null,
         null,
         null,
         null,
         null,
         null,
         null,
         null,
         "2678260.0",
         null,
         null,
         null,
         "6147268.0",
         null,
         null,
         null,
         "241279238.0",
         null,
         null,
         "1.0",
         "0.0",
         "0.0",
         "0.0",
         "1.0",
         "0.0",
         "0.0",
         "0.0",
         "1.0",
         "0.0",
         "0.0",
         "84000.0",
         "5.0",
         "OTROS",
         null,
         null,
         null,
         null,
         null,
         null,
         null,
         null,
         null,
         null,
         null,
         null,
         null,
         null,
         null,
         null,
         null,
         null,
         null,
         null,
         null,
         null,
         null,
         null,
         null,
         null,
         null,
         null,
         null,
         null,
         null,
         null,
         null,
         null,
         null,
         null,
         null,
         null,
         null,
         null,
         null,
         null,
         null,
         null,
         null,
         null,
         null,
         null,
         null,
         null,
         null,
         null,
         null,
         null,
         null,
         null,
         null,
         null,
         null,
         null,
         null,
         null,
         null,
         null,
         null,
         null,
         null,
         null,
         null,
         null,
         null,
         null,
         null,
         null,
         null,
         null,
         null,
         null,
         null,
         null,
         "2024-11-07T05:18:36.416Z",
         "0"
        ],
        [
         "2",
         "3",
         "70",
         "27",
         "0",
         "25572",
         "1",
         "2.0",
         "2",
         null,
         "1",
         "518932423",
         "504147105",
         "2",
         "1900000.0",
         "0.0",
         "738758.0",
         "0.0",
         "234264300.0",
         "0.0",
         "0.0",
         "0.0",
         "0.0",
         "5.0",
         "0.0",
         "0.0",
         "0.0",
         "0.0",
         "0.0",
         "0.0",
         "0.0",
         "0.0",
         "0.0",
         "0.0",
         "0.0",
         "2.0",
         "0.0",
         "0.0",
         "0.0",
         "0.0",
         "0.0",
         "2.0",
         "0.0",
         "0.0",
         "0.0",
         "0.0",
         "1.0",
         "3.0",
         "0.0",
         "0.0",
         "0.0",
         "0.0",
         "1.0",
         "234204300.0",
         "3.0",
         null,
         null,
         null,
         null,
         "504968339.0",
         null,
         null,
         "516004200.0",
         null,
         null,
         null,
         null,
         "0.0",
         null,
         null,
         "1.0",
         "0.0",
         "0.0",
         "1.0",
         "0.0",
         "0.0",
         "0.0",
         "0.0",
         "0.0",
         "0.0",
         "0.0",
         "84000.0",
         "4.0",
         "PENSIONADOS",
         "0.0",
         "0.0",
         "0.0",
         "0.0",
         "0.0",
         "0.0",
         "0.0",
         "0.0",
         "0.0",
         "0.0",
         "0.0",
         "0.0",
         "0.0",
         "0.0",
         "0.0",
         "0.0",
         "0.0",
         "0.0",
         "0.0",
         "0.0",
         "0.0",
         "0.0",
         "0.0",
         "0.0",
         "0.0",
         "0.0",
         "0.0",
         "0.0",
         "0.0",
         "0.0",
         "0.0",
         "0.0",
         "0.0",
         "0.0",
         "0.0",
         "0.0",
         "0.0",
         "0.0",
         "0.0",
         "0.0",
         "0.0",
         "0.0",
         "0.0",
         "0.0",
         "0.0",
         "0.0",
         "0.0",
         "0.0",
         "0.0",
         "0.0",
         "0.0",
         "0.0",
         "0.0",
         "0.0",
         "0.0",
         "0.0",
         "0.0",
         "0.0",
         "0.0",
         "0.0",
         "0.0",
         "0.0",
         "0.0",
         "0.0",
         "0.0",
         "0.0",
         "0.0",
         "0.0",
         "0.0",
         "0.0",
         "73875800.0",
         "2.0",
         "0.0",
         "0.0",
         "0.0",
         "0.0",
         "0.0",
         "0.0",
         "0.0",
         "0.0",
         "2024-11-07T05:18:36.416Z",
         "0"
        ],
        [
         "3",
         "4",
         "76",
         "27",
         "0",
         "25290",
         "1",
         "2.0",
         "3",
         null,
         "1",
         "0",
         "3594231700",
         "2",
         "0.0",
         "0.0",
         "0.0",
         "0.0",
         "261462000.0",
         null,
         null,
         null,
         null,
         null,
         null,
         null,
         null,
         null,
         null,
         null,
         null,
         null,
         null,
         null,
         null,
         null,
         null,
         null,
         null,
         null,
         null,
         null,
         null,
         null,
         null,
         null,
         null,
         null,
         null,
         null,
         null,
         null,
         "1.0",
         "261462000.0",
         "3.0",
         null,
         null,
         null,
         null,
         "3797088410.0",
         null,
         null,
         null,
         null,
         null,
         null,
         null,
         "0.0",
         null,
         null,
         "1.0",
         "0.0",
         "0.0",
         "0.0",
         "0.0",
         "0.0",
         "0.0",
         "0.0",
         "0.0",
         "0.0",
         "0.0",
         "84000.0",
         "2.0",
         "PENSIONADOS",
         null,
         null,
         null,
         null,
         null,
         null,
         null,
         null,
         null,
         null,
         null,
         null,
         null,
         null,
         null,
         null,
         null,
         null,
         null,
         null,
         null,
         null,
         null,
         null,
         null,
         null,
         null,
         null,
         null,
         null,
         null,
         null,
         null,
         null,
         null,
         null,
         null,
         null,
         null,
         null,
         null,
         null,
         null,
         null,
         null,
         null,
         null,
         null,
         null,
         null,
         null,
         null,
         null,
         null,
         null,
         null,
         null,
         null,
         null,
         null,
         null,
         null,
         null,
         null,
         null,
         null,
         null,
         null,
         null,
         null,
         null,
         null,
         null,
         null,
         null,
         null,
         null,
         null,
         null,
         null,
         "2024-11-07T05:18:36.416Z",
         "0"
        ],
        [
         "4",
         "5",
         "90",
         "37",
         "1",
         "5001",
         "1",
         "2.0",
         "5",
         "2.0",
         "1",
         "0",
         "1626131341",
         "2",
         "0.0",
         "0.0",
         "601491.0",
         "1305000000.0",
         "1383485100.0",
         "69.0",
         "6.0",
         "0.0",
         "0.0",
         "0.0",
         "0.0",
         "0.0",
         "0.0",
         "0.0",
         "0.0",
         "0.0",
         "0.0",
         "29.0",
         "0.0",
         "0.0",
         "0.0",
         "0.0",
         "0.0",
         "0.0",
         "0.0",
         "0.0",
         "0.0",
         "6.0",
         "0.0",
         "0.0",
         "0.0",
         "0.0",
         "0.0",
         "0.0",
         "0.0",
         "0.0",
         "0.0",
         "0.0",
         "1.0",
         "725680400.0",
         "3.0",
         null,
         null,
         null,
         null,
         "2204612225.0",
         null,
         "100000000.0",
         null,
         null,
         null,
         null,
         null,
         null,
         null,
         null,
         "1.0",
         "0.0",
         "1.0",
         "0.0",
         "0.0",
         "0.0",
         "0.0",
         "0.0",
         "0.0",
         "0.0",
         "0.0",
         "83000.0",
         "3.0",
         "PENSIONADOS",
         "0.0",
         "0.0",
         "0.0",
         "0.0",
         "0.0",
         "0.0",
         "0.0",
         "0.0",
         "0.0",
         "0.0",
         "0.0",
         "0.0",
         "0.0",
         "0.0",
         "0.0",
         "0.0",
         "0.0",
         "0.0",
         "0.0",
         "0.0",
         "0.0",
         "0.0",
         "0.0",
         "0.0",
         "0.0",
         "0.0",
         "0.0",
         "0.0",
         "0.0",
         "0.0",
         "0.0",
         "0.0",
         "0.0",
         "0.0",
         "0.0",
         "0.0",
         "0.0",
         "0.0",
         "0.0",
         "0.0",
         "0.0",
         "0.0",
         "0.0",
         "0.0",
         "0.0",
         "0.0",
         "78280000.0",
         "8.0",
         "0.0",
         "0.0",
         "0.0",
         "0.0",
         "0.0",
         "0.0",
         "0.0",
         "0.0",
         "0.0",
         "0.0",
         "0.0",
         "0.0",
         "0.0",
         "0.0",
         "0.0",
         "0.0",
         "42018200.0",
         "4.0",
         "0.0",
         "0.0",
         "0.0",
         "0.0",
         "0.0",
         "0.0",
         "0.0",
         "0.0",
         "0.0",
         "0.0",
         "0.0",
         "0.0",
         "0.0",
         "0.0",
         "2024-11-07T05:18:36.416Z",
         "0"
        ]
       ],
       "shape": {
        "columns": 165,
        "rows": 5
       }
      },
      "text/html": [
       "<div>\n",
       "<style scoped>\n",
       "    .dataframe tbody tr th:only-of-type {\n",
       "        vertical-align: middle;\n",
       "    }\n",
       "\n",
       "    .dataframe tbody tr th {\n",
       "        vertical-align: top;\n",
       "    }\n",
       "\n",
       "    .dataframe thead th {\n",
       "        text-align: right;\n",
       "    }\n",
       "</style>\n",
       "<table border=\"1\" class=\"dataframe\">\n",
       "  <thead>\n",
       "    <tr style=\"text-align: right;\">\n",
       "      <th></th>\n",
       "      <th>identificador_cliente</th>\n",
       "      <th>cust_age_number</th>\n",
       "      <th>customer_seniority_number</th>\n",
       "      <th>main_city_type</th>\n",
       "      <th>town_id</th>\n",
       "      <th>personal_type</th>\n",
       "      <th>marital_status_type</th>\n",
       "      <th>address_relationship_type</th>\n",
       "      <th>adult_dependants_number</th>\n",
       "      <th>target_type</th>\n",
       "      <th>...</th>\n",
       "      <th>cr_dbt_card_tech_expns_amount</th>\n",
       "      <th>cr_debit_card_tech_op_number</th>\n",
       "      <th>cr_dbt_cd_tourism_expns_amount</th>\n",
       "      <th>cr_debit_cd_tourism_op_number</th>\n",
       "      <th>cr_dbt_cd_clothes_expns_amount</th>\n",
       "      <th>cr_debit_cd_clothes_op_number</th>\n",
       "      <th>cr_dbt_card_prvs_expns_amount</th>\n",
       "      <th>cr_debit_card_prvs_op_number</th>\n",
       "      <th>audit_date</th>\n",
       "      <th>alta_tdc</th>\n",
       "    </tr>\n",
       "  </thead>\n",
       "  <tbody>\n",
       "    <tr>\n",
       "      <th>0</th>\n",
       "      <td>1</td>\n",
       "      <td>68</td>\n",
       "      <td>37</td>\n",
       "      <td>1</td>\n",
       "      <td>11001</td>\n",
       "      <td>1</td>\n",
       "      <td>1.0</td>\n",
       "      <td>3</td>\n",
       "      <td>0.0</td>\n",
       "      <td>1</td>\n",
       "      <td>...</td>\n",
       "      <td>12545000.0</td>\n",
       "      <td>3.0</td>\n",
       "      <td>0.0</td>\n",
       "      <td>0.0</td>\n",
       "      <td>8500000.0</td>\n",
       "      <td>1.0</td>\n",
       "      <td>18852200.0</td>\n",
       "      <td>5.0</td>\n",
       "      <td>2024-11-07T05:18:36.416Z</td>\n",
       "      <td>0</td>\n",
       "    </tr>\n",
       "    <tr>\n",
       "      <th>1</th>\n",
       "      <td>2</td>\n",
       "      <td>92</td>\n",
       "      <td>37</td>\n",
       "      <td>1</td>\n",
       "      <td>11001</td>\n",
       "      <td>1</td>\n",
       "      <td>2.0</td>\n",
       "      <td>3</td>\n",
       "      <td>0.0</td>\n",
       "      <td>1</td>\n",
       "      <td>...</td>\n",
       "      <td>NaN</td>\n",
       "      <td>NaN</td>\n",
       "      <td>NaN</td>\n",
       "      <td>NaN</td>\n",
       "      <td>NaN</td>\n",
       "      <td>NaN</td>\n",
       "      <td>NaN</td>\n",
       "      <td>NaN</td>\n",
       "      <td>2024-11-07T05:18:36.416Z</td>\n",
       "      <td>0</td>\n",
       "    </tr>\n",
       "    <tr>\n",
       "      <th>2</th>\n",
       "      <td>3</td>\n",
       "      <td>70</td>\n",
       "      <td>27</td>\n",
       "      <td>0</td>\n",
       "      <td>25572</td>\n",
       "      <td>1</td>\n",
       "      <td>2.0</td>\n",
       "      <td>2</td>\n",
       "      <td>NaN</td>\n",
       "      <td>1</td>\n",
       "      <td>...</td>\n",
       "      <td>0.0</td>\n",
       "      <td>0.0</td>\n",
       "      <td>0.0</td>\n",
       "      <td>0.0</td>\n",
       "      <td>0.0</td>\n",
       "      <td>0.0</td>\n",
       "      <td>0.0</td>\n",
       "      <td>0.0</td>\n",
       "      <td>2024-11-07T05:18:36.416Z</td>\n",
       "      <td>0</td>\n",
       "    </tr>\n",
       "    <tr>\n",
       "      <th>3</th>\n",
       "      <td>4</td>\n",
       "      <td>76</td>\n",
       "      <td>27</td>\n",
       "      <td>0</td>\n",
       "      <td>25290</td>\n",
       "      <td>1</td>\n",
       "      <td>2.0</td>\n",
       "      <td>3</td>\n",
       "      <td>NaN</td>\n",
       "      <td>1</td>\n",
       "      <td>...</td>\n",
       "      <td>NaN</td>\n",
       "      <td>NaN</td>\n",
       "      <td>NaN</td>\n",
       "      <td>NaN</td>\n",
       "      <td>NaN</td>\n",
       "      <td>NaN</td>\n",
       "      <td>NaN</td>\n",
       "      <td>NaN</td>\n",
       "      <td>2024-11-07T05:18:36.416Z</td>\n",
       "      <td>0</td>\n",
       "    </tr>\n",
       "    <tr>\n",
       "      <th>4</th>\n",
       "      <td>5</td>\n",
       "      <td>90</td>\n",
       "      <td>37</td>\n",
       "      <td>1</td>\n",
       "      <td>5001</td>\n",
       "      <td>1</td>\n",
       "      <td>2.0</td>\n",
       "      <td>5</td>\n",
       "      <td>2.0</td>\n",
       "      <td>1</td>\n",
       "      <td>...</td>\n",
       "      <td>0.0</td>\n",
       "      <td>0.0</td>\n",
       "      <td>0.0</td>\n",
       "      <td>0.0</td>\n",
       "      <td>0.0</td>\n",
       "      <td>0.0</td>\n",
       "      <td>0.0</td>\n",
       "      <td>0.0</td>\n",
       "      <td>2024-11-07T05:18:36.416Z</td>\n",
       "      <td>0</td>\n",
       "    </tr>\n",
       "  </tbody>\n",
       "</table>\n",
       "<p>5 rows × 165 columns</p>\n",
       "</div>"
      ],
      "text/plain": [
       "   identificador_cliente  cust_age_number  customer_seniority_number  \\\n",
       "0                      1               68                         37   \n",
       "1                      2               92                         37   \n",
       "2                      3               70                         27   \n",
       "3                      4               76                         27   \n",
       "4                      5               90                         37   \n",
       "\n",
       "   main_city_type town_id personal_type  marital_status_type  \\\n",
       "0               1   11001             1                  1.0   \n",
       "1               1   11001             1                  2.0   \n",
       "2               0   25572             1                  2.0   \n",
       "3               0   25290             1                  2.0   \n",
       "4               1    5001             1                  2.0   \n",
       "\n",
       "   address_relationship_type  adult_dependants_number  target_type  ...  \\\n",
       "0                          3                      0.0            1  ...   \n",
       "1                          3                      0.0            1  ...   \n",
       "2                          2                      NaN            1  ...   \n",
       "3                          3                      NaN            1  ...   \n",
       "4                          5                      2.0            1  ...   \n",
       "\n",
       "   cr_dbt_card_tech_expns_amount  cr_debit_card_tech_op_number  \\\n",
       "0                     12545000.0                           3.0   \n",
       "1                            NaN                           NaN   \n",
       "2                            0.0                           0.0   \n",
       "3                            NaN                           NaN   \n",
       "4                            0.0                           0.0   \n",
       "\n",
       "   cr_dbt_cd_tourism_expns_amount  cr_debit_cd_tourism_op_number  \\\n",
       "0                             0.0                            0.0   \n",
       "1                             NaN                            NaN   \n",
       "2                             0.0                            0.0   \n",
       "3                             NaN                            NaN   \n",
       "4                             0.0                            0.0   \n",
       "\n",
       "   cr_dbt_cd_clothes_expns_amount  cr_debit_cd_clothes_op_number  \\\n",
       "0                       8500000.0                            1.0   \n",
       "1                             NaN                            NaN   \n",
       "2                             0.0                            0.0   \n",
       "3                             NaN                            NaN   \n",
       "4                             0.0                            0.0   \n",
       "\n",
       "   cr_dbt_card_prvs_expns_amount  cr_debit_card_prvs_op_number  \\\n",
       "0                     18852200.0                           5.0   \n",
       "1                            NaN                           NaN   \n",
       "2                            0.0                           0.0   \n",
       "3                            NaN                           NaN   \n",
       "4                            0.0                           0.0   \n",
       "\n",
       "                 audit_date  alta_tdc  \n",
       "0  2024-11-07T05:18:36.416Z         0  \n",
       "1  2024-11-07T05:18:36.416Z         0  \n",
       "2  2024-11-07T05:18:36.416Z         0  \n",
       "3  2024-11-07T05:18:36.416Z         0  \n",
       "4  2024-11-07T05:18:36.416Z         0  \n",
       "\n",
       "[5 rows x 165 columns]"
      ]
     },
     "execution_count": 19,
     "metadata": {},
     "output_type": "execute_result"
    }
   ],
   "source": [
    "import pandas as pd\n",
    "import numpy as np\n",
    "import matplotlib.pyplot as plt\n",
    "\n",
    "from sklearn.model_selection import train_test_split\n",
    "from sklearn.pipeline import Pipeline\n",
    "from sklearn.compose import ColumnTransformer\n",
    "from sklearn.impute import SimpleImputer\n",
    "from sklearn.preprocessing import StandardScaler, OneHotEncoder\n",
    "from sklearn.ensemble import RandomForestClassifier\n",
    "from sklearn.metrics import classification_report, accuracy_score\n",
    "\n",
    "# Lectura del CSV de entrenamiento\n",
    "train_df = pd.read_csv('train_df.csv', delimiter=';', thousands='.', decimal=',')\n",
    "\n",
    "# Visualizamos las primeras filas del dataset\n",
    "train_df.head()"
   ]
  },
  {
   "cell_type": "code",
   "execution_count": 20,
   "metadata": {},
   "outputs": [
    {
     "name": "stdout",
     "output_type": "stream",
     "text": [
      "Columnas numéricas: ['cust_age_number', 'customer_seniority_number', 'main_city_type', 'marital_status_type', 'address_relationship_type', 'adult_dependants_number', 'target_type', 'customer_asset_amount', 'customer_liability_amount', 'customer_status_type', 'month_withdrawals_number', 'month_payment_number', 'month_purchase_number', 'm_exit_amount', 'm_entry_amount', 'mth_mbl_app_qry_number', 'mth_mbl_app_mnty_tr_number', 'mth_mbl_app_non_mnty_tr_number', 'month_atm_queries_number', 'atm_made_fin_trans_number', 'atm_made_nfin_tran_number', 'inquiries_digi_channel_number', 'dig_financial_trans_tot_number', 'dig_non_fin_trans_tot_number', 'mth_co_netcash_queries_number', 'mth_co_netc_non_mnty_tr_number', 'mth_co_netcash_mnty_tr_number', 'mth_ppl_netcash_queries_number', 'mth_ppl_netcash_mnty_tr_number', 'mth_pplnetc_non_mnty_tr_number', 'month_h2h_queries_number', 'month_h2h_mnty_tr_number', 'month_h2h_non_mnty_tr_number', 'month_webpage_queries_number', 'mth_webpage_mnty_tr_number', 'mth_webpage_non_mnty_tr_number', 'mth_ext_pos_queries_number', 'mth_ext_pos_mnty_tr_number', 'mth_ext_pos_non_mnty_tr_number', 'mth_ext_ntwrk_queries_number', 'mth_ext_ntwrk_mnty_tr_number', 'm_ext_ntwrk_non_mnty_tr_number', 'mth_banknet_queries_number', 'mth_banknet_mnty_tr_number', 'mth_banknet_non_mnty_tr_number', 'mth_third_party_queries_number', 'month_thpty_mnty_tr_number', 'month_thpty_non_mnty_tr_number', 'recv_payrl_transactions_number', 'current_payroll_incm_amount', 'payroll_type', 'instlmnt_1_bill_average_amount', 'cr_card_bill_average_amount', 'instlmnt_1_tr_average_per', 'instlmnt_1_transactions_type', 'saving_prdt_avg_bal_amount', 'fix_saving_prdt_avg_bal_amount', 'cdt_prdt_avg_balance_amount', 'consumer_cash_balance_amount', 'current_asset_amount', 'avg_balance_fund_amount', 'mtge_prdt_avg_balance_amount', 'bbva_payrl_oblg_tot_bal_amount', 'avg_cr_card_balance_amount', 'vehicle_credit_average_amount', 'lt_saving_prdt_avg_bal_amount', 'save_account_type', 'fixed_savings_tenure_type', 'term_cdt_tenure_type', 'tenure_consm_product_type', 'ownership_ca_type', 'funds_ownership_ind_type', 'ownership_mloan_type', 'libranza_tenure_mark_type', 'credit_card_ownshp_ind_type', 'vehicle_cr_tenure_mark_type', 'long_term_savings_tenure_type', 'new_segment_id', 'customer_products_number', 'cr_dbt_card_agric_expns_amount', 'cr_dbt_card_agric_op_number', 'cr_dbt_card_adv_expns_amount', 'cr_dbt_card_adv_op_number', 'cr_dbt_card_veh_expns_amount', 'cr_dbt_card_veh_op_number', 'cr_dbt_cd_beauty_expns_amount', 'cr_dbt_card_beauty_op_number', 'cr_dbt_cd_casino_expns_amount', 'cr_dbt_card_casino_op_number', 'cr_dbt_cd_cns_expns_amount', 'cr_dbt_card_cns_op_number', 'cr_dbt_cd_sport_expns_amount', 'cr_dbt_card_sport_op_number', 'cr_dbt_cd_digital_expns_amount', 'cr_dbt_cd_digital_op_number', 'cr_dbt_card_educ_expns_amount', 'cr_dbt_card_educ_op_number', 'cr_dbt_cd_co_stmp_expns_amount', 'cr_dbt_cd_co_stamp_op_number', 'cr_dbt_card_fcg_expns_amount', 'cr_dbt_card_fcg_op_number', 'cr_dbt_card_fndat_expns_amount', 'cr_dbt_card_fndat_op_number', 'cr_dbt_cd_funeral_expns_amount', 'cr_dbt_card_funeral_op_number', 'cr_dbt_card_govt_expns_amount', 'cr_dbt_card_govt_op_number', 'cr_dbt_card_home_expns_amount', 'cr_dbt_card_home_op_number', 'cr_dbt_card_inds_expns_amount', 'cr_dbt_card_inds_op_number', 'cr_dbt_card_re_expns_amount', 'cr_dbt_card_re_op_number', 'cr_dbt_card_jwlry_expns_amount', 'cr_dbt_card_jwlry_op_number', 'cr_dbt_cd_lbrtry_expns_amount', 'cr_dbt_cd_laboratory_op_number', 'cr_dbt_cd_lqr_str_expns_amount', 'cr_dbt_cd_lqr_str_op_number', 'cr_dbt_card_clng_expns_amount', 'cr_dbt_card_clng_op_number', 'cr_dbt_card_maint_expns_amount', 'cr_dbt_card_maint_op_number', 'cr_dbt_card_pets_expns_amount', 'cr_dbt_card_pets_op_number', 'cr_dbt_card_med_expns_amount', 'cr_dbt_card_med_op_number', 'cr_dbt_cd_courier_expns_amount', 'cr_dbt_card_courier_op_number', 'cr_dbt_card_misc_expns_amount', 'cr_debit_card_misc_op_number', 'cr_dbt_card_motel_expns_amount', 'cr_debit_card_motel_op_number', 'cr_dbt_cd_others_expns_amount', 'cr_debit_card_others_op_number', 'cr_dbt_cd_sttnry_expns_amount', 'cr_debit_card_sttnry_op_number', 'cr_dbt_cd_parkg_expns_amount', 'cr_debit_card_parkg_op_number', 'cr_dbt_cd_bakery_expns_amount', 'cr_debit_card_bakery_op_number', 'cr_dbt_cd_recyc_expns_amount', 'cr_debit_card_recyc_op_number', 'cr_dbt_cd_rstrnt_expns_amount', 'cr_debit_card_rstrnt_op_number', 'cr_dbt_cd_ins_expns_amount', 'cr_debit_card_ins_op_number', 'cr_dbt_cd_pub_srv_expns_amount', 'cr_debit_cd_pub_srv_op_number', 'cr_dbt_card_spmk_expns_amount', 'cr_debit_card_spmk_op_number', 'cr_dbt_card_tech_expns_amount', 'cr_debit_card_tech_op_number', 'cr_dbt_cd_tourism_expns_amount', 'cr_debit_cd_tourism_op_number', 'cr_dbt_cd_clothes_expns_amount', 'cr_debit_cd_clothes_op_number', 'cr_dbt_card_prvs_expns_amount', 'cr_debit_card_prvs_op_number']\n",
      "Columnas categóricas (antes de conversión): ['town_id', 'personal_type', 'collective_name', 'audit_date']\n"
     ]
    }
   ],
   "source": [
    "# Definir variables objetivo e identificación\n",
    "target = 'alta_tdc'\n",
    "id_col = 'identificador_cliente'\n",
    "\n",
    "# Separar características (X) y variable objetivo (y)\n",
    "X = train_df.drop([target, id_col], axis=1)\n",
    "y = train_df[target]\n",
    "\n",
    "# Seleccionar columnas numéricas y categóricas\n",
    "num_cols = X.select_dtypes(include=['number']).columns.tolist()\n",
    "cat_cols = X.select_dtypes(exclude=['number']).columns.tolist()\n",
    "\n",
    "print(\"Columnas numéricas:\", num_cols)\n",
    "print(\"Columnas categóricas (antes de conversión):\", cat_cols)\n",
    "\n",
    "# Convertir columnas categóricas a string\n",
    "X[cat_cols] = X[cat_cols].astype(str)\n"
   ]
  },
  {
   "cell_type": "code",
   "execution_count": 21,
   "metadata": {},
   "outputs": [],
   "source": [
    "# Pipeline para variables numéricas\n",
    "numeric_transformer = Pipeline(steps=[\n",
    "    ('imputer', SimpleImputer(strategy='median')),\n",
    "    ('scaler', StandardScaler())\n",
    "])\n",
    "\n",
    "# Pipeline para variables categóricas\n",
    "categorical_transformer = Pipeline(steps=[\n",
    "    ('imputer', SimpleImputer(strategy='most_frequent')),\n",
    "    ('onehot', OneHotEncoder(handle_unknown='ignore'))\n",
    "])\n",
    "\n",
    "# Combinar ambos pipelines con ColumnTransformer\n",
    "preprocessor = ColumnTransformer(transformers=[\n",
    "    ('num', numeric_transformer, num_cols),\n",
    "    ('cat', categorical_transformer, cat_cols)\n",
    "])\n",
    "\n",
    "# Pipeline completo: preprocesamiento + modelo (inicial sin optimización)\n",
    "clf = Pipeline(steps=[\n",
    "    ('preprocessor', preprocessor),\n",
    "    ('classifier', RandomForestClassifier(n_estimators=100, random_state=42))\n",
    "])\n"
   ]
  },
  {
   "cell_type": "code",
   "execution_count": null,
   "metadata": {},
   "outputs": [],
   "source": [
    "# División en conjuntos de entrenamiento y prueba\n",
    "X_train, X_test, y_train, y_test = train_test_split(X, y, test_size=0.2, random_state=42)\n",
    "\n",
    "# Entrenamiento del modelo\n",
    "clf.fit(X_train, y_train)\n",
    "\n",
    "# Predicción y evaluación\n",
    "y_pred = clf.predict(X_test)\n",
    "\n",
    "print(\"\\nReporte de clasificación:\")\n",
    "print(classification_report(y_test, y_pred))\n",
    "print(\"Precisión:\", accuracy_score(y_test, y_pred))\n"
   ]
  },
  {
   "cell_type": "code",
   "execution_count": null,
   "metadata": {},
   "outputs": [
    {
     "name": "stdout",
     "output_type": "stream",
     "text": [
      "Defaulting to user installation because normal site-packages is not writeable\n",
      "Requirement already satisfied: optuna in c:\\users\\wilson.hernandez\\appdata\\roaming\\python\\python312\\site-packages (4.2.1)\n",
      "Requirement already satisfied: alembic>=1.5.0 in c:\\users\\wilson.hernandez\\appdata\\roaming\\python\\python312\\site-packages (from optuna) (1.14.1)\n",
      "Requirement already satisfied: colorlog in c:\\users\\wilson.hernandez\\appdata\\roaming\\python\\python312\\site-packages (from optuna) (6.9.0)\n",
      "Requirement already satisfied: numpy in c:\\programdata\\anaconda3\\lib\\site-packages (from optuna) (1.26.4)\n",
      "Requirement already satisfied: packaging>=20.0 in c:\\programdata\\anaconda3\\lib\\site-packages (from optuna) (24.1)\n",
      "Requirement already satisfied: sqlalchemy>=1.4.2 in c:\\programdata\\anaconda3\\lib\\site-packages (from optuna) (2.0.34)\n",
      "Requirement already satisfied: tqdm in c:\\programdata\\anaconda3\\lib\\site-packages (from optuna) (4.66.5)\n",
      "Requirement already satisfied: PyYAML in c:\\programdata\\anaconda3\\lib\\site-packages (from optuna) (6.0.1)\n",
      "Requirement already satisfied: Mako in c:\\users\\wilson.hernandez\\appdata\\roaming\\python\\python312\\site-packages (from alembic>=1.5.0->optuna) (1.3.9)\n",
      "Requirement already satisfied: typing-extensions>=4 in c:\\programdata\\anaconda3\\lib\\site-packages (from alembic>=1.5.0->optuna) (4.11.0)\n",
      "Requirement already satisfied: greenlet!=0.4.17 in c:\\programdata\\anaconda3\\lib\\site-packages (from sqlalchemy>=1.4.2->optuna) (3.0.1)\n",
      "Requirement already satisfied: colorama in c:\\programdata\\anaconda3\\lib\\site-packages (from colorlog->optuna) (0.4.6)\n",
      "Requirement already satisfied: MarkupSafe>=0.9.2 in c:\\programdata\\anaconda3\\lib\\site-packages (from Mako->alembic>=1.5.0->optuna) (2.1.3)\n"
     ]
    }
   ],
   "source": [
    "!pip install optuna"
   ]
  },
  {
   "cell_type": "code",
   "execution_count": null,
   "metadata": {},
   "outputs": [
    {
     "name": "stdout",
     "output_type": "stream",
     "text": [
      "Defaulting to user installation because normal site-packages is not writeable\n",
      "Collecting xgboost\n",
      "  Downloading xgboost-2.1.4-py3-none-win_amd64.whl.metadata (2.1 kB)\n",
      "Collecting lightgbm\n",
      "  Downloading lightgbm-4.6.0-py3-none-win_amd64.whl.metadata (17 kB)\n",
      "Requirement already satisfied: numpy in c:\\programdata\\anaconda3\\lib\\site-packages (from xgboost) (1.26.4)\n",
      "Requirement already satisfied: scipy in c:\\programdata\\anaconda3\\lib\\site-packages (from xgboost) (1.13.1)\n",
      "Downloading xgboost-2.1.4-py3-none-win_amd64.whl (124.9 MB)\n",
      "   ---------------------------------------- 0.0/124.9 MB ? eta -:--:--\n",
      "   -- ------------------------------------- 6.6/124.9 MB 33.6 MB/s eta 0:00:04\n",
      "   ------ --------------------------------- 20.4/124.9 MB 49.7 MB/s eta 0:00:03\n",
      "   ----------- ---------------------------- 36.7/124.9 MB 59.8 MB/s eta 0:00:02\n",
      "   ---------------- ----------------------- 50.1/124.9 MB 60.2 MB/s eta 0:00:02\n",
      "   --------------------- ------------------ 67.6/124.9 MB 64.3 MB/s eta 0:00:01\n",
      "   --------------------------- ------------ 84.7/124.9 MB 66.7 MB/s eta 0:00:01\n",
      "   ------------------------------- ------- 101.4/124.9 MB 68.2 MB/s eta 0:00:01\n",
      "   ------------------------------------- - 118.8/124.9 MB 69.6 MB/s eta 0:00:01\n",
      "   --------------------------------------  124.8/124.9 MB 70.5 MB/s eta 0:00:01\n",
      "   --------------------------------------- 124.9/124.9 MB 62.3 MB/s eta 0:00:00\n",
      "Downloading lightgbm-4.6.0-py3-none-win_amd64.whl (1.5 MB)\n",
      "   ---------------------------------------- 0.0/1.5 MB ? eta -:--:--\n",
      "   ---------------------------------------- 1.5/1.5 MB 38.4 MB/s eta 0:00:00\n",
      "Installing collected packages: xgboost, lightgbm\n",
      "Successfully installed lightgbm-4.6.0 xgboost-2.1.4\n"
     ]
    }
   ],
   "source": [
    "!pip install xgboost lightgbm"
   ]
  },
  {
   "cell_type": "code",
   "execution_count": 9,
   "metadata": {},
   "outputs": [],
   "source": [
    "#!pip install tensorflow"
   ]
  },
  {
   "cell_type": "code",
   "execution_count": null,
   "metadata": {},
   "outputs": [
    {
     "name": "stderr",
     "output_type": "stream",
     "text": [
      "  WARNING: The script tensorboard.exe is installed in 'C:\\Users\\wilson.hernandez\\AppData\\Roaming\\Python\\Python312\\Scripts' which is not on PATH.\n",
      "  Consider adding this directory to PATH or, if you prefer to suppress this warning, use --no-warn-script-location.\n",
      "  WARNING: The scripts import_pb_to_tensorboard.exe, saved_model_cli.exe, tensorboard.exe, tf_upgrade_v2.exe, tflite_convert.exe, toco.exe and toco_from_protos.exe are installed in 'C:\\Users\\wilson.hernandez\\AppData\\Roaming\\Python\\Python312\\Scripts' which is not on PATH.\n",
      "  Consider adding this directory to PATH or, if you prefer to suppress this warning, use --no-warn-script-location.\n"
     ]
    },
    {
     "name": "stdout",
     "output_type": "stream",
     "text": [
      "Note: you may need to restart the kernel to use updated packages.\n",
      "Defaulting to user installation because normal site-packages is not writeable\n",
      "Collecting tensorflow\n",
      "  Downloading tensorflow-2.18.0-cp312-cp312-win_amd64.whl.metadata (3.3 kB)\n",
      "Collecting tensorflow-intel==2.18.0 (from tensorflow)\n",
      "  Downloading tensorflow_intel-2.18.0-cp312-cp312-win_amd64.whl.metadata (4.9 kB)\n",
      "Collecting absl-py>=1.0.0 (from tensorflow-intel==2.18.0->tensorflow)\n",
      "  Downloading absl_py-2.1.0-py3-none-any.whl.metadata (2.3 kB)\n",
      "Collecting astunparse>=1.6.0 (from tensorflow-intel==2.18.0->tensorflow)\n",
      "  Downloading astunparse-1.6.3-py2.py3-none-any.whl.metadata (4.4 kB)\n",
      "Collecting flatbuffers>=24.3.25 (from tensorflow-intel==2.18.0->tensorflow)\n",
      "  Downloading flatbuffers-25.2.10-py2.py3-none-any.whl.metadata (875 bytes)\n",
      "Collecting gast!=0.5.0,!=0.5.1,!=0.5.2,>=0.2.1 (from tensorflow-intel==2.18.0->tensorflow)\n",
      "  Downloading gast-0.6.0-py3-none-any.whl.metadata (1.3 kB)\n",
      "Collecting google-pasta>=0.1.1 (from tensorflow-intel==2.18.0->tensorflow)\n",
      "  Downloading google_pasta-0.2.0-py3-none-any.whl.metadata (814 bytes)\n",
      "Collecting libclang>=13.0.0 (from tensorflow-intel==2.18.0->tensorflow)\n",
      "  Downloading libclang-18.1.1-py2.py3-none-win_amd64.whl.metadata (5.3 kB)\n",
      "Collecting opt-einsum>=2.3.2 (from tensorflow-intel==2.18.0->tensorflow)\n",
      "  Downloading opt_einsum-3.4.0-py3-none-any.whl.metadata (6.3 kB)\n",
      "Requirement already satisfied: packaging in c:\\programdata\\anaconda3\\lib\\site-packages (from tensorflow-intel==2.18.0->tensorflow) (24.1)\n",
      "Requirement already satisfied: protobuf!=4.21.0,!=4.21.1,!=4.21.2,!=4.21.3,!=4.21.4,!=4.21.5,<6.0.0dev,>=3.20.3 in c:\\programdata\\anaconda3\\lib\\site-packages (from tensorflow-intel==2.18.0->tensorflow) (4.25.3)\n",
      "Requirement already satisfied: requests<3,>=2.21.0 in c:\\programdata\\anaconda3\\lib\\site-packages (from tensorflow-intel==2.18.0->tensorflow) (2.32.3)\n",
      "Requirement already satisfied: setuptools in c:\\programdata\\anaconda3\\lib\\site-packages (from tensorflow-intel==2.18.0->tensorflow) (75.1.0)\n",
      "Requirement already satisfied: six>=1.12.0 in c:\\programdata\\anaconda3\\lib\\site-packages (from tensorflow-intel==2.18.0->tensorflow) (1.16.0)\n",
      "Collecting termcolor>=1.1.0 (from tensorflow-intel==2.18.0->tensorflow)\n",
      "  Downloading termcolor-2.5.0-py3-none-any.whl.metadata (6.1 kB)\n",
      "Requirement already satisfied: typing-extensions>=3.6.6 in c:\\programdata\\anaconda3\\lib\\site-packages (from tensorflow-intel==2.18.0->tensorflow) (4.11.0)\n",
      "Requirement already satisfied: wrapt>=1.11.0 in c:\\programdata\\anaconda3\\lib\\site-packages (from tensorflow-intel==2.18.0->tensorflow) (1.14.1)\n",
      "Collecting grpcio<2.0,>=1.24.3 (from tensorflow-intel==2.18.0->tensorflow)\n",
      "  Downloading grpcio-1.70.0-cp312-cp312-win_amd64.whl.metadata (4.0 kB)\n",
      "Collecting tensorboard<2.19,>=2.18 (from tensorflow-intel==2.18.0->tensorflow)\n",
      "  Downloading tensorboard-2.18.0-py3-none-any.whl.metadata (1.6 kB)\n",
      "Collecting keras>=3.5.0 (from tensorflow-intel==2.18.0->tensorflow)\n",
      "  Downloading keras-3.8.0-py3-none-any.whl.metadata (5.8 kB)\n",
      "Requirement already satisfied: numpy<2.1.0,>=1.26.0 in c:\\programdata\\anaconda3\\lib\\site-packages (from tensorflow-intel==2.18.0->tensorflow) (1.26.4)\n",
      "Requirement already satisfied: h5py>=3.11.0 in c:\\programdata\\anaconda3\\lib\\site-packages (from tensorflow-intel==2.18.0->tensorflow) (3.11.0)\n",
      "Collecting ml-dtypes<0.5.0,>=0.4.0 (from tensorflow-intel==2.18.0->tensorflow)\n",
      "  Downloading ml_dtypes-0.4.1-cp312-cp312-win_amd64.whl.metadata (20 kB)\n",
      "Requirement already satisfied: wheel<1.0,>=0.23.0 in c:\\programdata\\anaconda3\\lib\\site-packages (from astunparse>=1.6.0->tensorflow-intel==2.18.0->tensorflow) (0.44.0)\n",
      "Requirement already satisfied: rich in c:\\programdata\\anaconda3\\lib\\site-packages (from keras>=3.5.0->tensorflow-intel==2.18.0->tensorflow) (13.7.1)\n",
      "Collecting namex (from keras>=3.5.0->tensorflow-intel==2.18.0->tensorflow)\n",
      "  Downloading namex-0.0.8-py3-none-any.whl.metadata (246 bytes)\n",
      "Collecting optree (from keras>=3.5.0->tensorflow-intel==2.18.0->tensorflow)\n",
      "  Downloading optree-0.14.1-cp312-cp312-win_amd64.whl.metadata (50 kB)\n",
      "Requirement already satisfied: charset-normalizer<4,>=2 in c:\\programdata\\anaconda3\\lib\\site-packages (from requests<3,>=2.21.0->tensorflow-intel==2.18.0->tensorflow) (3.3.2)\n",
      "Requirement already satisfied: idna<4,>=2.5 in c:\\programdata\\anaconda3\\lib\\site-packages (from requests<3,>=2.21.0->tensorflow-intel==2.18.0->tensorflow) (3.7)\n",
      "Requirement already satisfied: urllib3<3,>=1.21.1 in c:\\programdata\\anaconda3\\lib\\site-packages (from requests<3,>=2.21.0->tensorflow-intel==2.18.0->tensorflow) (2.2.3)\n",
      "Requirement already satisfied: certifi>=2017.4.17 in c:\\programdata\\anaconda3\\lib\\site-packages (from requests<3,>=2.21.0->tensorflow-intel==2.18.0->tensorflow) (2024.8.30)\n",
      "Requirement already satisfied: markdown>=2.6.8 in c:\\programdata\\anaconda3\\lib\\site-packages (from tensorboard<2.19,>=2.18->tensorflow-intel==2.18.0->tensorflow) (3.4.1)\n",
      "Collecting tensorboard-data-server<0.8.0,>=0.7.0 (from tensorboard<2.19,>=2.18->tensorflow-intel==2.18.0->tensorflow)\n",
      "  Downloading tensorboard_data_server-0.7.2-py3-none-any.whl.metadata (1.1 kB)\n",
      "Requirement already satisfied: werkzeug>=1.0.1 in c:\\programdata\\anaconda3\\lib\\site-packages (from tensorboard<2.19,>=2.18->tensorflow-intel==2.18.0->tensorflow) (3.0.3)\n",
      "Requirement already satisfied: MarkupSafe>=2.1.1 in c:\\programdata\\anaconda3\\lib\\site-packages (from werkzeug>=1.0.1->tensorboard<2.19,>=2.18->tensorflow-intel==2.18.0->tensorflow) (2.1.3)\n",
      "Requirement already satisfied: markdown-it-py>=2.2.0 in c:\\programdata\\anaconda3\\lib\\site-packages (from rich->keras>=3.5.0->tensorflow-intel==2.18.0->tensorflow) (2.2.0)\n",
      "Requirement already satisfied: pygments<3.0.0,>=2.13.0 in c:\\programdata\\anaconda3\\lib\\site-packages (from rich->keras>=3.5.0->tensorflow-intel==2.18.0->tensorflow) (2.15.1)\n",
      "Requirement already satisfied: mdurl~=0.1 in c:\\programdata\\anaconda3\\lib\\site-packages (from markdown-it-py>=2.2.0->rich->keras>=3.5.0->tensorflow-intel==2.18.0->tensorflow) (0.1.0)\n",
      "Downloading tensorflow-2.18.0-cp312-cp312-win_amd64.whl (7.5 kB)\n",
      "Downloading tensorflow_intel-2.18.0-cp312-cp312-win_amd64.whl (390.3 MB)\n",
      "   ---------------------------------------- 0.0/390.3 MB ? eta -:--:--\n",
      "    --------------------------------------- 5.5/390.3 MB 27.9 MB/s eta 0:00:14\n",
      "   -- ------------------------------------- 20.7/390.3 MB 52.3 MB/s eta 0:00:08\n",
      "   --- ------------------------------------ 33.0/390.3 MB 55.2 MB/s eta 0:00:07\n",
      "   ---- ----------------------------------- 46.4/390.3 MB 57.9 MB/s eta 0:00:06\n",
      "   ----- ---------------------------------- 53.5/390.3 MB 54.0 MB/s eta 0:00:07\n",
      "   ------ --------------------------------- 60.8/390.3 MB 51.7 MB/s eta 0:00:07\n",
      "   ------- -------------------------------- 69.2/390.3 MB 48.5 MB/s eta 0:00:07\n",
      "   -------- ------------------------------- 82.3/390.3 MB 50.0 MB/s eta 0:00:07\n",
      "   --------- ------------------------------ 95.2/390.3 MB 51.5 MB/s eta 0:00:06\n",
      "   ----------- --------------------------- 110.1/390.3 MB 53.7 MB/s eta 0:00:06\n",
      "   ------------ -------------------------- 122.2/390.3 MB 53.4 MB/s eta 0:00:06\n",
      "   ------------- ------------------------- 138.9/390.3 MB 55.8 MB/s eta 0:00:05\n",
      "   --------------- ----------------------- 154.4/390.3 MB 57.0 MB/s eta 0:00:05\n",
      "   ---------------- ---------------------- 166.7/390.3 MB 57.3 MB/s eta 0:00:04\n",
      "   ------------------ -------------------- 180.6/390.3 MB 57.4 MB/s eta 0:00:04\n",
      "   ------------------- ------------------- 195.3/390.3 MB 58.0 MB/s eta 0:00:04\n",
      "   -------------------- ------------------ 208.7/390.3 MB 58.2 MB/s eta 0:00:04\n",
      "   ---------------------- ---------------- 222.3/390.3 MB 58.5 MB/s eta 0:00:03\n",
      "   ----------------------- --------------- 238.6/390.3 MB 59.3 MB/s eta 0:00:03\n",
      "   ------------------------- ------------- 250.6/390.3 MB 59.8 MB/s eta 0:00:03\n",
      "   -------------------------- ------------ 265.3/390.3 MB 60.7 MB/s eta 0:00:03\n",
      "   --------------------------- ----------- 274.7/390.3 MB 60.1 MB/s eta 0:00:02\n",
      "   ---------------------------- ---------- 284.4/390.3 MB 58.8 MB/s eta 0:00:02\n",
      "   ----------------------------- --------- 296.7/390.3 MB 58.8 MB/s eta 0:00:02\n",
      "   ------------------------------ -------- 309.3/390.3 MB 59.0 MB/s eta 0:00:02\n",
      "   -------------------------------- ------ 323.5/390.3 MB 61.2 MB/s eta 0:00:02\n",
      "   --------------------------------- ----- 332.7/390.3 MB 61.4 MB/s eta 0:00:01\n",
      "   ---------------------------------- ---- 346.6/390.3 MB 61.2 MB/s eta 0:00:01\n",
      "   ----------------------------------- --- 357.6/390.3 MB 60.9 MB/s eta 0:00:01\n",
      "   ------------------------------------ -- 362.8/390.3 MB 59.0 MB/s eta 0:00:01\n",
      "   ------------------------------------- - 373.8/390.3 MB 58.6 MB/s eta 0:00:01\n",
      "   --------------------------------------  389.5/390.3 MB 59.2 MB/s eta 0:00:01\n",
      "   --------------------------------------  390.1/390.3 MB 59.0 MB/s eta 0:00:01\n",
      "   --------------------------------------  390.1/390.3 MB 59.0 MB/s eta 0:00:01\n",
      "   --------------------------------------  390.1/390.3 MB 59.0 MB/s eta 0:00:01\n",
      "   --------------------------------------- 390.3/390.3 MB 50.9 MB/s eta 0:00:00\n",
      "Downloading absl_py-2.1.0-py3-none-any.whl (133 kB)\n",
      "Downloading astunparse-1.6.3-py2.py3-none-any.whl (12 kB)\n",
      "Downloading flatbuffers-25.2.10-py2.py3-none-any.whl (30 kB)\n",
      "Downloading gast-0.6.0-py3-none-any.whl (21 kB)\n",
      "Downloading google_pasta-0.2.0-py3-none-any.whl (57 kB)\n",
      "Downloading grpcio-1.70.0-cp312-cp312-win_amd64.whl (4.3 MB)\n",
      "   ---------------------------------------- 0.0/4.3 MB ? eta -:--:--\n",
      "   ---------------------------------------- 4.3/4.3 MB 51.7 MB/s eta 0:00:00\n",
      "Downloading keras-3.8.0-py3-none-any.whl (1.3 MB)\n",
      "   ---------------------------------------- 0.0/1.3 MB ? eta -:--:--\n",
      "   ---------------------------------------- 1.3/1.3 MB 65.0 MB/s eta 0:00:00\n",
      "Downloading libclang-18.1.1-py2.py3-none-win_amd64.whl (26.4 MB)\n",
      "   ---------------------------------------- 0.0/26.4 MB ? eta -:--:--\n",
      "   ----------------------- ---------------- 15.7/26.4 MB 76.2 MB/s eta 0:00:01\n",
      "   ---------------------------------------- 26.4/26.4 MB 64.4 MB/s eta 0:00:00\n",
      "Downloading ml_dtypes-0.4.1-cp312-cp312-win_amd64.whl (127 kB)\n",
      "Downloading opt_einsum-3.4.0-py3-none-any.whl (71 kB)\n",
      "Downloading tensorboard-2.18.0-py3-none-any.whl (5.5 MB)\n",
      "   ---------------------------------------- 0.0/5.5 MB ? eta -:--:--\n",
      "   ---------------------------------------- 5.5/5.5 MB 55.8 MB/s eta 0:00:00\n",
      "Downloading termcolor-2.5.0-py3-none-any.whl (7.8 kB)\n",
      "Downloading tensorboard_data_server-0.7.2-py3-none-any.whl (2.4 kB)\n",
      "Downloading namex-0.0.8-py3-none-any.whl (5.8 kB)\n",
      "Downloading optree-0.14.1-cp312-cp312-win_amd64.whl (306 kB)\n",
      "Installing collected packages: namex, libclang, flatbuffers, termcolor, tensorboard-data-server, optree, opt-einsum, ml-dtypes, grpcio, google-pasta, gast, astunparse, absl-py, tensorboard, keras, tensorflow-intel, tensorflow\n",
      "Successfully installed absl-py-2.1.0 astunparse-1.6.3 flatbuffers-25.2.10 gast-0.6.0 google-pasta-0.2.0 grpcio-1.70.0 keras-3.8.0 libclang-18.1.1 ml-dtypes-0.4.1 namex-0.0.8 opt-einsum-3.4.0 optree-0.14.1 tensorboard-2.18.0 tensorboard-data-server-0.7.2 tensorflow-2.18.0 tensorflow-intel-2.18.0 termcolor-2.5.0\n"
     ]
    },
    {
     "name": "stderr",
     "output_type": "stream",
     "text": [
      "C:\\Users\\wilson.hernandez\\AppData\\Local\\Temp\\ipykernel_5112\\249666656.py:20: DtypeWarning: Columns (4,5) have mixed types. Specify dtype option on import or set low_memory=False.\n",
      "  train_df = pd.read_csv('train_df.csv', delimiter=';', thousands='.', decimal=',')\n"
     ]
    },
    {
     "name": "stdout",
     "output_type": "stream",
     "text": [
      "Columnas numéricas: ['cust_age_number', 'customer_seniority_number', 'main_city_type', 'marital_status_type', 'address_relationship_type', 'adult_dependants_number', 'target_type', 'customer_asset_amount', 'customer_liability_amount', 'customer_status_type', 'month_withdrawals_number', 'month_payment_number', 'month_purchase_number', 'm_exit_amount', 'm_entry_amount', 'mth_mbl_app_qry_number', 'mth_mbl_app_mnty_tr_number', 'mth_mbl_app_non_mnty_tr_number', 'month_atm_queries_number', 'atm_made_fin_trans_number', 'atm_made_nfin_tran_number', 'inquiries_digi_channel_number', 'dig_financial_trans_tot_number', 'dig_non_fin_trans_tot_number', 'mth_co_netcash_queries_number', 'mth_co_netc_non_mnty_tr_number', 'mth_co_netcash_mnty_tr_number', 'mth_ppl_netcash_queries_number', 'mth_ppl_netcash_mnty_tr_number', 'mth_pplnetc_non_mnty_tr_number', 'month_h2h_queries_number', 'month_h2h_mnty_tr_number', 'month_h2h_non_mnty_tr_number', 'month_webpage_queries_number', 'mth_webpage_mnty_tr_number', 'mth_webpage_non_mnty_tr_number', 'mth_ext_pos_queries_number', 'mth_ext_pos_mnty_tr_number', 'mth_ext_pos_non_mnty_tr_number', 'mth_ext_ntwrk_queries_number', 'mth_ext_ntwrk_mnty_tr_number', 'm_ext_ntwrk_non_mnty_tr_number', 'mth_banknet_queries_number', 'mth_banknet_mnty_tr_number', 'mth_banknet_non_mnty_tr_number', 'mth_third_party_queries_number', 'month_thpty_mnty_tr_number', 'month_thpty_non_mnty_tr_number', 'recv_payrl_transactions_number', 'current_payroll_incm_amount', 'payroll_type', 'instlmnt_1_bill_average_amount', 'cr_card_bill_average_amount', 'instlmnt_1_tr_average_per', 'instlmnt_1_transactions_type', 'saving_prdt_avg_bal_amount', 'fix_saving_prdt_avg_bal_amount', 'cdt_prdt_avg_balance_amount', 'consumer_cash_balance_amount', 'current_asset_amount', 'avg_balance_fund_amount', 'mtge_prdt_avg_balance_amount', 'bbva_payrl_oblg_tot_bal_amount', 'avg_cr_card_balance_amount', 'vehicle_credit_average_amount', 'lt_saving_prdt_avg_bal_amount', 'save_account_type', 'fixed_savings_tenure_type', 'term_cdt_tenure_type', 'tenure_consm_product_type', 'ownership_ca_type', 'funds_ownership_ind_type', 'ownership_mloan_type', 'libranza_tenure_mark_type', 'credit_card_ownshp_ind_type', 'vehicle_cr_tenure_mark_type', 'long_term_savings_tenure_type', 'new_segment_id', 'customer_products_number', 'cr_dbt_card_agric_expns_amount', 'cr_dbt_card_agric_op_number', 'cr_dbt_card_adv_expns_amount', 'cr_dbt_card_adv_op_number', 'cr_dbt_card_veh_expns_amount', 'cr_dbt_card_veh_op_number', 'cr_dbt_cd_beauty_expns_amount', 'cr_dbt_card_beauty_op_number', 'cr_dbt_cd_casino_expns_amount', 'cr_dbt_card_casino_op_number', 'cr_dbt_cd_cns_expns_amount', 'cr_dbt_card_cns_op_number', 'cr_dbt_cd_sport_expns_amount', 'cr_dbt_card_sport_op_number', 'cr_dbt_cd_digital_expns_amount', 'cr_dbt_cd_digital_op_number', 'cr_dbt_card_educ_expns_amount', 'cr_dbt_card_educ_op_number', 'cr_dbt_cd_co_stmp_expns_amount', 'cr_dbt_cd_co_stamp_op_number', 'cr_dbt_card_fcg_expns_amount', 'cr_dbt_card_fcg_op_number', 'cr_dbt_card_fndat_expns_amount', 'cr_dbt_card_fndat_op_number', 'cr_dbt_cd_funeral_expns_amount', 'cr_dbt_card_funeral_op_number', 'cr_dbt_card_govt_expns_amount', 'cr_dbt_card_govt_op_number', 'cr_dbt_card_home_expns_amount', 'cr_dbt_card_home_op_number', 'cr_dbt_card_inds_expns_amount', 'cr_dbt_card_inds_op_number', 'cr_dbt_card_re_expns_amount', 'cr_dbt_card_re_op_number', 'cr_dbt_card_jwlry_expns_amount', 'cr_dbt_card_jwlry_op_number', 'cr_dbt_cd_lbrtry_expns_amount', 'cr_dbt_cd_laboratory_op_number', 'cr_dbt_cd_lqr_str_expns_amount', 'cr_dbt_cd_lqr_str_op_number', 'cr_dbt_card_clng_expns_amount', 'cr_dbt_card_clng_op_number', 'cr_dbt_card_maint_expns_amount', 'cr_dbt_card_maint_op_number', 'cr_dbt_card_pets_expns_amount', 'cr_dbt_card_pets_op_number', 'cr_dbt_card_med_expns_amount', 'cr_dbt_card_med_op_number', 'cr_dbt_cd_courier_expns_amount', 'cr_dbt_card_courier_op_number', 'cr_dbt_card_misc_expns_amount', 'cr_debit_card_misc_op_number', 'cr_dbt_card_motel_expns_amount', 'cr_debit_card_motel_op_number', 'cr_dbt_cd_others_expns_amount', 'cr_debit_card_others_op_number', 'cr_dbt_cd_sttnry_expns_amount', 'cr_debit_card_sttnry_op_number', 'cr_dbt_cd_parkg_expns_amount', 'cr_debit_card_parkg_op_number', 'cr_dbt_cd_bakery_expns_amount', 'cr_debit_card_bakery_op_number', 'cr_dbt_cd_recyc_expns_amount', 'cr_debit_card_recyc_op_number', 'cr_dbt_cd_rstrnt_expns_amount', 'cr_debit_card_rstrnt_op_number', 'cr_dbt_cd_ins_expns_amount', 'cr_debit_card_ins_op_number', 'cr_dbt_cd_pub_srv_expns_amount', 'cr_debit_cd_pub_srv_op_number', 'cr_dbt_card_spmk_expns_amount', 'cr_debit_card_spmk_op_number', 'cr_dbt_card_tech_expns_amount', 'cr_debit_card_tech_op_number', 'cr_dbt_cd_tourism_expns_amount', 'cr_debit_cd_tourism_op_number', 'cr_dbt_cd_clothes_expns_amount', 'cr_debit_cd_clothes_op_number', 'cr_dbt_card_prvs_expns_amount', 'cr_debit_card_prvs_op_number']\n",
      "Columnas categóricas (antes de conversión): ['town_id', 'personal_type', 'collective_name', 'audit_date']\n",
      "Shape de X_train después del preprocesamiento: (9609, 984)\n",
      "Shape de X_test después del preprocesamiento: (2403, 984)\n",
      "Epoch 1/50\n",
      "\u001b[1m241/241\u001b[0m \u001b[32m━━━━━━━━━━━━━━━━━━━━\u001b[0m\u001b[37m\u001b[0m \u001b[1m5s\u001b[0m 8ms/step - accuracy: 0.8802 - loss: 0.3933 - precision: 0.1491 - recall: 0.0520 - val_accuracy: 0.8866 - val_loss: 0.3333 - val_precision: 0.0000e+00 - val_recall: 0.0000e+00\n",
      "Epoch 2/50\n",
      "\u001b[1m241/241\u001b[0m \u001b[32m━━━━━━━━━━━━━━━━━━━━\u001b[0m\u001b[37m\u001b[0m \u001b[1m1s\u001b[0m 5ms/step - accuracy: 0.8923 - loss: 0.3020 - precision: 0.5525 - recall: 0.0121 - val_accuracy: 0.8876 - val_loss: 0.3397 - val_precision: 0.6667 - val_recall: 0.0183\n",
      "Epoch 3/50\n",
      "\u001b[1m241/241\u001b[0m \u001b[32m━━━━━━━━━━━━━━━━━━━━\u001b[0m\u001b[37m\u001b[0m \u001b[1m1s\u001b[0m 5ms/step - accuracy: 0.9014 - loss: 0.2648 - precision: 0.6940 - recall: 0.0591 - val_accuracy: 0.8881 - val_loss: 0.3429 - val_precision: 0.8000 - val_recall: 0.0183\n",
      "Epoch 4/50\n",
      "\u001b[1m241/241\u001b[0m \u001b[32m━━━━━━━━━━━━━━━━━━━━\u001b[0m\u001b[37m\u001b[0m \u001b[1m1s\u001b[0m 4ms/step - accuracy: 0.9063 - loss: 0.2402 - precision: 0.8162 - recall: 0.0545 - val_accuracy: 0.8913 - val_loss: 0.3604 - val_precision: 0.8000 - val_recall: 0.0550\n",
      "Epoch 5/50\n",
      "\u001b[1m241/241\u001b[0m \u001b[32m━━━━━━━━━━━━━━━━━━━━\u001b[0m\u001b[37m\u001b[0m \u001b[1m1s\u001b[0m 5ms/step - accuracy: 0.9116 - loss: 0.2281 - precision: 0.8151 - recall: 0.1289 - val_accuracy: 0.9043 - val_loss: 0.3693 - val_precision: 0.8542 - val_recall: 0.1881\n",
      "Epoch 6/50\n",
      "\u001b[1m241/241\u001b[0m \u001b[32m━━━━━━━━━━━━━━━━━━━━\u001b[0m\u001b[37m\u001b[0m \u001b[1m1s\u001b[0m 5ms/step - accuracy: 0.9205 - loss: 0.2049 - precision: 0.8051 - recall: 0.3072 - val_accuracy: 0.9058 - val_loss: 0.4098 - val_precision: 0.8776 - val_recall: 0.1972\n",
      "Epoch 7/50\n",
      "\u001b[1m241/241\u001b[0m \u001b[32m━━━━━━━━━━━━━━━━━━━━\u001b[0m\u001b[37m\u001b[0m \u001b[1m1s\u001b[0m 5ms/step - accuracy: 0.9349 - loss: 0.1786 - precision: 0.8426 - recall: 0.3675 - val_accuracy: 0.9095 - val_loss: 0.4048 - val_precision: 0.7500 - val_recall: 0.3028\n",
      "Epoch 8/50\n",
      "\u001b[1m241/241\u001b[0m \u001b[32m━━━━━━━━━━━━━━━━━━━━\u001b[0m\u001b[37m\u001b[0m \u001b[1m1s\u001b[0m 5ms/step - accuracy: 0.9336 - loss: 0.1831 - precision: 0.7910 - recall: 0.4398 - val_accuracy: 0.9157 - val_loss: 0.4138 - val_precision: 0.7857 - val_recall: 0.3532\n",
      "Epoch 9/50\n",
      "\u001b[1m241/241\u001b[0m \u001b[32m━━━━━━━━━━━━━━━━━━━━\u001b[0m\u001b[37m\u001b[0m \u001b[1m1s\u001b[0m 5ms/step - accuracy: 0.9407 - loss: 0.1634 - precision: 0.8196 - recall: 0.4915 - val_accuracy: 0.9105 - val_loss: 0.4391 - val_precision: 0.7018 - val_recall: 0.3670\n",
      "Epoch 10/50\n",
      "\u001b[1m241/241\u001b[0m \u001b[32m━━━━━━━━━━━━━━━━━━━━\u001b[0m\u001b[37m\u001b[0m \u001b[1m1s\u001b[0m 4ms/step - accuracy: 0.9452 - loss: 0.1563 - precision: 0.8145 - recall: 0.5616 - val_accuracy: 0.9136 - val_loss: 0.4527 - val_precision: 0.7500 - val_recall: 0.3578\n",
      "Epoch 11/50\n",
      "\u001b[1m241/241\u001b[0m \u001b[32m━━━━━━━━━━━━━━━━━━━━\u001b[0m\u001b[37m\u001b[0m \u001b[1m1s\u001b[0m 3ms/step - accuracy: 0.9457 - loss: 0.1444 - precision: 0.8327 - recall: 0.5615 - val_accuracy: 0.9183 - val_loss: 0.4567 - val_precision: 0.7563 - val_recall: 0.4128\n",
      "Epoch 12/50\n",
      "\u001b[1m241/241\u001b[0m \u001b[32m━━━━━━━━━━━━━━━━━━━━\u001b[0m\u001b[37m\u001b[0m \u001b[1m1s\u001b[0m 4ms/step - accuracy: 0.9534 - loss: 0.1253 - precision: 0.8440 - recall: 0.6350 - val_accuracy: 0.9100 - val_loss: 0.4875 - val_precision: 0.6510 - val_recall: 0.4450\n",
      "Epoch 13/50\n",
      "\u001b[1m241/241\u001b[0m \u001b[32m━━━━━━━━━━━━━━━━━━━━\u001b[0m\u001b[37m\u001b[0m \u001b[1m1s\u001b[0m 4ms/step - accuracy: 0.9523 - loss: 0.1257 - precision: 0.8368 - recall: 0.6511 - val_accuracy: 0.9162 - val_loss: 0.4935 - val_precision: 0.6993 - val_recall: 0.4587\n",
      "Epoch 14/50\n",
      "\u001b[1m241/241\u001b[0m \u001b[32m━━━━━━━━━━━━━━━━━━━━\u001b[0m\u001b[37m\u001b[0m \u001b[1m1s\u001b[0m 4ms/step - accuracy: 0.9638 - loss: 0.1031 - precision: 0.8845 - recall: 0.7188 - val_accuracy: 0.9136 - val_loss: 0.5110 - val_precision: 0.6688 - val_recall: 0.4725\n",
      "Epoch 15/50\n",
      "\u001b[1m241/241\u001b[0m \u001b[32m━━━━━━━━━━━━━━━━━━━━\u001b[0m\u001b[37m\u001b[0m \u001b[1m1s\u001b[0m 3ms/step - accuracy: 0.9657 - loss: 0.1000 - precision: 0.8731 - recall: 0.7641 - val_accuracy: 0.9126 - val_loss: 0.5070 - val_precision: 0.6420 - val_recall: 0.5183\n",
      "Epoch 16/50\n",
      "\u001b[1m241/241\u001b[0m \u001b[32m━━━━━━━━━━━━━━━━━━━━\u001b[0m\u001b[37m\u001b[0m \u001b[1m1s\u001b[0m 3ms/step - accuracy: 0.9600 - loss: 0.1061 - precision: 0.8477 - recall: 0.7304 - val_accuracy: 0.9204 - val_loss: 0.5540 - val_precision: 0.7305 - val_recall: 0.4725\n",
      "Epoch 17/50\n",
      "\u001b[1m241/241\u001b[0m \u001b[32m━━━━━━━━━━━━━━━━━━━━\u001b[0m\u001b[37m\u001b[0m \u001b[1m1s\u001b[0m 3ms/step - accuracy: 0.9676 - loss: 0.0973 - precision: 0.8994 - recall: 0.7552 - val_accuracy: 0.9157 - val_loss: 0.5272 - val_precision: 0.6944 - val_recall: 0.4587\n",
      "Epoch 18/50\n",
      "\u001b[1m241/241\u001b[0m \u001b[32m━━━━━━━━━━━━━━━━━━━━\u001b[0m\u001b[37m\u001b[0m \u001b[1m1s\u001b[0m 3ms/step - accuracy: 0.9664 - loss: 0.0887 - precision: 0.8747 - recall: 0.7534 - val_accuracy: 0.9162 - val_loss: 0.5432 - val_precision: 0.6727 - val_recall: 0.5092\n",
      "Epoch 19/50\n",
      "\u001b[1m241/241\u001b[0m \u001b[32m━━━━━━━━━━━━━━━━━━━━\u001b[0m\u001b[37m\u001b[0m \u001b[1m1s\u001b[0m 3ms/step - accuracy: 0.9689 - loss: 0.0937 - precision: 0.8797 - recall: 0.7979 - val_accuracy: 0.9147 - val_loss: 0.5686 - val_precision: 0.6607 - val_recall: 0.5092\n",
      "Epoch 20/50\n",
      "\u001b[1m241/241\u001b[0m \u001b[32m━━━━━━━━━━━━━━━━━━━━\u001b[0m\u001b[37m\u001b[0m \u001b[1m1s\u001b[0m 3ms/step - accuracy: 0.9736 - loss: 0.0739 - precision: 0.8812 - recall: 0.8271 - val_accuracy: 0.9136 - val_loss: 0.5825 - val_precision: 0.6429 - val_recall: 0.5367\n",
      "Epoch 21/50\n",
      "\u001b[1m241/241\u001b[0m \u001b[32m━━━━━━━━━━━━━━━━━━━━\u001b[0m\u001b[37m\u001b[0m \u001b[1m1s\u001b[0m 3ms/step - accuracy: 0.9712 - loss: 0.0845 - precision: 0.8937 - recall: 0.8141 - val_accuracy: 0.9142 - val_loss: 0.5954 - val_precision: 0.6497 - val_recall: 0.5275\n",
      "Epoch 22/50\n",
      "\u001b[1m241/241\u001b[0m \u001b[32m━━━━━━━━━━━━━━━━━━━━\u001b[0m\u001b[37m\u001b[0m \u001b[1m1s\u001b[0m 3ms/step - accuracy: 0.9764 - loss: 0.0720 - precision: 0.9162 - recall: 0.8404 - val_accuracy: 0.9147 - val_loss: 0.5901 - val_precision: 0.6607 - val_recall: 0.5092\n",
      "Epoch 23/50\n",
      "\u001b[1m241/241\u001b[0m \u001b[32m━━━━━━━━━━━━━━━━━━━━\u001b[0m\u001b[37m\u001b[0m \u001b[1m1s\u001b[0m 3ms/step - accuracy: 0.9743 - loss: 0.0725 - precision: 0.9054 - recall: 0.8219 - val_accuracy: 0.9183 - val_loss: 0.6180 - val_precision: 0.7047 - val_recall: 0.4817\n",
      "Epoch 24/50\n",
      "\u001b[1m241/241\u001b[0m \u001b[32m━━━━━━━━━━━━━━━━━━━━\u001b[0m\u001b[37m\u001b[0m \u001b[1m1s\u001b[0m 3ms/step - accuracy: 0.9791 - loss: 0.0628 - precision: 0.9347 - recall: 0.8489 - val_accuracy: 0.9178 - val_loss: 0.6536 - val_precision: 0.6852 - val_recall: 0.5092\n",
      "Epoch 25/50\n",
      "\u001b[1m241/241\u001b[0m \u001b[32m━━━━━━━━━━━━━━━━━━━━\u001b[0m\u001b[37m\u001b[0m \u001b[1m1s\u001b[0m 3ms/step - accuracy: 0.9772 - loss: 0.0639 - precision: 0.9242 - recall: 0.8470 - val_accuracy: 0.9147 - val_loss: 0.6741 - val_precision: 0.6552 - val_recall: 0.5229\n",
      "Epoch 26/50\n",
      "\u001b[1m241/241\u001b[0m \u001b[32m━━━━━━━━━━━━━━━━━━━━\u001b[0m\u001b[37m\u001b[0m \u001b[1m1s\u001b[0m 3ms/step - accuracy: 0.9794 - loss: 0.0613 - precision: 0.9228 - recall: 0.8722 - val_accuracy: 0.9079 - val_loss: 0.6830 - val_precision: 0.6030 - val_recall: 0.5505\n",
      "Epoch 27/50\n",
      "\u001b[1m241/241\u001b[0m \u001b[32m━━━━━━━━━━━━━━━━━━━━\u001b[0m\u001b[37m\u001b[0m \u001b[1m1s\u001b[0m 2ms/step - accuracy: 0.9782 - loss: 0.0625 - precision: 0.9080 - recall: 0.8563 - val_accuracy: 0.9152 - val_loss: 0.7029 - val_precision: 0.6590 - val_recall: 0.5229\n",
      "Epoch 28/50\n",
      "\u001b[1m241/241\u001b[0m \u001b[32m━━━━━━━━━━━━━━━━━━━━\u001b[0m\u001b[37m\u001b[0m \u001b[1m1s\u001b[0m 2ms/step - accuracy: 0.9792 - loss: 0.0622 - precision: 0.9275 - recall: 0.8602 - val_accuracy: 0.9157 - val_loss: 0.7158 - val_precision: 0.6667 - val_recall: 0.5138\n",
      "Epoch 29/50\n",
      "\u001b[1m241/241\u001b[0m \u001b[32m━━━━━━━━━━━━━━━━━━━━\u001b[0m\u001b[37m\u001b[0m \u001b[1m1s\u001b[0m 3ms/step - accuracy: 0.9798 - loss: 0.0548 - precision: 0.9254 - recall: 0.8645 - val_accuracy: 0.9142 - val_loss: 0.7467 - val_precision: 0.6646 - val_recall: 0.4908\n",
      "Epoch 30/50\n",
      "\u001b[1m241/241\u001b[0m \u001b[32m━━━━━━━━━━━━━━━━━━━━\u001b[0m\u001b[37m\u001b[0m \u001b[1m1s\u001b[0m 2ms/step - accuracy: 0.9785 - loss: 0.0567 - precision: 0.9208 - recall: 0.8623 - val_accuracy: 0.9084 - val_loss: 0.7807 - val_precision: 0.6094 - val_recall: 0.5367\n",
      "Epoch 31/50\n",
      "\u001b[1m241/241\u001b[0m \u001b[32m━━━━━━━━━━━━━━━━━━━━\u001b[0m\u001b[37m\u001b[0m \u001b[1m1s\u001b[0m 2ms/step - accuracy: 0.9766 - loss: 0.0608 - precision: 0.9096 - recall: 0.8613 - val_accuracy: 0.9204 - val_loss: 0.7865 - val_precision: 0.7097 - val_recall: 0.5046\n",
      "Epoch 32/50\n",
      "\u001b[1m241/241\u001b[0m \u001b[32m━━━━━━━━━━━━━━━━━━━━\u001b[0m\u001b[37m\u001b[0m \u001b[1m1s\u001b[0m 3ms/step - accuracy: 0.9855 - loss: 0.0440 - precision: 0.9507 - recall: 0.9037 - val_accuracy: 0.9235 - val_loss: 0.7719 - val_precision: 0.7233 - val_recall: 0.5275\n",
      "Epoch 33/50\n",
      "\u001b[1m241/241\u001b[0m \u001b[32m━━━━━━━━━━━━━━━━━━━━\u001b[0m\u001b[37m\u001b[0m \u001b[1m1s\u001b[0m 3ms/step - accuracy: 0.9845 - loss: 0.0485 - precision: 0.9470 - recall: 0.8948 - val_accuracy: 0.9199 - val_loss: 0.7915 - val_precision: 0.6951 - val_recall: 0.5229\n",
      "Epoch 34/50\n",
      "\u001b[1m241/241\u001b[0m \u001b[32m━━━━━━━━━━━━━━━━━━━━\u001b[0m\u001b[37m\u001b[0m \u001b[1m1s\u001b[0m 2ms/step - accuracy: 0.9832 - loss: 0.0471 - precision: 0.9339 - recall: 0.8971 - val_accuracy: 0.9194 - val_loss: 0.8391 - val_precision: 0.6780 - val_recall: 0.5505\n",
      "Epoch 35/50\n",
      "\u001b[1m241/241\u001b[0m \u001b[32m━━━━━━━━━━━━━━━━━━━━\u001b[0m\u001b[37m\u001b[0m \u001b[1m1s\u001b[0m 3ms/step - accuracy: 0.9843 - loss: 0.0451 - precision: 0.9331 - recall: 0.9029 - val_accuracy: 0.9126 - val_loss: 0.8318 - val_precision: 0.6302 - val_recall: 0.5550\n",
      "Epoch 36/50\n",
      "\u001b[1m241/241\u001b[0m \u001b[32m━━━━━━━━━━━━━━━━━━━━\u001b[0m\u001b[37m\u001b[0m \u001b[1m1s\u001b[0m 3ms/step - accuracy: 0.9815 - loss: 0.0510 - precision: 0.9354 - recall: 0.8796 - val_accuracy: 0.9079 - val_loss: 0.8425 - val_precision: 0.5981 - val_recall: 0.5734\n",
      "Epoch 37/50\n",
      "\u001b[1m241/241\u001b[0m \u001b[32m━━━━━━━━━━━━━━━━━━━━\u001b[0m\u001b[37m\u001b[0m \u001b[1m1s\u001b[0m 3ms/step - accuracy: 0.9832 - loss: 0.0448 - precision: 0.9171 - recall: 0.9131 - val_accuracy: 0.9209 - val_loss: 0.8368 - val_precision: 0.6875 - val_recall: 0.5550\n",
      "Epoch 38/50\n",
      "\u001b[1m241/241\u001b[0m \u001b[32m━━━━━━━━━━━━━━━━━━━━\u001b[0m\u001b[37m\u001b[0m \u001b[1m1s\u001b[0m 3ms/step - accuracy: 0.9894 - loss: 0.0360 - precision: 0.9701 - recall: 0.9242 - val_accuracy: 0.9168 - val_loss: 0.9233 - val_precision: 0.6593 - val_recall: 0.5505\n",
      "Epoch 39/50\n",
      "\u001b[1m241/241\u001b[0m \u001b[32m━━━━━━━━━━━━━━━━━━━━\u001b[0m\u001b[37m\u001b[0m \u001b[1m1s\u001b[0m 3ms/step - accuracy: 0.9824 - loss: 0.0463 - precision: 0.9263 - recall: 0.8926 - val_accuracy: 0.9214 - val_loss: 0.8691 - val_precision: 0.7081 - val_recall: 0.5229\n",
      "Epoch 40/50\n",
      "\u001b[1m241/241\u001b[0m \u001b[32m━━━━━━━━━━━━━━━━━━━━\u001b[0m\u001b[37m\u001b[0m \u001b[1m1s\u001b[0m 3ms/step - accuracy: 0.9849 - loss: 0.0400 - precision: 0.9451 - recall: 0.9099 - val_accuracy: 0.9220 - val_loss: 0.9512 - val_precision: 0.7073 - val_recall: 0.5321\n",
      "Epoch 41/50\n",
      "\u001b[1m241/241\u001b[0m \u001b[32m━━━━━━━━━━━━━━━━━━━━\u001b[0m\u001b[37m\u001b[0m \u001b[1m1s\u001b[0m 3ms/step - accuracy: 0.9834 - loss: 0.0416 - precision: 0.9246 - recall: 0.9117 - val_accuracy: 0.9131 - val_loss: 0.9694 - val_precision: 0.6393 - val_recall: 0.5367\n",
      "Epoch 42/50\n",
      "\u001b[1m241/241\u001b[0m \u001b[32m━━━━━━━━━━━━━━━━━━━━\u001b[0m\u001b[37m\u001b[0m \u001b[1m1s\u001b[0m 3ms/step - accuracy: 0.9873 - loss: 0.0409 - precision: 0.9515 - recall: 0.9190 - val_accuracy: 0.9131 - val_loss: 0.9238 - val_precision: 0.6364 - val_recall: 0.5459\n",
      "Epoch 43/50\n",
      "\u001b[1m241/241\u001b[0m \u001b[32m━━━━━━━━━━━━━━━━━━━━\u001b[0m\u001b[37m\u001b[0m \u001b[1m1s\u001b[0m 3ms/step - accuracy: 0.9863 - loss: 0.0402 - precision: 0.9464 - recall: 0.9098 - val_accuracy: 0.9131 - val_loss: 0.9280 - val_precision: 0.6364 - val_recall: 0.5459\n",
      "Epoch 44/50\n",
      "\u001b[1m241/241\u001b[0m \u001b[32m━━━━━━━━━━━━━━━━━━━━\u001b[0m\u001b[37m\u001b[0m \u001b[1m1s\u001b[0m 3ms/step - accuracy: 0.9838 - loss: 0.0416 - precision: 0.9191 - recall: 0.9181 - val_accuracy: 0.9147 - val_loss: 0.8876 - val_precision: 0.6452 - val_recall: 0.5505\n",
      "Epoch 45/50\n",
      "\u001b[1m241/241\u001b[0m \u001b[32m━━━━━━━━━━━━━━━━━━━━\u001b[0m\u001b[37m\u001b[0m \u001b[1m1s\u001b[0m 3ms/step - accuracy: 0.9870 - loss: 0.0460 - precision: 0.9570 - recall: 0.9038 - val_accuracy: 0.9225 - val_loss: 0.9146 - val_precision: 0.7018 - val_recall: 0.5505\n",
      "Epoch 46/50\n",
      "\u001b[1m241/241\u001b[0m \u001b[32m━━━━━━━━━━━━━━━━━━━━\u001b[0m\u001b[37m\u001b[0m \u001b[1m1s\u001b[0m 3ms/step - accuracy: 0.9867 - loss: 0.0324 - precision: 0.9540 - recall: 0.9110 - val_accuracy: 0.9157 - val_loss: 1.0564 - val_precision: 0.6573 - val_recall: 0.5367\n",
      "Epoch 47/50\n",
      "\u001b[1m241/241\u001b[0m \u001b[32m━━━━━━━━━━━━━━━━━━━━\u001b[0m\u001b[37m\u001b[0m \u001b[1m1s\u001b[0m 3ms/step - accuracy: 0.9904 - loss: 0.0302 - precision: 0.9625 - recall: 0.9364 - val_accuracy: 0.9136 - val_loss: 0.9842 - val_precision: 0.6327 - val_recall: 0.5688\n",
      "Epoch 48/50\n",
      "\u001b[1m241/241\u001b[0m \u001b[32m━━━━━━━━━━━━━━━━━━━━\u001b[0m\u001b[37m\u001b[0m \u001b[1m1s\u001b[0m 3ms/step - accuracy: 0.9865 - loss: 0.0367 - precision: 0.9293 - recall: 0.9253 - val_accuracy: 0.9188 - val_loss: 1.0647 - val_precision: 0.6782 - val_recall: 0.5413\n",
      "Epoch 49/50\n",
      "\u001b[1m241/241\u001b[0m \u001b[32m━━━━━━━━━━━━━━━━━━━━\u001b[0m\u001b[37m\u001b[0m \u001b[1m1s\u001b[0m 3ms/step - accuracy: 0.9897 - loss: 0.0326 - precision: 0.9609 - recall: 0.9328 - val_accuracy: 0.9147 - val_loss: 1.1018 - val_precision: 0.6452 - val_recall: 0.5505\n",
      "Epoch 50/50\n",
      "\u001b[1m241/241\u001b[0m \u001b[32m━━━━━━━━━━━━━━━━━━━━\u001b[0m\u001b[37m\u001b[0m \u001b[1m1s\u001b[0m 3ms/step - accuracy: 0.9866 - loss: 0.0366 - precision: 0.9488 - recall: 0.9151 - val_accuracy: 0.9136 - val_loss: 1.1038 - val_precision: 0.6398 - val_recall: 0.5459\n",
      "\u001b[1m76/76\u001b[0m \u001b[32m━━━━━━━━━━━━━━━━━━━━\u001b[0m\u001b[37m\u001b[0m \u001b[1m0s\u001b[0m 3ms/step\n",
      "\n",
      "Reporte de clasificación en Test:\n",
      "              precision    recall  f1-score   support\n",
      "\n",
      "           0       0.96      0.96      0.96      2178\n",
      "           1       0.61      0.60      0.60       225\n",
      "\n",
      "    accuracy                           0.93      2403\n",
      "   macro avg       0.79      0.78      0.78      2403\n",
      "weighted avg       0.93      0.93      0.93      2403\n",
      "\n",
      "Precisión: 0.9267582188930503\n"
     ]
    }
   ],
   "source": [
    "import pandas as pd\n",
    "\n",
    "# Módulos de scikit-learn\n",
    "from sklearn.model_selection import train_test_split\n",
    "from sklearn.pipeline import Pipeline\n",
    "from sklearn.compose import ColumnTransformer\n",
    "from sklearn.impute import SimpleImputer\n",
    "from sklearn.preprocessing import StandardScaler, OneHotEncoder\n",
    "from sklearn.metrics import classification_report, accuracy_score\n",
    "\n",
    "# Librerías de Deep Learning (Keras / TensorFlow)\n",
    "import tensorflow as tf\n",
    "from tensorflow import keras\n",
    "from tensorflow.keras import layers\n",
    "\n",
    "# 1. Lectura del CSV de entrenamiento\n",
    "train_df = pd.read_csv('train_df.csv', delimiter=';', thousands='.', decimal=',')\n",
    "\n",
    "# Definir variables objetivo e identificación\n",
    "target = 'alta_tdc'\n",
    "id_col = 'identificador_cliente'\n",
    "\n",
    "# Separar características (X) y variable objetivo (y)\n",
    "X = train_df.drop([target, id_col], axis=1)\n",
    "y = train_df[target]\n",
    "\n",
    "# Seleccionar columnas numéricas y categóricas\n",
    "num_cols = X.select_dtypes(include=['number']).columns.tolist()\n",
    "cat_cols = X.select_dtypes(exclude=['number']).columns.tolist()\n",
    "\n",
    "print(\"Columnas numéricas:\", num_cols)\n",
    "print(\"Columnas categóricas (antes de conversión):\", cat_cols)\n",
    "\n",
    "# Convertir columnas categóricas a string\n",
    "X[cat_cols] = X[cat_cols].astype(str)\n",
    "\n",
    "# 2. Definir pipelines de preprocesamiento\n",
    "numeric_transformer = Pipeline(steps=[\n",
    "    ('imputer', SimpleImputer(strategy='median')),\n",
    "    ('scaler', StandardScaler())\n",
    "])\n",
    "\n",
    "categorical_transformer = Pipeline(steps=[\n",
    "    ('imputer', SimpleImputer(strategy='most_frequent')),\n",
    "    ('onehot', OneHotEncoder(handle_unknown='ignore'))\n",
    "])\n",
    "\n",
    "# Combinar ambos pipelines en un ColumnTransformer\n",
    "preprocessor = ColumnTransformer(transformers=[\n",
    "    ('num', numeric_transformer, num_cols),\n",
    "    ('cat', categorical_transformer, cat_cols)\n",
    "])\n",
    "\n",
    "# 3. Dividir en conjuntos de entrenamiento y prueba\n",
    "#    (Lo hacemos antes de ajustar el preprocessor para evitar fuga de datos)\n",
    "X_train_raw, X_test_raw, y_train, y_test = train_test_split(\n",
    "    X, y, test_size=0.2, random_state=42\n",
    ")\n",
    "\n",
    "# 4. Ajustar el preprocessor con el set de entrenamiento y transformar ambos\n",
    "preprocessor.fit(X_train_raw)\n",
    "X_train = preprocessor.transform(X_train_raw)\n",
    "X_test = preprocessor.transform(X_test_raw)\n",
    "\n",
    "# Comprobamos la forma de los datos transformados\n",
    "print(\"Shape de X_train después del preprocesamiento:\", X_train.shape)\n",
    "print(\"Shape de X_test después del preprocesamiento:\", X_test.shape)\n",
    "\n",
    "# 5. Construir un modelo de red neuronal (MLP) con Keras\n",
    "#    Puedes ajustar libremente número de capas, neuronas, etc.\n",
    "\n",
    "model = keras.Sequential()\n",
    "\n",
    "# Capa de entrada (shape = número de features)\n",
    "model.add(layers.Input(shape=(X_train.shape[1], )))\n",
    "\n",
    "# Ejemplo de 2 capas ocultas\n",
    "model.add(layers.Dense(64, activation='relu'))\n",
    "model.add(layers.Dropout(0.3))      # Regularización\n",
    "model.add(layers.Dense(32, activation='relu'))\n",
    "model.add(layers.Dropout(0.3))\n",
    "\n",
    "# Capa de salida (1 neurona con sigmoide para binario)\n",
    "model.add(layers.Dense(1, activation='sigmoid'))\n",
    "\n",
    "# Compilar la red\n",
    "model.compile(\n",
    "    optimizer='adam',\n",
    "    loss='binary_crossentropy',\n",
    "    metrics=[\n",
    "        'accuracy',\n",
    "        keras.metrics.Precision(name='precision'),\n",
    "        keras.metrics.Recall(name='recall')\n",
    "    ]\n",
    ")\n",
    "\n",
    "# 6. Entrenamiento de la red neuronal\n",
    "#    Aquí podrías usar \"class_weight\" si el dataset está desbalanceado\n",
    "#    (ej: class_weight={0:1, 1: 3} si la clase 1 es minoritaria).\n",
    "\n",
    "history = model.fit(\n",
    "    X_train,\n",
    "    y_train,\n",
    "    validation_split=0.2,\n",
    "    epochs=50,           # Ajusta según tus necesidades\n",
    "    batch_size=32,\n",
    "    verbose=1\n",
    ")\n",
    "\n",
    "# 7. Evaluación en el conjunto de prueba\n",
    "y_pred_probs = model.predict(X_test).ravel()   # Probabilidades\n",
    "y_pred = (y_pred_probs >= 0.5).astype(int)     # Umbral 0.5\n",
    "\n",
    "print(\"\\nReporte de clasificación en Test:\")\n",
    "print(classification_report(y_test, y_pred))\n",
    "print(\"Precisión:\", accuracy_score(y_test, y_pred))\n"
   ]
  },
  {
   "cell_type": "code",
   "execution_count": 3,
   "metadata": {},
   "outputs": [
    {
     "name": "stdout",
     "output_type": "stream",
     "text": [
      "\n",
      "Reporte de clasificación en Test:\n",
      "              precision    recall  f1-score   support\n",
      "\n",
      "           0       0.96      0.96      0.96      2178\n",
      "           1       0.61      0.60      0.60       225\n",
      "\n",
      "    accuracy                           0.93      2403\n",
      "   macro avg       0.79      0.78      0.78      2403\n",
      "weighted avg       0.93      0.93      0.93      2403\n",
      "\n",
      "Precisión: 0.9267582188930503\n"
     ]
    }
   ],
   "source": [
    "print(\"\\nReporte de clasificación en Test:\")\n",
    "print(classification_report(y_test, y_pred))\n",
    "print(\"Precisión:\", accuracy_score(y_test, y_pred))"
   ]
  },
  {
   "cell_type": "code",
   "execution_count": null,
   "metadata": {},
   "outputs": [
    {
     "name": "stderr",
     "output_type": "stream",
     "text": [
      "[I 2025-03-04 06:41:43,349] A new study created in memory with name: no-name-b728bc0e-8b0d-4d99-89cf-be9f184f6076\n",
      "[I 2025-03-04 06:42:02,131] Trial 0 finished with value: 0.5183486342430115 and parameters: {'n_layers': 2, 'n_units': 93, 'dropout_rate': 0.30317525757531044, 'learning_rate': 0.001901963257749413}. Best is trial 0 with value: 0.5183486342430115.\n"
     ]
    },
    {
     "name": "stdout",
     "output_type": "stream",
     "text": [
      "Métricas disponibles en history: dict_keys(['accuracy', 'loss', 'recall', 'val_accuracy', 'val_loss', 'val_recall'])\n"
     ]
    },
    {
     "name": "stderr",
     "output_type": "stream",
     "text": [
      "[I 2025-03-04 06:42:19,763] Trial 1 finished with value: 0.5733944773674011 and parameters: {'n_layers': 3, 'n_units': 38, 'dropout_rate': 0.3381017852543778, 'learning_rate': 0.0011135789628476534}. Best is trial 1 with value: 0.5733944773674011.\n"
     ]
    },
    {
     "name": "stdout",
     "output_type": "stream",
     "text": [
      "Métricas disponibles en history: dict_keys(['accuracy', 'loss', 'recall', 'val_accuracy', 'val_loss', 'val_recall'])\n"
     ]
    },
    {
     "name": "stderr",
     "output_type": "stream",
     "text": [
      "[I 2025-03-04 06:42:35,016] Trial 2 finished with value: 0.3302752375602722 and parameters: {'n_layers': 2, 'n_units': 37, 'dropout_rate': 0.34310948923241913, 'learning_rate': 0.00036838173726339306}. Best is trial 1 with value: 0.5733944773674011.\n"
     ]
    },
    {
     "name": "stdout",
     "output_type": "stream",
     "text": [
      "Métricas disponibles en history: dict_keys(['accuracy', 'loss', 'recall', 'val_accuracy', 'val_loss', 'val_recall'])\n"
     ]
    },
    {
     "name": "stderr",
     "output_type": "stream",
     "text": [
      "[I 2025-03-04 06:43:04,851] Trial 3 finished with value: 0.4541284441947937 and parameters: {'n_layers': 3, 'n_units': 229, 'dropout_rate': 0.37573045167084196, 'learning_rate': 0.004876615868878384}. Best is trial 1 with value: 0.5733944773674011.\n"
     ]
    },
    {
     "name": "stdout",
     "output_type": "stream",
     "text": [
      "Métricas disponibles en history: dict_keys(['accuracy', 'loss', 'recall', 'val_accuracy', 'val_loss', 'val_recall'])\n"
     ]
    },
    {
     "name": "stderr",
     "output_type": "stream",
     "text": [
      "[I 2025-03-04 06:43:45,109] Trial 4 finished with value: 0.5229358077049255 and parameters: {'n_layers': 4, 'n_units': 229, 'dropout_rate': 0.33260141118419395, 'learning_rate': 0.00020711184437233264}. Best is trial 1 with value: 0.5733944773674011.\n"
     ]
    },
    {
     "name": "stdout",
     "output_type": "stream",
     "text": [
      "Métricas disponibles en history: dict_keys(['accuracy', 'loss', 'recall', 'val_accuracy', 'val_loss', 'val_recall'])\n"
     ]
    },
    {
     "name": "stderr",
     "output_type": "stream",
     "text": [
      "[I 2025-03-04 06:44:02,062] Trial 5 finished with value: 0.5779816508293152 and parameters: {'n_layers': 1, 'n_units': 32, 'dropout_rate': 0.040751973227918126, 'learning_rate': 0.0020409388341378603}. Best is trial 5 with value: 0.5779816508293152.\n"
     ]
    },
    {
     "name": "stdout",
     "output_type": "stream",
     "text": [
      "Métricas disponibles en history: dict_keys(['accuracy', 'loss', 'recall', 'val_accuracy', 'val_loss', 'val_recall'])\n"
     ]
    },
    {
     "name": "stderr",
     "output_type": "stream",
     "text": [
      "[I 2025-03-04 06:44:32,745] Trial 6 finished with value: 0.5504587292671204 and parameters: {'n_layers': 4, 'n_units': 251, 'dropout_rate': 0.2528260223514294, 'learning_rate': 0.00020935860149334166}. Best is trial 5 with value: 0.5779816508293152.\n"
     ]
    },
    {
     "name": "stdout",
     "output_type": "stream",
     "text": [
      "Métricas disponibles en history: dict_keys(['accuracy', 'loss', 'recall', 'val_accuracy', 'val_loss', 'val_recall'])\n"
     ]
    },
    {
     "name": "stderr",
     "output_type": "stream",
     "text": [
      "[I 2025-03-04 06:44:52,818] Trial 7 finished with value: 0.4862385392189026 and parameters: {'n_layers': 1, 'n_units': 134, 'dropout_rate': 0.4336570229345681, 'learning_rate': 0.0018667088136099575}. Best is trial 5 with value: 0.5779816508293152.\n"
     ]
    },
    {
     "name": "stdout",
     "output_type": "stream",
     "text": [
      "Métricas disponibles en history: dict_keys(['accuracy', 'loss', 'recall', 'val_accuracy', 'val_loss', 'val_recall'])\n"
     ]
    },
    {
     "name": "stderr",
     "output_type": "stream",
     "text": [
      "[I 2025-03-04 06:45:11,523] Trial 8 finished with value: 0.4816513657569885 and parameters: {'n_layers': 1, 'n_units': 49, 'dropout_rate': 0.41508901159522915, 'learning_rate': 0.0032860535991048084}. Best is trial 5 with value: 0.5779816508293152.\n"
     ]
    },
    {
     "name": "stdout",
     "output_type": "stream",
     "text": [
      "Métricas disponibles en history: dict_keys(['accuracy', 'loss', 'recall', 'val_accuracy', 'val_loss', 'val_recall'])\n"
     ]
    },
    {
     "name": "stderr",
     "output_type": "stream",
     "text": [
      "[I 2025-03-04 06:45:33,920] Trial 9 finished with value: 0.4128440320491791 and parameters: {'n_layers': 2, 'n_units': 155, 'dropout_rate': 0.3640185827883883, 'learning_rate': 0.007920866874536086}. Best is trial 5 with value: 0.5779816508293152.\n"
     ]
    },
    {
     "name": "stdout",
     "output_type": "stream",
     "text": [
      "Métricas disponibles en history: dict_keys(['accuracy', 'loss', 'recall', 'val_accuracy', 'val_loss', 'val_recall'])\n"
     ]
    },
    {
     "name": "stderr",
     "output_type": "stream",
     "text": [
      "[I 2025-03-04 06:45:51,199] Trial 10 finished with value: 0.5045871734619141 and parameters: {'n_layers': 1, 'n_units': 63, 'dropout_rate': 0.0026443331217164967, 'learning_rate': 0.0006284559110037681}. Best is trial 5 with value: 0.5779816508293152.\n"
     ]
    },
    {
     "name": "stdout",
     "output_type": "stream",
     "text": [
      "Métricas disponibles en history: dict_keys(['accuracy', 'loss', 'recall', 'val_accuracy', 'val_loss', 'val_recall'])\n"
     ]
    },
    {
     "name": "stderr",
     "output_type": "stream",
     "text": [
      "[I 2025-03-04 06:46:09,216] Trial 11 finished with value: 0.5779816508293152 and parameters: {'n_layers': 3, 'n_units': 35, 'dropout_rate': 0.12317049415055661, 'learning_rate': 0.0009415627632716855}. Best is trial 5 with value: 0.5779816508293152.\n"
     ]
    },
    {
     "name": "stdout",
     "output_type": "stream",
     "text": [
      "Métricas disponibles en history: dict_keys(['accuracy', 'loss', 'recall', 'val_accuracy', 'val_loss', 'val_recall'])\n"
     ]
    },
    {
     "name": "stderr",
     "output_type": "stream",
     "text": [
      "[I 2025-03-04 06:46:28,966] Trial 12 finished with value: 0.5596330165863037 and parameters: {'n_layers': 3, 'n_units': 32, 'dropout_rate': 0.08101041933200458, 'learning_rate': 0.0007560990761169364}. Best is trial 5 with value: 0.5779816508293152.\n"
     ]
    },
    {
     "name": "stdout",
     "output_type": "stream",
     "text": [
      "Métricas disponibles en history: dict_keys(['accuracy', 'loss', 'recall', 'val_accuracy', 'val_loss', 'val_recall'])\n"
     ]
    },
    {
     "name": "stderr",
     "output_type": "stream",
     "text": [
      "[I 2025-03-04 06:46:47,128] Trial 13 finished with value: 0.5779816508293152 and parameters: {'n_layers': 3, 'n_units': 59, 'dropout_rate': 0.14141952394365342, 'learning_rate': 0.002095407327938411}. Best is trial 5 with value: 0.5779816508293152.\n"
     ]
    },
    {
     "name": "stdout",
     "output_type": "stream",
     "text": [
      "Métricas disponibles en history: dict_keys(['accuracy', 'loss', 'recall', 'val_accuracy', 'val_loss', 'val_recall'])\n"
     ]
    },
    {
     "name": "stderr",
     "output_type": "stream",
     "text": [
      "[I 2025-03-04 06:47:03,096] Trial 14 finished with value: 0.1055045872926712 and parameters: {'n_layers': 2, 'n_units': 48, 'dropout_rate': 0.13722317338054557, 'learning_rate': 0.00010993591530940398}. Best is trial 5 with value: 0.5779816508293152.\n"
     ]
    },
    {
     "name": "stdout",
     "output_type": "stream",
     "text": [
      "Métricas disponibles en history: dict_keys(['accuracy', 'loss', 'recall', 'val_accuracy', 'val_loss', 'val_recall'])\n"
     ]
    },
    {
     "name": "stderr",
     "output_type": "stream",
     "text": [
      "[I 2025-03-04 06:47:22,959] Trial 15 finished with value: 0.5917431116104126 and parameters: {'n_layers': 4, 'n_units': 81, 'dropout_rate': 0.03389662092965312, 'learning_rate': 0.0010951534865109075}. Best is trial 15 with value: 0.5917431116104126.\n"
     ]
    },
    {
     "name": "stdout",
     "output_type": "stream",
     "text": [
      "Métricas disponibles en history: dict_keys(['accuracy', 'loss', 'recall', 'val_accuracy', 'val_loss', 'val_recall'])\n"
     ]
    },
    {
     "name": "stderr",
     "output_type": "stream",
     "text": [
      "[I 2025-03-04 06:47:43,440] Trial 16 finished with value: 0.5871559381484985 and parameters: {'n_layers': 4, 'n_units': 99, 'dropout_rate': 0.0032206875493701326, 'learning_rate': 0.005092288851386301}. Best is trial 15 with value: 0.5917431116104126.\n"
     ]
    },
    {
     "name": "stdout",
     "output_type": "stream",
     "text": [
      "Métricas disponibles en history: dict_keys(['accuracy', 'loss', 'recall', 'val_accuracy', 'val_loss', 'val_recall'])\n"
     ]
    },
    {
     "name": "stderr",
     "output_type": "stream",
     "text": [
      "[I 2025-03-04 06:48:08,203] Trial 17 finished with value: 0.3761467933654785 and parameters: {'n_layers': 4, 'n_units': 88, 'dropout_rate': 0.18270385550500198, 'learning_rate': 0.009493090816887232}. Best is trial 15 with value: 0.5917431116104126.\n"
     ]
    },
    {
     "name": "stdout",
     "output_type": "stream",
     "text": [
      "Métricas disponibles en history: dict_keys(['accuracy', 'loss', 'recall', 'val_accuracy', 'val_loss', 'val_recall'])\n"
     ]
    },
    {
     "name": "stderr",
     "output_type": "stream",
     "text": [
      "[I 2025-03-04 06:48:31,656] Trial 18 finished with value: 0.39449542760849 and parameters: {'n_layers': 4, 'n_units': 93, 'dropout_rate': 0.491570791081028, 'learning_rate': 0.00409305314749817}. Best is trial 15 with value: 0.5917431116104126.\n"
     ]
    },
    {
     "name": "stdout",
     "output_type": "stream",
     "text": [
      "Métricas disponibles en history: dict_keys(['accuracy', 'loss', 'recall', 'val_accuracy', 'val_loss', 'val_recall'])\n"
     ]
    },
    {
     "name": "stderr",
     "output_type": "stream",
     "text": [
      "[I 2025-03-04 06:48:58,668] Trial 19 finished with value: 0.60550457239151 and parameters: {'n_layers': 4, 'n_units': 126, 'dropout_rate': 0.0008711373345541258, 'learning_rate': 0.006183924373275589}. Best is trial 19 with value: 0.60550457239151.\n"
     ]
    },
    {
     "name": "stdout",
     "output_type": "stream",
     "text": [
      "Métricas disponibles en history: dict_keys(['accuracy', 'loss', 'recall', 'val_accuracy', 'val_loss', 'val_recall'])\n"
     ]
    },
    {
     "name": "stderr",
     "output_type": "stream",
     "text": [
      "[I 2025-03-04 06:49:39,009] Trial 20 finished with value: 0.5642201900482178 and parameters: {'n_layers': 4, 'n_units': 128, 'dropout_rate': 0.19596735473573212, 'learning_rate': 0.000493672472871621}. Best is trial 19 with value: 0.60550457239151.\n"
     ]
    },
    {
     "name": "stdout",
     "output_type": "stream",
     "text": [
      "Métricas disponibles en history: dict_keys(['accuracy', 'loss', 'recall', 'val_accuracy', 'val_loss', 'val_recall'])\n"
     ]
    },
    {
     "name": "stderr",
     "output_type": "stream",
     "text": [
      "[I 2025-03-04 06:50:16,483] Trial 21 finished with value: 0.5871559381484985 and parameters: {'n_layers': 4, 'n_units': 110, 'dropout_rate': 0.00354127825636873, 'learning_rate': 0.006739707194028892}. Best is trial 19 with value: 0.60550457239151.\n"
     ]
    },
    {
     "name": "stdout",
     "output_type": "stream",
     "text": [
      "Métricas disponibles en history: dict_keys(['accuracy', 'loss', 'recall', 'val_accuracy', 'val_loss', 'val_recall'])\n"
     ]
    },
    {
     "name": "stderr",
     "output_type": "stream",
     "text": [
      "[I 2025-03-04 06:50:51,050] Trial 22 finished with value: 0.5825688242912292 and parameters: {'n_layers': 4, 'n_units': 75, 'dropout_rate': 0.0663414906969923, 'learning_rate': 0.0032139785028503943}. Best is trial 19 with value: 0.60550457239151.\n"
     ]
    },
    {
     "name": "stdout",
     "output_type": "stream",
     "text": [
      "Métricas disponibles en history: dict_keys(['accuracy', 'loss', 'recall', 'val_accuracy', 'val_loss', 'val_recall'])\n"
     ]
    },
    {
     "name": "stderr",
     "output_type": "stream",
     "text": [
      "[I 2025-03-04 06:51:33,327] Trial 23 finished with value: 0.5688073635101318 and parameters: {'n_layers': 4, 'n_units': 158, 'dropout_rate': 0.049419580934946486, 'learning_rate': 0.005803461000588638}. Best is trial 19 with value: 0.60550457239151.\n"
     ]
    },
    {
     "name": "stdout",
     "output_type": "stream",
     "text": [
      "Métricas disponibles en history: dict_keys(['accuracy', 'loss', 'recall', 'val_accuracy', 'val_loss', 'val_recall'])\n"
     ]
    },
    {
     "name": "stderr",
     "output_type": "stream",
     "text": [
      "[I 2025-03-04 06:52:06,288] Trial 24 finished with value: 0.6009174585342407 and parameters: {'n_layers': 3, 'n_units': 183, 'dropout_rate': 0.09664806118656324, 'learning_rate': 0.0012807236769443225}. Best is trial 19 with value: 0.60550457239151.\n"
     ]
    },
    {
     "name": "stdout",
     "output_type": "stream",
     "text": [
      "Métricas disponibles en history: dict_keys(['accuracy', 'loss', 'recall', 'val_accuracy', 'val_loss', 'val_recall'])\n"
     ]
    },
    {
     "name": "stderr",
     "output_type": "stream",
     "text": [
      "[I 2025-03-04 06:52:36,161] Trial 25 finished with value: 0.5871559381484985 and parameters: {'n_layers': 3, 'n_units': 202, 'dropout_rate': 0.09090424374617193, 'learning_rate': 0.0012861483795321726}. Best is trial 19 with value: 0.60550457239151.\n"
     ]
    },
    {
     "name": "stdout",
     "output_type": "stream",
     "text": [
      "Métricas disponibles en history: dict_keys(['accuracy', 'loss', 'recall', 'val_accuracy', 'val_loss', 'val_recall'])\n"
     ]
    },
    {
     "name": "stderr",
     "output_type": "stream",
     "text": [
      "[I 2025-03-04 06:53:05,152] Trial 26 finished with value: 0.5917431116104126 and parameters: {'n_layers': 3, 'n_units': 178, 'dropout_rate': 0.10475211437579547, 'learning_rate': 0.00034150523627664764}. Best is trial 19 with value: 0.60550457239151.\n"
     ]
    },
    {
     "name": "stdout",
     "output_type": "stream",
     "text": [
      "Métricas disponibles en history: dict_keys(['accuracy', 'loss', 'recall', 'val_accuracy', 'val_loss', 'val_recall'])\n"
     ]
    },
    {
     "name": "stderr",
     "output_type": "stream",
     "text": [
      "[I 2025-03-04 06:53:32,358] Trial 27 finished with value: 0.5825688242912292 and parameters: {'n_layers': 3, 'n_units': 118, 'dropout_rate': 0.18459448288800592, 'learning_rate': 0.0013695681121482068}. Best is trial 19 with value: 0.60550457239151.\n"
     ]
    },
    {
     "name": "stdout",
     "output_type": "stream",
     "text": [
      "Métricas disponibles en history: dict_keys(['accuracy', 'loss', 'recall', 'val_accuracy', 'val_loss', 'val_recall'])\n"
     ]
    },
    {
     "name": "stderr",
     "output_type": "stream",
     "text": [
      "[I 2025-03-04 06:53:58,008] Trial 28 finished with value: 0.5779816508293152 and parameters: {'n_layers': 4, 'n_units': 78, 'dropout_rate': 0.027136115378165303, 'learning_rate': 0.0027779530753713508}. Best is trial 19 with value: 0.60550457239151.\n"
     ]
    },
    {
     "name": "stdout",
     "output_type": "stream",
     "text": [
      "Métricas disponibles en history: dict_keys(['accuracy', 'loss', 'recall', 'val_accuracy', 'val_loss', 'val_recall'])\n"
     ]
    },
    {
     "name": "stderr",
     "output_type": "stream",
     "text": [
      "[I 2025-03-04 06:54:28,176] Trial 29 finished with value: 0.5596330165863037 and parameters: {'n_layers': 2, 'n_units': 151, 'dropout_rate': 0.21960089398168262, 'learning_rate': 0.0015335362139662029}. Best is trial 19 with value: 0.60550457239151.\n"
     ]
    },
    {
     "name": "stdout",
     "output_type": "stream",
     "text": [
      "Métricas disponibles en history: dict_keys(['accuracy', 'loss', 'recall', 'val_accuracy', 'val_loss', 'val_recall'])\n",
      "Mejores hiperparámetros: {'n_layers': 4, 'n_units': 126, 'dropout_rate': 0.0008711373345541258, 'learning_rate': 0.006183924373275589}\n"
     ]
    }
   ],
   "source": [
    "import optuna\n",
    "\n",
    "def objective(trial):\n",
    "    # Definir hiperparámetros a optimizar\n",
    "    n_layers = trial.suggest_int(\"n_layers\", 1, 4)\n",
    "    n_units = trial.suggest_int(\"n_units\", 32, 256, log=True)\n",
    "    dropout_rate = trial.suggest_float(\"dropout_rate\", 0.0, 0.5)\n",
    "    learning_rate = trial.suggest_float(\"learning_rate\", 1e-4, 1e-2, log=True)\n",
    "    \n",
    "    # Construir modelo con estos parámetros\n",
    "    model = keras.Sequential()\n",
    "    model.add(layers.Input(shape=(X_train.shape[1],)))\n",
    "\n",
    "    for _ in range(n_layers):\n",
    "        model.add(layers.Dense(n_units, activation='relu'))\n",
    "        model.add(layers.Dropout(dropout_rate))\n",
    "    \n",
    "    model.add(layers.Dense(1, activation='sigmoid'))\n",
    "\n",
    "    model.compile(optimizer=keras.optimizers.Adam(learning_rate=learning_rate),\n",
    "                  loss='binary_crossentropy',\n",
    "                  metrics=['accuracy', keras.metrics.Recall(name='recall')])  # <- Definir Recall con nombre\n",
    "\n",
    "    # Entrenamiento\n",
    "    history = model.fit(X_train, y_train, epochs=20, batch_size=32, validation_split=0.2, verbose=0)\n",
    "    \n",
    "    # Ver qué métricas fueron guardadas\n",
    "    print(\"Métricas disponibles en history:\", history.history.keys())\n",
    "\n",
    "    # Obtener Recall en validación\n",
    "    recall = max(history.history.get('val_recall', [0]))  # <- Corregido para evitar KeyError\n",
    "\n",
    "    return recall\n",
    "\n",
    "# Ejecutar búsqueda de hiperparámetros\n",
    "study = optuna.create_study(direction=\"maximize\")\n",
    "study.optimize(objective, n_trials=30)\n",
    "\n",
    "print(\"Mejores hiperparámetros:\", study.best_trial.params)\n"
   ]
  },
  {
   "cell_type": "code",
   "execution_count": 7,
   "metadata": {},
   "outputs": [
    {
     "name": "stderr",
     "output_type": "stream",
     "text": [
      "C:\\Users\\wilson.hernandez\\AppData\\Local\\Temp\\ipykernel_5112\\1919583287.py:17: DtypeWarning: Columns (4,5) have mixed types. Specify dtype option on import or set low_memory=False.\n",
      "  train_df = pd.read_csv('train_df.csv', delimiter=';', thousands='.', decimal=',')\n"
     ]
    },
    {
     "name": "stdout",
     "output_type": "stream",
     "text": [
      "Columnas numéricas: ['cust_age_number', 'customer_seniority_number', 'main_city_type', 'marital_status_type', 'address_relationship_type', 'adult_dependants_number', 'target_type', 'customer_asset_amount', 'customer_liability_amount', 'customer_status_type', 'month_withdrawals_number', 'month_payment_number', 'month_purchase_number', 'm_exit_amount', 'm_entry_amount', 'mth_mbl_app_qry_number', 'mth_mbl_app_mnty_tr_number', 'mth_mbl_app_non_mnty_tr_number', 'month_atm_queries_number', 'atm_made_fin_trans_number', 'atm_made_nfin_tran_number', 'inquiries_digi_channel_number', 'dig_financial_trans_tot_number', 'dig_non_fin_trans_tot_number', 'mth_co_netcash_queries_number', 'mth_co_netc_non_mnty_tr_number', 'mth_co_netcash_mnty_tr_number', 'mth_ppl_netcash_queries_number', 'mth_ppl_netcash_mnty_tr_number', 'mth_pplnetc_non_mnty_tr_number', 'month_h2h_queries_number', 'month_h2h_mnty_tr_number', 'month_h2h_non_mnty_tr_number', 'month_webpage_queries_number', 'mth_webpage_mnty_tr_number', 'mth_webpage_non_mnty_tr_number', 'mth_ext_pos_queries_number', 'mth_ext_pos_mnty_tr_number', 'mth_ext_pos_non_mnty_tr_number', 'mth_ext_ntwrk_queries_number', 'mth_ext_ntwrk_mnty_tr_number', 'm_ext_ntwrk_non_mnty_tr_number', 'mth_banknet_queries_number', 'mth_banknet_mnty_tr_number', 'mth_banknet_non_mnty_tr_number', 'mth_third_party_queries_number', 'month_thpty_mnty_tr_number', 'month_thpty_non_mnty_tr_number', 'recv_payrl_transactions_number', 'current_payroll_incm_amount', 'payroll_type', 'instlmnt_1_bill_average_amount', 'cr_card_bill_average_amount', 'instlmnt_1_tr_average_per', 'instlmnt_1_transactions_type', 'saving_prdt_avg_bal_amount', 'fix_saving_prdt_avg_bal_amount', 'cdt_prdt_avg_balance_amount', 'consumer_cash_balance_amount', 'current_asset_amount', 'avg_balance_fund_amount', 'mtge_prdt_avg_balance_amount', 'bbva_payrl_oblg_tot_bal_amount', 'avg_cr_card_balance_amount', 'vehicle_credit_average_amount', 'lt_saving_prdt_avg_bal_amount', 'save_account_type', 'fixed_savings_tenure_type', 'term_cdt_tenure_type', 'tenure_consm_product_type', 'ownership_ca_type', 'funds_ownership_ind_type', 'ownership_mloan_type', 'libranza_tenure_mark_type', 'credit_card_ownshp_ind_type', 'vehicle_cr_tenure_mark_type', 'long_term_savings_tenure_type', 'new_segment_id', 'customer_products_number', 'cr_dbt_card_agric_expns_amount', 'cr_dbt_card_agric_op_number', 'cr_dbt_card_adv_expns_amount', 'cr_dbt_card_adv_op_number', 'cr_dbt_card_veh_expns_amount', 'cr_dbt_card_veh_op_number', 'cr_dbt_cd_beauty_expns_amount', 'cr_dbt_card_beauty_op_number', 'cr_dbt_cd_casino_expns_amount', 'cr_dbt_card_casino_op_number', 'cr_dbt_cd_cns_expns_amount', 'cr_dbt_card_cns_op_number', 'cr_dbt_cd_sport_expns_amount', 'cr_dbt_card_sport_op_number', 'cr_dbt_cd_digital_expns_amount', 'cr_dbt_cd_digital_op_number', 'cr_dbt_card_educ_expns_amount', 'cr_dbt_card_educ_op_number', 'cr_dbt_cd_co_stmp_expns_amount', 'cr_dbt_cd_co_stamp_op_number', 'cr_dbt_card_fcg_expns_amount', 'cr_dbt_card_fcg_op_number', 'cr_dbt_card_fndat_expns_amount', 'cr_dbt_card_fndat_op_number', 'cr_dbt_cd_funeral_expns_amount', 'cr_dbt_card_funeral_op_number', 'cr_dbt_card_govt_expns_amount', 'cr_dbt_card_govt_op_number', 'cr_dbt_card_home_expns_amount', 'cr_dbt_card_home_op_number', 'cr_dbt_card_inds_expns_amount', 'cr_dbt_card_inds_op_number', 'cr_dbt_card_re_expns_amount', 'cr_dbt_card_re_op_number', 'cr_dbt_card_jwlry_expns_amount', 'cr_dbt_card_jwlry_op_number', 'cr_dbt_cd_lbrtry_expns_amount', 'cr_dbt_cd_laboratory_op_number', 'cr_dbt_cd_lqr_str_expns_amount', 'cr_dbt_cd_lqr_str_op_number', 'cr_dbt_card_clng_expns_amount', 'cr_dbt_card_clng_op_number', 'cr_dbt_card_maint_expns_amount', 'cr_dbt_card_maint_op_number', 'cr_dbt_card_pets_expns_amount', 'cr_dbt_card_pets_op_number', 'cr_dbt_card_med_expns_amount', 'cr_dbt_card_med_op_number', 'cr_dbt_cd_courier_expns_amount', 'cr_dbt_card_courier_op_number', 'cr_dbt_card_misc_expns_amount', 'cr_debit_card_misc_op_number', 'cr_dbt_card_motel_expns_amount', 'cr_debit_card_motel_op_number', 'cr_dbt_cd_others_expns_amount', 'cr_debit_card_others_op_number', 'cr_dbt_cd_sttnry_expns_amount', 'cr_debit_card_sttnry_op_number', 'cr_dbt_cd_parkg_expns_amount', 'cr_debit_card_parkg_op_number', 'cr_dbt_cd_bakery_expns_amount', 'cr_debit_card_bakery_op_number', 'cr_dbt_cd_recyc_expns_amount', 'cr_debit_card_recyc_op_number', 'cr_dbt_cd_rstrnt_expns_amount', 'cr_debit_card_rstrnt_op_number', 'cr_dbt_cd_ins_expns_amount', 'cr_debit_card_ins_op_number', 'cr_dbt_cd_pub_srv_expns_amount', 'cr_debit_cd_pub_srv_op_number', 'cr_dbt_card_spmk_expns_amount', 'cr_debit_card_spmk_op_number', 'cr_dbt_card_tech_expns_amount', 'cr_debit_card_tech_op_number', 'cr_dbt_cd_tourism_expns_amount', 'cr_debit_cd_tourism_op_number', 'cr_dbt_cd_clothes_expns_amount', 'cr_debit_cd_clothes_op_number', 'cr_dbt_card_prvs_expns_amount', 'cr_debit_card_prvs_op_number']\n",
      "Columnas categóricas (antes de conversión): ['town_id', 'personal_type', 'collective_name', 'audit_date']\n",
      "Shape de X_train después del preprocesamiento: (9609, 984)\n",
      "Shape de X_test después del preprocesamiento: (2403, 984)\n",
      "Epoch 1/50\n",
      "\u001b[1m241/241\u001b[0m \u001b[32m━━━━━━━━━━━━━━━━━━━━\u001b[0m\u001b[37m\u001b[0m \u001b[1m3s\u001b[0m 5ms/step - accuracy: 0.9018 - loss: 0.3685 - precision: 0.0000e+00 - recall: 0.0000e+00 - val_accuracy: 0.8866 - val_loss: 0.3422 - val_precision: 0.0000e+00 - val_recall: 0.0000e+00\n",
      "Epoch 2/50\n",
      "\u001b[1m241/241\u001b[0m \u001b[32m━━━━━━━━━━━━━━━━━━━━\u001b[0m\u001b[37m\u001b[0m \u001b[1m1s\u001b[0m 4ms/step - accuracy: 0.8997 - loss: 0.2573 - precision: 0.5514 - recall: 0.0828 - val_accuracy: 0.8923 - val_loss: 0.3720 - val_precision: 0.9231 - val_recall: 0.0550\n",
      "Epoch 3/50\n",
      "\u001b[1m241/241\u001b[0m \u001b[32m━━━━━━━━━━━━━━━━━━━━\u001b[0m\u001b[37m\u001b[0m \u001b[1m1s\u001b[0m 4ms/step - accuracy: 0.9100 - loss: 0.2231 - precision: 0.7038 - recall: 0.1871 - val_accuracy: 0.9022 - val_loss: 0.4093 - val_precision: 0.7083 - val_recall: 0.2339\n",
      "Epoch 4/50\n",
      "\u001b[1m241/241\u001b[0m \u001b[32m━━━━━━━━━━━━━━━━━━━━\u001b[0m\u001b[37m\u001b[0m \u001b[1m1s\u001b[0m 4ms/step - accuracy: 0.9370 - loss: 0.1671 - precision: 0.8052 - recall: 0.4472 - val_accuracy: 0.9017 - val_loss: 0.3617 - val_precision: 0.6465 - val_recall: 0.2936\n",
      "Epoch 5/50\n",
      "\u001b[1m241/241\u001b[0m \u001b[32m━━━━━━━━━━━━━━━━━━━━\u001b[0m\u001b[37m\u001b[0m \u001b[1m1s\u001b[0m 4ms/step - accuracy: 0.9368 - loss: 0.1508 - precision: 0.8345 - recall: 0.4925 - val_accuracy: 0.8991 - val_loss: 0.3832 - val_precision: 0.5870 - val_recall: 0.3716\n",
      "Epoch 6/50\n",
      "\u001b[1m241/241\u001b[0m \u001b[32m━━━━━━━━━━━━━━━━━━━━\u001b[0m\u001b[37m\u001b[0m \u001b[1m1s\u001b[0m 4ms/step - accuracy: 0.9492 - loss: 0.1588 - precision: 0.8490 - recall: 0.5994 - val_accuracy: 0.8928 - val_loss: 0.4498 - val_precision: 0.5294 - val_recall: 0.4954\n",
      "Epoch 7/50\n",
      "\u001b[1m241/241\u001b[0m \u001b[32m━━━━━━━━━━━━━━━━━━━━\u001b[0m\u001b[37m\u001b[0m \u001b[1m1s\u001b[0m 4ms/step - accuracy: 0.9624 - loss: 0.0994 - precision: 0.8789 - recall: 0.7144 - val_accuracy: 0.9063 - val_loss: 0.4876 - val_precision: 0.6267 - val_recall: 0.4312\n",
      "Epoch 8/50\n",
      "\u001b[1m241/241\u001b[0m \u001b[32m━━━━━━━━━━━━━━━━━━━━\u001b[0m\u001b[37m\u001b[0m \u001b[1m1s\u001b[0m 4ms/step - accuracy: 0.9656 - loss: 0.0860 - precision: 0.8872 - recall: 0.7555 - val_accuracy: 0.8866 - val_loss: 0.4492 - val_precision: 0.5000 - val_recall: 0.6284\n",
      "Epoch 9/50\n",
      "\u001b[1m241/241\u001b[0m \u001b[32m━━━━━━━━━━━━━━━━━━━━\u001b[0m\u001b[37m\u001b[0m \u001b[1m1s\u001b[0m 4ms/step - accuracy: 0.9722 - loss: 0.0750 - precision: 0.8835 - recall: 0.8218 - val_accuracy: 0.9022 - val_loss: 0.5205 - val_precision: 0.5750 - val_recall: 0.5275\n",
      "Epoch 10/50\n",
      "\u001b[1m241/241\u001b[0m \u001b[32m━━━━━━━━━━━━━━━━━━━━\u001b[0m\u001b[37m\u001b[0m \u001b[1m1s\u001b[0m 4ms/step - accuracy: 0.9754 - loss: 0.0701 - precision: 0.9197 - recall: 0.8171 - val_accuracy: 0.8840 - val_loss: 0.7121 - val_precision: 0.4909 - val_recall: 0.6193\n",
      "Epoch 11/50\n",
      "\u001b[1m241/241\u001b[0m \u001b[32m━━━━━━━━━━━━━━━━━━━━\u001b[0m\u001b[37m\u001b[0m \u001b[1m1s\u001b[0m 4ms/step - accuracy: 0.9795 - loss: 0.0563 - precision: 0.8991 - recall: 0.8922 - val_accuracy: 0.9095 - val_loss: 1.2478 - val_precision: 0.6279 - val_recall: 0.4954\n",
      "Epoch 12/50\n",
      "\u001b[1m241/241\u001b[0m \u001b[32m━━━━━━━━━━━━━━━━━━━━\u001b[0m\u001b[37m\u001b[0m \u001b[1m1s\u001b[0m 4ms/step - accuracy: 0.9737 - loss: 0.0893 - precision: 0.8894 - recall: 0.8384 - val_accuracy: 0.9048 - val_loss: 0.6801 - val_precision: 0.5845 - val_recall: 0.5550\n",
      "Epoch 13/50\n",
      "\u001b[1m241/241\u001b[0m \u001b[32m━━━━━━━━━━━━━━━━━━━━\u001b[0m\u001b[37m\u001b[0m \u001b[1m1s\u001b[0m 4ms/step - accuracy: 0.9836 - loss: 0.0398 - precision: 0.9246 - recall: 0.8982 - val_accuracy: 0.8809 - val_loss: 0.9857 - val_precision: 0.4786 - val_recall: 0.5642\n",
      "Epoch 14/50\n",
      "\u001b[1m241/241\u001b[0m \u001b[32m━━━━━━━━━━━━━━━━━━━━\u001b[0m\u001b[37m\u001b[0m \u001b[1m1s\u001b[0m 4ms/step - accuracy: 0.9836 - loss: 0.0518 - precision: 0.9174 - recall: 0.9236 - val_accuracy: 0.9136 - val_loss: 1.2046 - val_precision: 0.6831 - val_recall: 0.4450\n",
      "Epoch 15/50\n",
      "\u001b[1m241/241\u001b[0m \u001b[32m━━━━━━━━━━━━━━━━━━━━\u001b[0m\u001b[37m\u001b[0m \u001b[1m1s\u001b[0m 4ms/step - accuracy: 0.9809 - loss: 0.0609 - precision: 0.9409 - recall: 0.8584 - val_accuracy: 0.9043 - val_loss: 0.7977 - val_precision: 0.5810 - val_recall: 0.5596\n",
      "Epoch 16/50\n",
      "\u001b[1m241/241\u001b[0m \u001b[32m━━━━━━━━━━━━━━━━━━━━\u001b[0m\u001b[37m\u001b[0m \u001b[1m1s\u001b[0m 4ms/step - accuracy: 0.9887 - loss: 0.0341 - precision: 0.9436 - recall: 0.9397 - val_accuracy: 0.9058 - val_loss: 0.6992 - val_precision: 0.5930 - val_recall: 0.5413\n",
      "Epoch 17/50\n",
      "\u001b[1m241/241\u001b[0m \u001b[32m━━━━━━━━━━━━━━━━━━━━\u001b[0m\u001b[37m\u001b[0m \u001b[1m1s\u001b[0m 4ms/step - accuracy: 0.9908 - loss: 0.0301 - precision: 0.9599 - recall: 0.9425 - val_accuracy: 0.9089 - val_loss: 1.1185 - val_precision: 0.6103 - val_recall: 0.5459\n",
      "Epoch 18/50\n",
      "\u001b[1m241/241\u001b[0m \u001b[32m━━━━━━━━━━━━━━━━━━━━\u001b[0m\u001b[37m\u001b[0m \u001b[1m1s\u001b[0m 4ms/step - accuracy: 0.9887 - loss: 0.0389 - precision: 0.9367 - recall: 0.9487 - val_accuracy: 0.8954 - val_loss: 0.8154 - val_precision: 0.5392 - val_recall: 0.5367\n",
      "Epoch 19/50\n",
      "\u001b[1m241/241\u001b[0m \u001b[32m━━━━━━━━━━━━━━━━━━━━\u001b[0m\u001b[37m\u001b[0m \u001b[1m1s\u001b[0m 4ms/step - accuracy: 0.9814 - loss: 0.0550 - precision: 0.8806 - recall: 0.9252 - val_accuracy: 0.9074 - val_loss: 0.7869 - val_precision: 0.6010 - val_recall: 0.5459\n",
      "Epoch 20/50\n",
      "\u001b[1m241/241\u001b[0m \u001b[32m━━━━━━━━━━━━━━━━━━━━\u001b[0m\u001b[37m\u001b[0m \u001b[1m1s\u001b[0m 4ms/step - accuracy: 0.9872 - loss: 0.0357 - precision: 0.9386 - recall: 0.9389 - val_accuracy: 0.9110 - val_loss: 0.7883 - val_precision: 0.6158 - val_recall: 0.5734\n",
      "Epoch 21/50\n",
      "\u001b[1m241/241\u001b[0m \u001b[32m━━━━━━━━━━━━━━━━━━━━\u001b[0m\u001b[37m\u001b[0m \u001b[1m1s\u001b[0m 4ms/step - accuracy: 0.9849 - loss: 0.0622 - precision: 0.9393 - recall: 0.9094 - val_accuracy: 0.9105 - val_loss: 0.8369 - val_precision: 0.6095 - val_recall: 0.5872\n",
      "Epoch 22/50\n",
      "\u001b[1m241/241\u001b[0m \u001b[32m━━━━━━━━━━━━━━━━━━━━\u001b[0m\u001b[37m\u001b[0m \u001b[1m1s\u001b[0m 4ms/step - accuracy: 0.9884 - loss: 0.0361 - precision: 0.9419 - recall: 0.9375 - val_accuracy: 0.9142 - val_loss: 1.7454 - val_precision: 0.6480 - val_recall: 0.5321\n",
      "Epoch 23/50\n",
      "\u001b[1m241/241\u001b[0m \u001b[32m━━━━━━━━━━━━━━━━━━━━\u001b[0m\u001b[37m\u001b[0m \u001b[1m1s\u001b[0m 4ms/step - accuracy: 0.9901 - loss: 0.0282 - precision: 0.9604 - recall: 0.9428 - val_accuracy: 0.9147 - val_loss: 1.3247 - val_precision: 0.6467 - val_recall: 0.5459\n",
      "Epoch 24/50\n",
      "\u001b[1m241/241\u001b[0m \u001b[32m━━━━━━━━━━━━━━━━━━━━\u001b[0m\u001b[37m\u001b[0m \u001b[1m1s\u001b[0m 4ms/step - accuracy: 0.9905 - loss: 0.0256 - precision: 0.9530 - recall: 0.9571 - val_accuracy: 0.9136 - val_loss: 1.3726 - val_precision: 0.6477 - val_recall: 0.5229\n",
      "Epoch 25/50\n",
      "\u001b[1m241/241\u001b[0m \u001b[32m━━━━━━━━━━━━━━━━━━━━\u001b[0m\u001b[37m\u001b[0m \u001b[1m1s\u001b[0m 4ms/step - accuracy: 0.9898 - loss: 0.0351 - precision: 0.9711 - recall: 0.9228 - val_accuracy: 0.9121 - val_loss: 1.4954 - val_precision: 0.6244 - val_recall: 0.5642\n",
      "Epoch 26/50\n",
      "\u001b[1m241/241\u001b[0m \u001b[32m━━━━━━━━━━━━━━━━━━━━\u001b[0m\u001b[37m\u001b[0m \u001b[1m1s\u001b[0m 4ms/step - accuracy: 0.9935 - loss: 0.0149 - precision: 0.9665 - recall: 0.9691 - val_accuracy: 0.9142 - val_loss: 1.6613 - val_precision: 0.6448 - val_recall: 0.5413\n",
      "Epoch 27/50\n",
      "\u001b[1m241/241\u001b[0m \u001b[32m━━━━━━━━━━━━━━━━━━━━\u001b[0m\u001b[37m\u001b[0m \u001b[1m1s\u001b[0m 4ms/step - accuracy: 0.9942 - loss: 0.0157 - precision: 0.9797 - recall: 0.9604 - val_accuracy: 0.9147 - val_loss: 1.4654 - val_precision: 0.6392 - val_recall: 0.5688\n",
      "Epoch 28/50\n",
      "\u001b[1m241/241\u001b[0m \u001b[32m━━━━━━━━━━━━━━━━━━━━\u001b[0m\u001b[37m\u001b[0m \u001b[1m1s\u001b[0m 4ms/step - accuracy: 0.9968 - loss: 0.0090 - precision: 0.9859 - recall: 0.9819 - val_accuracy: 0.9089 - val_loss: 2.8486 - val_precision: 0.6150 - val_recall: 0.5275\n",
      "Epoch 29/50\n",
      "\u001b[1m241/241\u001b[0m \u001b[32m━━━━━━━━━━━━━━━━━━━━\u001b[0m\u001b[37m\u001b[0m \u001b[1m1s\u001b[0m 4ms/step - accuracy: 0.9936 - loss: 0.0243 - precision: 0.9692 - recall: 0.9680 - val_accuracy: 0.9069 - val_loss: 1.1928 - val_precision: 0.5951 - val_recall: 0.5596\n",
      "Epoch 30/50\n",
      "\u001b[1m241/241\u001b[0m \u001b[32m━━━━━━━━━━━━━━━━━━━━\u001b[0m\u001b[37m\u001b[0m \u001b[1m1s\u001b[0m 4ms/step - accuracy: 0.9911 - loss: 0.0243 - precision: 0.9519 - recall: 0.9610 - val_accuracy: 0.9058 - val_loss: 1.4494 - val_precision: 0.5902 - val_recall: 0.5550\n",
      "Epoch 31/50\n",
      "\u001b[1m241/241\u001b[0m \u001b[32m━━━━━━━━━━━━━━━━━━━━\u001b[0m\u001b[37m\u001b[0m \u001b[1m1s\u001b[0m 4ms/step - accuracy: 0.9948 - loss: 0.0156 - precision: 0.9771 - recall: 0.9686 - val_accuracy: 0.9095 - val_loss: 1.8206 - val_precision: 0.6068 - val_recall: 0.5734\n",
      "Epoch 32/50\n",
      "\u001b[1m241/241\u001b[0m \u001b[32m━━━━━━━━━━━━━━━━━━━━\u001b[0m\u001b[37m\u001b[0m \u001b[1m1s\u001b[0m 4ms/step - accuracy: 0.9972 - loss: 0.0104 - precision: 0.9876 - recall: 0.9835 - val_accuracy: 0.9058 - val_loss: 1.6697 - val_precision: 0.5902 - val_recall: 0.5550\n",
      "Epoch 33/50\n",
      "\u001b[1m241/241\u001b[0m \u001b[32m━━━━━━━━━━━━━━━━━━━━\u001b[0m\u001b[37m\u001b[0m \u001b[1m1s\u001b[0m 4ms/step - accuracy: 0.9964 - loss: 0.0102 - precision: 0.9841 - recall: 0.9789 - val_accuracy: 0.9006 - val_loss: 2.5723 - val_precision: 0.5579 - val_recall: 0.5963\n",
      "Epoch 34/50\n",
      "\u001b[1m241/241\u001b[0m \u001b[32m━━━━━━━━━━━━━━━━━━━━\u001b[0m\u001b[37m\u001b[0m \u001b[1m1s\u001b[0m 4ms/step - accuracy: 0.9875 - loss: 0.0403 - precision: 0.9101 - recall: 0.9638 - val_accuracy: 0.9032 - val_loss: 2.2160 - val_precision: 0.5816 - val_recall: 0.5229\n",
      "Epoch 35/50\n",
      "\u001b[1m241/241\u001b[0m \u001b[32m━━━━━━━━━━━━━━━━━━━━\u001b[0m\u001b[37m\u001b[0m \u001b[1m1s\u001b[0m 4ms/step - accuracy: 0.9867 - loss: 0.0638 - precision: 0.9212 - recall: 0.9489 - val_accuracy: 0.8944 - val_loss: 2.1585 - val_precision: 0.5336 - val_recall: 0.5459\n",
      "Epoch 36/50\n",
      "\u001b[1m241/241\u001b[0m \u001b[32m━━━━━━━━━━━━━━━━━━━━\u001b[0m\u001b[37m\u001b[0m \u001b[1m1s\u001b[0m 4ms/step - accuracy: 0.9897 - loss: 0.0290 - precision: 0.9454 - recall: 0.9518 - val_accuracy: 0.9037 - val_loss: 0.9443 - val_precision: 0.5782 - val_recall: 0.5596\n",
      "Epoch 37/50\n",
      "\u001b[1m241/241\u001b[0m \u001b[32m━━━━━━━━━━━━━━━━━━━━\u001b[0m\u001b[37m\u001b[0m \u001b[1m1s\u001b[0m 4ms/step - accuracy: 0.9904 - loss: 0.0395 - precision: 0.9591 - recall: 0.9426 - val_accuracy: 0.9001 - val_loss: 2.0475 - val_precision: 0.5613 - val_recall: 0.5459\n",
      "Epoch 38/50\n",
      "\u001b[1m241/241\u001b[0m \u001b[32m━━━━━━━━━━━━━━━━━━━━\u001b[0m\u001b[37m\u001b[0m \u001b[1m1s\u001b[0m 4ms/step - accuracy: 0.9930 - loss: 0.0230 - precision: 0.9620 - recall: 0.9690 - val_accuracy: 0.9022 - val_loss: 1.5418 - val_precision: 0.5670 - val_recall: 0.5826\n",
      "Epoch 39/50\n",
      "\u001b[1m241/241\u001b[0m \u001b[32m━━━━━━━━━━━━━━━━━━━━\u001b[0m\u001b[37m\u001b[0m \u001b[1m1s\u001b[0m 4ms/step - accuracy: 0.9964 - loss: 0.0131 - precision: 0.9791 - recall: 0.9848 - val_accuracy: 0.9089 - val_loss: 2.3515 - val_precision: 0.6150 - val_recall: 0.5275\n",
      "Epoch 40/50\n",
      "\u001b[1m241/241\u001b[0m \u001b[32m━━━━━━━━━━━━━━━━━━━━\u001b[0m\u001b[37m\u001b[0m \u001b[1m1s\u001b[0m 4ms/step - accuracy: 0.9930 - loss: 0.0260 - precision: 0.9628 - recall: 0.9670 - val_accuracy: 0.9048 - val_loss: 1.2418 - val_precision: 0.5888 - val_recall: 0.5321\n",
      "Epoch 41/50\n",
      "\u001b[1m241/241\u001b[0m \u001b[32m━━━━━━━━━━━━━━━━━━━━\u001b[0m\u001b[37m\u001b[0m \u001b[1m1s\u001b[0m 4ms/step - accuracy: 0.9957 - loss: 0.0097 - precision: 0.9797 - recall: 0.9761 - val_accuracy: 0.8965 - val_loss: 3.8196 - val_precision: 0.5430 - val_recall: 0.5505\n",
      "Epoch 42/50\n",
      "\u001b[1m241/241\u001b[0m \u001b[32m━━━━━━━━━━━━━━━━━━━━\u001b[0m\u001b[37m\u001b[0m \u001b[1m1s\u001b[0m 4ms/step - accuracy: 0.9914 - loss: 0.0309 - precision: 0.9423 - recall: 0.9731 - val_accuracy: 0.8970 - val_loss: 2.1270 - val_precision: 0.5435 - val_recall: 0.5734\n",
      "Epoch 43/50\n",
      "\u001b[1m241/241\u001b[0m \u001b[32m━━━━━━━━━━━━━━━━━━━━\u001b[0m\u001b[37m\u001b[0m \u001b[1m1s\u001b[0m 4ms/step - accuracy: 0.9935 - loss: 0.0225 - precision: 0.9648 - recall: 0.9731 - val_accuracy: 0.9037 - val_loss: 2.1696 - val_precision: 0.5733 - val_recall: 0.5917\n",
      "Epoch 44/50\n",
      "\u001b[1m241/241\u001b[0m \u001b[32m━━━━━━━━━━━━━━━━━━━━\u001b[0m\u001b[37m\u001b[0m \u001b[1m1s\u001b[0m 4ms/step - accuracy: 0.9971 - loss: 0.0069 - precision: 0.9847 - recall: 0.9862 - val_accuracy: 0.9022 - val_loss: 1.5214 - val_precision: 0.5641 - val_recall: 0.6055\n",
      "Epoch 45/50\n",
      "\u001b[1m241/241\u001b[0m \u001b[32m━━━━━━━━━━━━━━━━━━━━\u001b[0m\u001b[37m\u001b[0m \u001b[1m1s\u001b[0m 4ms/step - accuracy: 0.9933 - loss: 0.0257 - precision: 0.9559 - recall: 0.9780 - val_accuracy: 0.9022 - val_loss: 3.9563 - val_precision: 0.5676 - val_recall: 0.5780\n",
      "Epoch 46/50\n",
      "\u001b[1m241/241\u001b[0m \u001b[32m━━━━━━━━━━━━━━━━━━━━\u001b[0m\u001b[37m\u001b[0m \u001b[1m1s\u001b[0m 4ms/step - accuracy: 0.9900 - loss: 0.0539 - precision: 0.9464 - recall: 0.9534 - val_accuracy: 0.9063 - val_loss: 3.2666 - val_precision: 0.5896 - val_recall: 0.5734\n",
      "Epoch 47/50\n",
      "\u001b[1m241/241\u001b[0m \u001b[32m━━━━━━━━━━━━━━━━━━━━\u001b[0m\u001b[37m\u001b[0m \u001b[1m1s\u001b[0m 4ms/step - accuracy: 0.9813 - loss: 0.0771 - precision: 0.9025 - recall: 0.9148 - val_accuracy: 0.8996 - val_loss: 1.2903 - val_precision: 0.5527 - val_recall: 0.6009\n",
      "Epoch 48/50\n",
      "\u001b[1m241/241\u001b[0m \u001b[32m━━━━━━━━━━━━━━━━━━━━\u001b[0m\u001b[37m\u001b[0m \u001b[1m1s\u001b[0m 4ms/step - accuracy: 0.9820 - loss: 0.0577 - precision: 0.8992 - recall: 0.9139 - val_accuracy: 0.9089 - val_loss: 2.1302 - val_precision: 0.6049 - val_recall: 0.5688\n",
      "Epoch 49/50\n",
      "\u001b[1m241/241\u001b[0m \u001b[32m━━━━━━━━━━━━━━━━━━━━\u001b[0m\u001b[37m\u001b[0m \u001b[1m1s\u001b[0m 5ms/step - accuracy: 0.9925 - loss: 0.0383 - precision: 0.9754 - recall: 0.9493 - val_accuracy: 0.8980 - val_loss: 1.8600 - val_precision: 0.5482 - val_recall: 0.5734\n",
      "Epoch 50/50\n",
      "\u001b[1m241/241\u001b[0m \u001b[32m━━━━━━━━━━━━━━━━━━━━\u001b[0m\u001b[37m\u001b[0m \u001b[1m1s\u001b[0m 4ms/step - accuracy: 0.9965 - loss: 0.0123 - precision: 0.9765 - recall: 0.9884 - val_accuracy: 0.9058 - val_loss: 3.3045 - val_precision: 0.5902 - val_recall: 0.5550\n",
      "\u001b[1m76/76\u001b[0m \u001b[32m━━━━━━━━━━━━━━━━━━━━\u001b[0m\u001b[37m\u001b[0m \u001b[1m0s\u001b[0m 3ms/step\n",
      "\n",
      "Reporte de clasificación en Test:\n",
      "              precision    recall  f1-score   support\n",
      "\n",
      "           0       0.96      0.96      0.96      2178\n",
      "           1       0.58      0.58      0.58       225\n",
      "\n",
      "    accuracy                           0.92      2403\n",
      "   macro avg       0.77      0.77      0.77      2403\n",
      "weighted avg       0.92      0.92      0.92      2403\n",
      "\n",
      "Precisión: 0.9209321681231794\n"
     ]
    }
   ],
   "source": [
    "import pandas as pd\n",
    "\n",
    "# Módulos de scikit-learn\n",
    "from sklearn.model_selection import train_test_split\n",
    "from sklearn.pipeline import Pipeline\n",
    "from sklearn.compose import ColumnTransformer\n",
    "from sklearn.impute import SimpleImputer\n",
    "from sklearn.preprocessing import StandardScaler, OneHotEncoder\n",
    "from sklearn.metrics import classification_report, accuracy_score\n",
    "\n",
    "# Librerías de Deep Learning (Keras / TensorFlow)\n",
    "import tensorflow as tf\n",
    "from tensorflow import keras\n",
    "from tensorflow.keras import layers\n",
    "\n",
    "# 1. Lectura del CSV de entrenamiento\n",
    "train_df = pd.read_csv('train_df.csv', delimiter=';', thousands='.', decimal=',')\n",
    "\n",
    "# Definir variables objetivo e identificación\n",
    "target = 'alta_tdc'\n",
    "id_col = 'identificador_cliente'\n",
    "\n",
    "# Separar características (X) y variable objetivo (y)\n",
    "X = train_df.drop([target, id_col], axis=1)\n",
    "y = train_df[target]\n",
    "\n",
    "# Seleccionar columnas numéricas y categóricas\n",
    "num_cols = X.select_dtypes(include=['number']).columns.tolist()\n",
    "cat_cols = X.select_dtypes(exclude=['number']).columns.tolist()\n",
    "\n",
    "print(\"Columnas numéricas:\", num_cols)\n",
    "print(\"Columnas categóricas (antes de conversión):\", cat_cols)\n",
    "\n",
    "# Convertir columnas categóricas a string\n",
    "X[cat_cols] = X[cat_cols].astype(str)\n",
    "\n",
    "# 2. Definir pipelines de preprocesamiento\n",
    "numeric_transformer = Pipeline(steps=[\n",
    "    ('imputer', SimpleImputer(strategy='median')),\n",
    "    ('scaler', StandardScaler())\n",
    "])\n",
    "\n",
    "categorical_transformer = Pipeline(steps=[\n",
    "    ('imputer', SimpleImputer(strategy='most_frequent')),\n",
    "    ('onehot', OneHotEncoder(handle_unknown='ignore'))\n",
    "])\n",
    "\n",
    "# Combinar ambos pipelines en un ColumnTransformer\n",
    "preprocessor = ColumnTransformer(transformers=[\n",
    "    ('num', numeric_transformer, num_cols),\n",
    "    ('cat', categorical_transformer, cat_cols)\n",
    "])\n",
    "\n",
    "# 3. Dividir en conjuntos de entrenamiento y prueba\n",
    "#    (Lo hacemos antes de ajustar el preprocessor para evitar fuga de datos)\n",
    "X_train_raw, X_test_raw, y_train, y_test = train_test_split(\n",
    "    X, y, test_size=0.2, random_state=42\n",
    ")\n",
    "\n",
    "# 4. Ajustar el preprocessor con el set de entrenamiento y transformar ambos\n",
    "preprocessor.fit(X_train_raw)\n",
    "X_train = preprocessor.transform(X_train_raw)\n",
    "X_test = preprocessor.transform(X_test_raw)\n",
    "\n",
    "# Comprobamos la forma de los datos transformados\n",
    "print(\"Shape de X_train después del preprocesamiento:\", X_train.shape)\n",
    "print(\"Shape de X_test después del preprocesamiento:\", X_test.shape)\n",
    "\n",
    "# -------------------------------------------------------------------------\n",
    "# Hiperparámetros recomendados por Optuna\n",
    "n_layers = 4\n",
    "n_units = 126\n",
    "dropout_rate = 0.0008711373345541258\n",
    "learning_rate = 0.006183924373275589\n",
    "# -------------------------------------------------------------------------\n",
    "\n",
    "# 5. Construir el modelo de red neuronal (MLP) con los hiperparámetros encontrados\n",
    "\n",
    "model = keras.Sequential()\n",
    "model.add(layers.Input(shape=(X_train.shape[1], )))\n",
    "\n",
    "# Añadimos n_layers capas ocultas, cada una con n_units neuronas y dropout_rate\n",
    "for _ in range(n_layers):\n",
    "    model.add(layers.Dense(n_units, activation='relu'))\n",
    "    model.add(layers.Dropout(dropout_rate))\n",
    "\n",
    "# Capa de salida (1 neurona con sigmoide para binario)\n",
    "model.add(layers.Dense(1, activation='sigmoid'))\n",
    "\n",
    "# Compilar la red con el learning_rate obtenido\n",
    "model.compile(\n",
    "    optimizer=keras.optimizers.Adam(learning_rate=learning_rate),\n",
    "    loss='binary_crossentropy',\n",
    "    metrics=[\n",
    "        'accuracy',\n",
    "        keras.metrics.Precision(name='precision'),\n",
    "        keras.metrics.Recall(name='recall')\n",
    "    ]\n",
    ")\n",
    "\n",
    "# 6. Entrenamiento de la red neuronal\n",
    "#    Ajusta epochs, batch_size y class_weight según tu dataset\n",
    "history = model.fit(\n",
    "    X_train,\n",
    "    y_train,\n",
    "    validation_split=0.2,\n",
    "    epochs=50,           # Puedes ajustarlo\n",
    "    batch_size=32,\n",
    "    verbose=1\n",
    ")\n",
    "\n",
    "# 7. Evaluación en el conjunto de prueba\n",
    "y_pred_probs = model.predict(X_test).ravel()   # Probabilidades\n",
    "y_pred = (y_pred_probs >= 0.5).astype(int)     # Umbral 0.5\n",
    "\n",
    "print(\"\\nReporte de clasificación en Test:\")\n",
    "print(classification_report(y_test, y_pred))\n",
    "print(\"Precisión:\", accuracy_score(y_test, y_pred))\n"
   ]
  },
  {
   "cell_type": "code",
   "execution_count": 8,
   "metadata": {},
   "outputs": [
    {
     "name": "stdout",
     "output_type": "stream",
     "text": [
      "\n",
      "Reporte de clasificación en Test:\n",
      "              precision    recall  f1-score   support\n",
      "\n",
      "           0       0.96      0.96      0.96      2178\n",
      "           1       0.58      0.58      0.58       225\n",
      "\n",
      "    accuracy                           0.92      2403\n",
      "   macro avg       0.77      0.77      0.77      2403\n",
      "weighted avg       0.92      0.92      0.92      2403\n",
      "\n",
      "Precisión: 0.9209321681231794\n"
     ]
    }
   ],
   "source": [
    "print(\"\\nReporte de clasificación en Test:\")\n",
    "print(classification_report(y_test, y_pred))\n",
    "print(\"Precisión:\", accuracy_score(y_test, y_pred))"
   ]
  },
  {
   "cell_type": "code",
   "execution_count": null,
   "metadata": {},
   "outputs": [],
   "source": []
  }
 ],
 "metadata": {
  "kernelspec": {
   "display_name": "base",
   "language": "python",
   "name": "python3"
  },
  "language_info": {
   "codemirror_mode": {
    "name": "ipython",
    "version": 3
   },
   "file_extension": ".py",
   "mimetype": "text/x-python",
   "name": "python",
   "nbconvert_exporter": "python",
   "pygments_lexer": "ipython3",
   "version": "3.12.7"
  }
 },
 "nbformat": 4,
 "nbformat_minor": 2
}
