{
 "cells": [
  {
   "cell_type": "markdown",
   "id": "intro",
   "metadata": {},
   "source": [
    "# Predicción de Altas de Tarjetas de Crédito\n",
    "### Prueba Técnica - Selección de Variables Significativas y Optimización del Umbral\n",
    "\n",
    "En este notebook se desarrolla un modelo de Machine Learning para predecir si un cliente adquirirá una tarjeta de crédito (`alta_tdc`).\n",
    "El proceso se divide en dos etapas principales:\n",
    "\n",
    "1. **Selección de Variables Significativas:** Se entrena un modelo base para extraer la importancia de cada variable y, posteriormente, se optimiza el umbral de selección para elegir las variables más relevantes.\n",
    "2. **Construcción y Evaluación del Modelo Final:** Se construye un pipeline final que incluye preprocesamiento, balanceo de clases (SMOTE) y entrenamiento de un RandomForestClassifier con hiperparámetros predeterminados.\n",
    "\n",
    "El objetivo es obtener un modelo robusto y, al final, mostrar únicamente el average_precision_score y la precisión."
   ]
  },
  {
   "cell_type": "markdown",
   "id": "objective",
   "metadata": {},
   "source": [
    "## Objetivo y Entregables\n",
    "\n",
    "**Objetivo:** Desarrollar un modelo predictivo utilizando únicamente las variables significativas, optimizando el umbral de selección y entrenando un modelo con parámetros predeterminados, de manera que se impriman únicamente el average_precision_score y la precisión.\n",
    "\n",
    "**Entregables:**\n",
    "- **Notebook (.ipynb):** Con el desarrollo del modelo, incluyendo la justificación de las decisiones tomadas y una reflexión sobre posibles mejoras o próximos pasos.\n",
    "- **Archivo de predicciones (.csv):** Con las columnas `ID_cliente` y `alta_tdc` (1 si el cliente adquiere la tarjeta, 0 en caso contrario)."
   ]
  },
  {
   "cell_type": "code",
   "execution_count": 28,
   "id": "imports",
   "metadata": {},
   "outputs": [],
   "source": [
    "import pandas as pd\n",
    "import numpy as np\n",
    "\n",
    "from sklearn.model_selection import train_test_split\n",
    "from sklearn.pipeline import Pipeline\n",
    "from sklearn.compose import ColumnTransformer\n",
    "from sklearn.impute import SimpleImputer\n",
    "from sklearn.preprocessing import StandardScaler, OneHotEncoder\n",
    "from sklearn.ensemble import RandomForestClassifier\n",
    "from sklearn.metrics import accuracy_score, average_precision_score,f1_score\n",
    "\n",
    "from imblearn.over_sampling import SMOTE\n",
    "from imblearn.pipeline import Pipeline as ImbPipeline\n",
    "\n",
    "import matplotlib.pyplot as plt\n",
    "%matplotlib inline\n",
    "import numpy as np"
   ]
  },
  {
   "cell_type": "code",
   "execution_count": 29,
   "id": "load_data",
   "metadata": {},
   "outputs": [
    {
     "name": "stdout",
     "output_type": "stream",
     "text": [
      "Dataset de entrenamiento cargado, dimensiones: (12012, 165)\n"
     ]
    },
    {
     "name": "stderr",
     "output_type": "stream",
     "text": [
      "C:\\Users\\wilson.hernandez\\AppData\\Local\\Temp\\ipykernel_22992\\3922022781.py:2: DtypeWarning: Columns (4,5) have mixed types. Specify dtype option on import or set low_memory=False.\n",
      "  train_df = pd.read_csv('train_df.csv', delimiter=';', thousands='.', decimal=',')\n"
     ]
    },
    {
     "data": {
      "application/vnd.microsoft.datawrangler.viewer.v0+json": {
       "columns": [
        {
         "name": "index",
         "rawType": "int64",
         "type": "integer"
        },
        {
         "name": "identificador_cliente",
         "rawType": "int64",
         "type": "integer"
        },
        {
         "name": "cust_age_number",
         "rawType": "int64",
         "type": "integer"
        },
        {
         "name": "customer_seniority_number",
         "rawType": "int64",
         "type": "integer"
        },
        {
         "name": "main_city_type",
         "rawType": "int64",
         "type": "integer"
        },
        {
         "name": "town_id",
         "rawType": "object",
         "type": "string"
        },
        {
         "name": "personal_type",
         "rawType": "object",
         "type": "unknown"
        },
        {
         "name": "marital_status_type",
         "rawType": "float64",
         "type": "float"
        },
        {
         "name": "address_relationship_type",
         "rawType": "int64",
         "type": "integer"
        },
        {
         "name": "adult_dependants_number",
         "rawType": "float64",
         "type": "float"
        },
        {
         "name": "target_type",
         "rawType": "int64",
         "type": "integer"
        },
        {
         "name": "customer_asset_amount",
         "rawType": "int64",
         "type": "integer"
        },
        {
         "name": "customer_liability_amount",
         "rawType": "int64",
         "type": "integer"
        },
        {
         "name": "customer_status_type",
         "rawType": "int64",
         "type": "integer"
        },
        {
         "name": "month_withdrawals_number",
         "rawType": "float64",
         "type": "float"
        },
        {
         "name": "month_payment_number",
         "rawType": "float64",
         "type": "float"
        },
        {
         "name": "month_purchase_number",
         "rawType": "float64",
         "type": "float"
        },
        {
         "name": "m_exit_amount",
         "rawType": "float64",
         "type": "float"
        },
        {
         "name": "m_entry_amount",
         "rawType": "float64",
         "type": "float"
        },
        {
         "name": "mth_mbl_app_qry_number",
         "rawType": "float64",
         "type": "float"
        },
        {
         "name": "mth_mbl_app_mnty_tr_number",
         "rawType": "float64",
         "type": "float"
        },
        {
         "name": "mth_mbl_app_non_mnty_tr_number",
         "rawType": "float64",
         "type": "float"
        },
        {
         "name": "month_atm_queries_number",
         "rawType": "float64",
         "type": "float"
        },
        {
         "name": "atm_made_fin_trans_number",
         "rawType": "float64",
         "type": "float"
        },
        {
         "name": "atm_made_nfin_tran_number",
         "rawType": "float64",
         "type": "float"
        },
        {
         "name": "inquiries_digi_channel_number",
         "rawType": "float64",
         "type": "float"
        },
        {
         "name": "dig_financial_trans_tot_number",
         "rawType": "float64",
         "type": "float"
        },
        {
         "name": "dig_non_fin_trans_tot_number",
         "rawType": "float64",
         "type": "float"
        },
        {
         "name": "mth_co_netcash_queries_number",
         "rawType": "float64",
         "type": "float"
        },
        {
         "name": "mth_co_netc_non_mnty_tr_number",
         "rawType": "float64",
         "type": "float"
        },
        {
         "name": "mth_co_netcash_mnty_tr_number",
         "rawType": "float64",
         "type": "float"
        },
        {
         "name": "mth_ppl_netcash_queries_number",
         "rawType": "float64",
         "type": "float"
        },
        {
         "name": "mth_ppl_netcash_mnty_tr_number",
         "rawType": "float64",
         "type": "float"
        },
        {
         "name": "mth_pplnetc_non_mnty_tr_number",
         "rawType": "float64",
         "type": "float"
        },
        {
         "name": "month_h2h_queries_number",
         "rawType": "float64",
         "type": "float"
        },
        {
         "name": "month_h2h_mnty_tr_number",
         "rawType": "float64",
         "type": "float"
        },
        {
         "name": "month_h2h_non_mnty_tr_number",
         "rawType": "float64",
         "type": "float"
        },
        {
         "name": "month_webpage_queries_number",
         "rawType": "float64",
         "type": "float"
        },
        {
         "name": "mth_webpage_mnty_tr_number",
         "rawType": "float64",
         "type": "float"
        },
        {
         "name": "mth_webpage_non_mnty_tr_number",
         "rawType": "float64",
         "type": "float"
        },
        {
         "name": "mth_ext_pos_queries_number",
         "rawType": "float64",
         "type": "float"
        },
        {
         "name": "mth_ext_pos_mnty_tr_number",
         "rawType": "float64",
         "type": "float"
        },
        {
         "name": "mth_ext_pos_non_mnty_tr_number",
         "rawType": "float64",
         "type": "float"
        },
        {
         "name": "mth_ext_ntwrk_queries_number",
         "rawType": "float64",
         "type": "float"
        },
        {
         "name": "mth_ext_ntwrk_mnty_tr_number",
         "rawType": "float64",
         "type": "float"
        },
        {
         "name": "m_ext_ntwrk_non_mnty_tr_number",
         "rawType": "float64",
         "type": "float"
        },
        {
         "name": "mth_banknet_queries_number",
         "rawType": "float64",
         "type": "float"
        },
        {
         "name": "mth_banknet_mnty_tr_number",
         "rawType": "float64",
         "type": "float"
        },
        {
         "name": "mth_banknet_non_mnty_tr_number",
         "rawType": "float64",
         "type": "float"
        },
        {
         "name": "mth_third_party_queries_number",
         "rawType": "float64",
         "type": "float"
        },
        {
         "name": "month_thpty_mnty_tr_number",
         "rawType": "float64",
         "type": "float"
        },
        {
         "name": "month_thpty_non_mnty_tr_number",
         "rawType": "float64",
         "type": "float"
        },
        {
         "name": "recv_payrl_transactions_number",
         "rawType": "float64",
         "type": "float"
        },
        {
         "name": "current_payroll_incm_amount",
         "rawType": "float64",
         "type": "float"
        },
        {
         "name": "payroll_type",
         "rawType": "float64",
         "type": "float"
        },
        {
         "name": "instlmnt_1_bill_average_amount",
         "rawType": "float64",
         "type": "float"
        },
        {
         "name": "cr_card_bill_average_amount",
         "rawType": "float64",
         "type": "float"
        },
        {
         "name": "instlmnt_1_tr_average_per",
         "rawType": "float64",
         "type": "float"
        },
        {
         "name": "instlmnt_1_transactions_type",
         "rawType": "float64",
         "type": "float"
        },
        {
         "name": "saving_prdt_avg_bal_amount",
         "rawType": "float64",
         "type": "float"
        },
        {
         "name": "fix_saving_prdt_avg_bal_amount",
         "rawType": "float64",
         "type": "float"
        },
        {
         "name": "cdt_prdt_avg_balance_amount",
         "rawType": "float64",
         "type": "float"
        },
        {
         "name": "consumer_cash_balance_amount",
         "rawType": "float64",
         "type": "float"
        },
        {
         "name": "current_asset_amount",
         "rawType": "float64",
         "type": "float"
        },
        {
         "name": "avg_balance_fund_amount",
         "rawType": "float64",
         "type": "float"
        },
        {
         "name": "mtge_prdt_avg_balance_amount",
         "rawType": "float64",
         "type": "float"
        },
        {
         "name": "bbva_payrl_oblg_tot_bal_amount",
         "rawType": "float64",
         "type": "float"
        },
        {
         "name": "avg_cr_card_balance_amount",
         "rawType": "float64",
         "type": "float"
        },
        {
         "name": "vehicle_credit_average_amount",
         "rawType": "float64",
         "type": "float"
        },
        {
         "name": "lt_saving_prdt_avg_bal_amount",
         "rawType": "float64",
         "type": "float"
        },
        {
         "name": "save_account_type",
         "rawType": "float64",
         "type": "float"
        },
        {
         "name": "fixed_savings_tenure_type",
         "rawType": "float64",
         "type": "float"
        },
        {
         "name": "term_cdt_tenure_type",
         "rawType": "float64",
         "type": "float"
        },
        {
         "name": "tenure_consm_product_type",
         "rawType": "float64",
         "type": "float"
        },
        {
         "name": "ownership_ca_type",
         "rawType": "float64",
         "type": "float"
        },
        {
         "name": "funds_ownership_ind_type",
         "rawType": "float64",
         "type": "float"
        },
        {
         "name": "ownership_mloan_type",
         "rawType": "float64",
         "type": "float"
        },
        {
         "name": "libranza_tenure_mark_type",
         "rawType": "float64",
         "type": "float"
        },
        {
         "name": "credit_card_ownshp_ind_type",
         "rawType": "float64",
         "type": "float"
        },
        {
         "name": "vehicle_cr_tenure_mark_type",
         "rawType": "float64",
         "type": "float"
        },
        {
         "name": "long_term_savings_tenure_type",
         "rawType": "float64",
         "type": "float"
        },
        {
         "name": "new_segment_id",
         "rawType": "float64",
         "type": "float"
        },
        {
         "name": "customer_products_number",
         "rawType": "float64",
         "type": "float"
        },
        {
         "name": "collective_name",
         "rawType": "object",
         "type": "string"
        },
        {
         "name": "cr_dbt_card_agric_expns_amount",
         "rawType": "float64",
         "type": "float"
        },
        {
         "name": "cr_dbt_card_agric_op_number",
         "rawType": "float64",
         "type": "float"
        },
        {
         "name": "cr_dbt_card_adv_expns_amount",
         "rawType": "float64",
         "type": "float"
        },
        {
         "name": "cr_dbt_card_adv_op_number",
         "rawType": "float64",
         "type": "float"
        },
        {
         "name": "cr_dbt_card_veh_expns_amount",
         "rawType": "float64",
         "type": "float"
        },
        {
         "name": "cr_dbt_card_veh_op_number",
         "rawType": "float64",
         "type": "float"
        },
        {
         "name": "cr_dbt_cd_beauty_expns_amount",
         "rawType": "float64",
         "type": "float"
        },
        {
         "name": "cr_dbt_card_beauty_op_number",
         "rawType": "float64",
         "type": "float"
        },
        {
         "name": "cr_dbt_cd_casino_expns_amount",
         "rawType": "float64",
         "type": "float"
        },
        {
         "name": "cr_dbt_card_casino_op_number",
         "rawType": "float64",
         "type": "float"
        },
        {
         "name": "cr_dbt_cd_cns_expns_amount",
         "rawType": "float64",
         "type": "float"
        },
        {
         "name": "cr_dbt_card_cns_op_number",
         "rawType": "float64",
         "type": "float"
        },
        {
         "name": "cr_dbt_cd_sport_expns_amount",
         "rawType": "float64",
         "type": "float"
        },
        {
         "name": "cr_dbt_card_sport_op_number",
         "rawType": "float64",
         "type": "float"
        },
        {
         "name": "cr_dbt_cd_digital_expns_amount",
         "rawType": "float64",
         "type": "float"
        },
        {
         "name": "cr_dbt_cd_digital_op_number",
         "rawType": "float64",
         "type": "float"
        },
        {
         "name": "cr_dbt_card_educ_expns_amount",
         "rawType": "float64",
         "type": "float"
        },
        {
         "name": "cr_dbt_card_educ_op_number",
         "rawType": "float64",
         "type": "float"
        },
        {
         "name": "cr_dbt_cd_co_stmp_expns_amount",
         "rawType": "float64",
         "type": "float"
        },
        {
         "name": "cr_dbt_cd_co_stamp_op_number",
         "rawType": "float64",
         "type": "float"
        },
        {
         "name": "cr_dbt_card_fcg_expns_amount",
         "rawType": "float64",
         "type": "float"
        },
        {
         "name": "cr_dbt_card_fcg_op_number",
         "rawType": "float64",
         "type": "float"
        },
        {
         "name": "cr_dbt_card_fndat_expns_amount",
         "rawType": "float64",
         "type": "float"
        },
        {
         "name": "cr_dbt_card_fndat_op_number",
         "rawType": "float64",
         "type": "float"
        },
        {
         "name": "cr_dbt_cd_funeral_expns_amount",
         "rawType": "float64",
         "type": "float"
        },
        {
         "name": "cr_dbt_card_funeral_op_number",
         "rawType": "float64",
         "type": "float"
        },
        {
         "name": "cr_dbt_card_govt_expns_amount",
         "rawType": "float64",
         "type": "float"
        },
        {
         "name": "cr_dbt_card_govt_op_number",
         "rawType": "float64",
         "type": "float"
        },
        {
         "name": "cr_dbt_card_home_expns_amount",
         "rawType": "float64",
         "type": "float"
        },
        {
         "name": "cr_dbt_card_home_op_number",
         "rawType": "float64",
         "type": "float"
        },
        {
         "name": "cr_dbt_card_inds_expns_amount",
         "rawType": "float64",
         "type": "float"
        },
        {
         "name": "cr_dbt_card_inds_op_number",
         "rawType": "float64",
         "type": "float"
        },
        {
         "name": "cr_dbt_card_re_expns_amount",
         "rawType": "float64",
         "type": "float"
        },
        {
         "name": "cr_dbt_card_re_op_number",
         "rawType": "float64",
         "type": "float"
        },
        {
         "name": "cr_dbt_card_jwlry_expns_amount",
         "rawType": "float64",
         "type": "float"
        },
        {
         "name": "cr_dbt_card_jwlry_op_number",
         "rawType": "float64",
         "type": "float"
        },
        {
         "name": "cr_dbt_cd_lbrtry_expns_amount",
         "rawType": "float64",
         "type": "float"
        },
        {
         "name": "cr_dbt_cd_laboratory_op_number",
         "rawType": "float64",
         "type": "float"
        },
        {
         "name": "cr_dbt_cd_lqr_str_expns_amount",
         "rawType": "float64",
         "type": "float"
        },
        {
         "name": "cr_dbt_cd_lqr_str_op_number",
         "rawType": "float64",
         "type": "float"
        },
        {
         "name": "cr_dbt_card_clng_expns_amount",
         "rawType": "float64",
         "type": "float"
        },
        {
         "name": "cr_dbt_card_clng_op_number",
         "rawType": "float64",
         "type": "float"
        },
        {
         "name": "cr_dbt_card_maint_expns_amount",
         "rawType": "float64",
         "type": "float"
        },
        {
         "name": "cr_dbt_card_maint_op_number",
         "rawType": "float64",
         "type": "float"
        },
        {
         "name": "cr_dbt_card_pets_expns_amount",
         "rawType": "float64",
         "type": "float"
        },
        {
         "name": "cr_dbt_card_pets_op_number",
         "rawType": "float64",
         "type": "float"
        },
        {
         "name": "cr_dbt_card_med_expns_amount",
         "rawType": "float64",
         "type": "float"
        },
        {
         "name": "cr_dbt_card_med_op_number",
         "rawType": "float64",
         "type": "float"
        },
        {
         "name": "cr_dbt_cd_courier_expns_amount",
         "rawType": "float64",
         "type": "float"
        },
        {
         "name": "cr_dbt_card_courier_op_number",
         "rawType": "float64",
         "type": "float"
        },
        {
         "name": "cr_dbt_card_misc_expns_amount",
         "rawType": "float64",
         "type": "float"
        },
        {
         "name": "cr_debit_card_misc_op_number",
         "rawType": "float64",
         "type": "float"
        },
        {
         "name": "cr_dbt_card_motel_expns_amount",
         "rawType": "float64",
         "type": "float"
        },
        {
         "name": "cr_debit_card_motel_op_number",
         "rawType": "float64",
         "type": "float"
        },
        {
         "name": "cr_dbt_cd_others_expns_amount",
         "rawType": "float64",
         "type": "float"
        },
        {
         "name": "cr_debit_card_others_op_number",
         "rawType": "float64",
         "type": "float"
        },
        {
         "name": "cr_dbt_cd_sttnry_expns_amount",
         "rawType": "float64",
         "type": "float"
        },
        {
         "name": "cr_debit_card_sttnry_op_number",
         "rawType": "float64",
         "type": "float"
        },
        {
         "name": "cr_dbt_cd_parkg_expns_amount",
         "rawType": "float64",
         "type": "float"
        },
        {
         "name": "cr_debit_card_parkg_op_number",
         "rawType": "float64",
         "type": "float"
        },
        {
         "name": "cr_dbt_cd_bakery_expns_amount",
         "rawType": "float64",
         "type": "float"
        },
        {
         "name": "cr_debit_card_bakery_op_number",
         "rawType": "float64",
         "type": "float"
        },
        {
         "name": "cr_dbt_cd_recyc_expns_amount",
         "rawType": "float64",
         "type": "float"
        },
        {
         "name": "cr_debit_card_recyc_op_number",
         "rawType": "float64",
         "type": "float"
        },
        {
         "name": "cr_dbt_cd_rstrnt_expns_amount",
         "rawType": "float64",
         "type": "float"
        },
        {
         "name": "cr_debit_card_rstrnt_op_number",
         "rawType": "float64",
         "type": "float"
        },
        {
         "name": "cr_dbt_cd_ins_expns_amount",
         "rawType": "float64",
         "type": "float"
        },
        {
         "name": "cr_debit_card_ins_op_number",
         "rawType": "float64",
         "type": "float"
        },
        {
         "name": "cr_dbt_cd_pub_srv_expns_amount",
         "rawType": "float64",
         "type": "float"
        },
        {
         "name": "cr_debit_cd_pub_srv_op_number",
         "rawType": "float64",
         "type": "float"
        },
        {
         "name": "cr_dbt_card_spmk_expns_amount",
         "rawType": "float64",
         "type": "float"
        },
        {
         "name": "cr_debit_card_spmk_op_number",
         "rawType": "float64",
         "type": "float"
        },
        {
         "name": "cr_dbt_card_tech_expns_amount",
         "rawType": "float64",
         "type": "float"
        },
        {
         "name": "cr_debit_card_tech_op_number",
         "rawType": "float64",
         "type": "float"
        },
        {
         "name": "cr_dbt_cd_tourism_expns_amount",
         "rawType": "float64",
         "type": "float"
        },
        {
         "name": "cr_debit_cd_tourism_op_number",
         "rawType": "float64",
         "type": "float"
        },
        {
         "name": "cr_dbt_cd_clothes_expns_amount",
         "rawType": "float64",
         "type": "float"
        },
        {
         "name": "cr_debit_cd_clothes_op_number",
         "rawType": "float64",
         "type": "float"
        },
        {
         "name": "cr_dbt_card_prvs_expns_amount",
         "rawType": "float64",
         "type": "float"
        },
        {
         "name": "cr_debit_card_prvs_op_number",
         "rawType": "float64",
         "type": "float"
        },
        {
         "name": "audit_date",
         "rawType": "object",
         "type": "string"
        },
        {
         "name": "alta_tdc",
         "rawType": "int64",
         "type": "integer"
        }
       ],
       "conversionMethod": "pd.DataFrame",
       "ref": "81643df5-c4a6-47a3-9ec7-c5a947b79c2e",
       "rows": [
        [
         "0",
         "1",
         "68",
         "37",
         "1",
         "11001",
         "1",
         "1.0",
         "3",
         "0.0",
         "1",
         "13866111161",
         "255747166",
         "2",
         "2300000.0",
         "0.0",
         "2198616.0",
         "0.0",
         "1552922600.0",
         "0.0",
         "0.0",
         "0.0",
         "0.0",
         "11.0",
         "0.0",
         "0.0",
         "0.0",
         "0.0",
         "0.0",
         "0.0",
         "0.0",
         "0.0",
         "0.0",
         "0.0",
         "0.0",
         "0.0",
         "1.0",
         "0.0",
         "0.0",
         "0.0",
         "0.0",
         "44.0",
         "0.0",
         "0.0",
         "0.0",
         "0.0",
         "0.0",
         "0.0",
         "0.0",
         "0.0",
         "0.0",
         "0.0",
         "1.0",
         "656553839.0",
         "2.0",
         null,
         null,
         null,
         null,
         "163017427.0",
         null,
         null,
         null,
         null,
         null,
         null,
         "13859580800.0",
         "0.0",
         null,
         null,
         "1.0",
         "0.0",
         "0.0",
         "0.0",
         "0.0",
         "0.0",
         "0.0",
         "1.0",
         "0.0",
         "0.0",
         "0.0",
         "83000.0",
         "3.0",
         "PENSIONADOS",
         "0.0",
         "0.0",
         "0.0",
         "0.0",
         "18177900.0",
         "3.0",
         "0.0",
         "0.0",
         "50000000.0",
         "5.0",
         "0.0",
         "0.0",
         "0.0",
         "0.0",
         "0.0",
         "0.0",
         "0.0",
         "0.0",
         "0.0",
         "0.0",
         "0.0",
         "0.0",
         "0.0",
         "0.0",
         "0.0",
         "0.0",
         "0.0",
         "0.0",
         "0.0",
         "0.0",
         "0.0",
         "0.0",
         "0.0",
         "0.0",
         "0.0",
         "0.0",
         "0.0",
         "0.0",
         "0.0",
         "0.0",
         "0.0",
         "0.0",
         "0.0",
         "0.0",
         "0.0",
         "0.0",
         "21500000.0",
         "6.0",
         "0.0",
         "0.0",
         "0.0",
         "0.0",
         "0.0",
         "0.0",
         "0.0",
         "0.0",
         "0.0",
         "0.0",
         "0.0",
         "0.0",
         "0.0",
         "0.0",
         "0.0",
         "0.0",
         "44590000.0",
         "9.0",
         "0.0",
         "0.0",
         "3790000.0",
         "1.0",
         "41906500.0",
         "11.0",
         "12545000.0",
         "3.0",
         "0.0",
         "0.0",
         "8500000.0",
         "1.0",
         "18852200.0",
         "5.0",
         "2024-11-07T05:18:36.416Z",
         "0"
        ],
        [
         "1",
         "2",
         "92",
         "37",
         "1",
         "11001",
         "1",
         "2.0",
         "3",
         "0.0",
         "1",
         "241279238",
         "8825528",
         "2",
         null,
         null,
         null,
         null,
         null,
         null,
         null,
         null,
         null,
         null,
         null,
         null,
         null,
         null,
         null,
         null,
         null,
         null,
         null,
         null,
         null,
         null,
         null,
         null,
         null,
         null,
         null,
         null,
         null,
         null,
         null,
         null,
         null,
         null,
         null,
         null,
         null,
         null,
         null,
         null,
         null,
         null,
         null,
         null,
         null,
         "2678260.0",
         null,
         null,
         null,
         "6147268.0",
         null,
         null,
         null,
         "241279238.0",
         null,
         null,
         "1.0",
         "0.0",
         "0.0",
         "0.0",
         "1.0",
         "0.0",
         "0.0",
         "0.0",
         "1.0",
         "0.0",
         "0.0",
         "84000.0",
         "5.0",
         "OTROS",
         null,
         null,
         null,
         null,
         null,
         null,
         null,
         null,
         null,
         null,
         null,
         null,
         null,
         null,
         null,
         null,
         null,
         null,
         null,
         null,
         null,
         null,
         null,
         null,
         null,
         null,
         null,
         null,
         null,
         null,
         null,
         null,
         null,
         null,
         null,
         null,
         null,
         null,
         null,
         null,
         null,
         null,
         null,
         null,
         null,
         null,
         null,
         null,
         null,
         null,
         null,
         null,
         null,
         null,
         null,
         null,
         null,
         null,
         null,
         null,
         null,
         null,
         null,
         null,
         null,
         null,
         null,
         null,
         null,
         null,
         null,
         null,
         null,
         null,
         null,
         null,
         null,
         null,
         null,
         null,
         "2024-11-07T05:18:36.416Z",
         "0"
        ],
        [
         "2",
         "3",
         "70",
         "27",
         "0",
         "25572",
         "1",
         "2.0",
         "2",
         null,
         "1",
         "518932423",
         "504147105",
         "2",
         "1900000.0",
         "0.0",
         "738758.0",
         "0.0",
         "234264300.0",
         "0.0",
         "0.0",
         "0.0",
         "0.0",
         "5.0",
         "0.0",
         "0.0",
         "0.0",
         "0.0",
         "0.0",
         "0.0",
         "0.0",
         "0.0",
         "0.0",
         "0.0",
         "0.0",
         "2.0",
         "0.0",
         "0.0",
         "0.0",
         "0.0",
         "0.0",
         "2.0",
         "0.0",
         "0.0",
         "0.0",
         "0.0",
         "1.0",
         "3.0",
         "0.0",
         "0.0",
         "0.0",
         "0.0",
         "1.0",
         "234204300.0",
         "3.0",
         null,
         null,
         null,
         null,
         "504968339.0",
         null,
         null,
         "516004200.0",
         null,
         null,
         null,
         null,
         "0.0",
         null,
         null,
         "1.0",
         "0.0",
         "0.0",
         "1.0",
         "0.0",
         "0.0",
         "0.0",
         "0.0",
         "0.0",
         "0.0",
         "0.0",
         "84000.0",
         "4.0",
         "PENSIONADOS",
         "0.0",
         "0.0",
         "0.0",
         "0.0",
         "0.0",
         "0.0",
         "0.0",
         "0.0",
         "0.0",
         "0.0",
         "0.0",
         "0.0",
         "0.0",
         "0.0",
         "0.0",
         "0.0",
         "0.0",
         "0.0",
         "0.0",
         "0.0",
         "0.0",
         "0.0",
         "0.0",
         "0.0",
         "0.0",
         "0.0",
         "0.0",
         "0.0",
         "0.0",
         "0.0",
         "0.0",
         "0.0",
         "0.0",
         "0.0",
         "0.0",
         "0.0",
         "0.0",
         "0.0",
         "0.0",
         "0.0",
         "0.0",
         "0.0",
         "0.0",
         "0.0",
         "0.0",
         "0.0",
         "0.0",
         "0.0",
         "0.0",
         "0.0",
         "0.0",
         "0.0",
         "0.0",
         "0.0",
         "0.0",
         "0.0",
         "0.0",
         "0.0",
         "0.0",
         "0.0",
         "0.0",
         "0.0",
         "0.0",
         "0.0",
         "0.0",
         "0.0",
         "0.0",
         "0.0",
         "0.0",
         "0.0",
         "73875800.0",
         "2.0",
         "0.0",
         "0.0",
         "0.0",
         "0.0",
         "0.0",
         "0.0",
         "0.0",
         "0.0",
         "2024-11-07T05:18:36.416Z",
         "0"
        ],
        [
         "3",
         "4",
         "76",
         "27",
         "0",
         "25290",
         "1",
         "2.0",
         "3",
         null,
         "1",
         "0",
         "3594231700",
         "2",
         "0.0",
         "0.0",
         "0.0",
         "0.0",
         "261462000.0",
         null,
         null,
         null,
         null,
         null,
         null,
         null,
         null,
         null,
         null,
         null,
         null,
         null,
         null,
         null,
         null,
         null,
         null,
         null,
         null,
         null,
         null,
         null,
         null,
         null,
         null,
         null,
         null,
         null,
         null,
         null,
         null,
         null,
         "1.0",
         "261462000.0",
         "3.0",
         null,
         null,
         null,
         null,
         "3797088410.0",
         null,
         null,
         null,
         null,
         null,
         null,
         null,
         "0.0",
         null,
         null,
         "1.0",
         "0.0",
         "0.0",
         "0.0",
         "0.0",
         "0.0",
         "0.0",
         "0.0",
         "0.0",
         "0.0",
         "0.0",
         "84000.0",
         "2.0",
         "PENSIONADOS",
         null,
         null,
         null,
         null,
         null,
         null,
         null,
         null,
         null,
         null,
         null,
         null,
         null,
         null,
         null,
         null,
         null,
         null,
         null,
         null,
         null,
         null,
         null,
         null,
         null,
         null,
         null,
         null,
         null,
         null,
         null,
         null,
         null,
         null,
         null,
         null,
         null,
         null,
         null,
         null,
         null,
         null,
         null,
         null,
         null,
         null,
         null,
         null,
         null,
         null,
         null,
         null,
         null,
         null,
         null,
         null,
         null,
         null,
         null,
         null,
         null,
         null,
         null,
         null,
         null,
         null,
         null,
         null,
         null,
         null,
         null,
         null,
         null,
         null,
         null,
         null,
         null,
         null,
         null,
         null,
         "2024-11-07T05:18:36.416Z",
         "0"
        ],
        [
         "4",
         "5",
         "90",
         "37",
         "1",
         "5001",
         "1",
         "2.0",
         "5",
         "2.0",
         "1",
         "0",
         "1626131341",
         "2",
         "0.0",
         "0.0",
         "601491.0",
         "1305000000.0",
         "1383485100.0",
         "69.0",
         "6.0",
         "0.0",
         "0.0",
         "0.0",
         "0.0",
         "0.0",
         "0.0",
         "0.0",
         "0.0",
         "0.0",
         "0.0",
         "29.0",
         "0.0",
         "0.0",
         "0.0",
         "0.0",
         "0.0",
         "0.0",
         "0.0",
         "0.0",
         "0.0",
         "6.0",
         "0.0",
         "0.0",
         "0.0",
         "0.0",
         "0.0",
         "0.0",
         "0.0",
         "0.0",
         "0.0",
         "0.0",
         "1.0",
         "725680400.0",
         "3.0",
         null,
         null,
         null,
         null,
         "2204612225.0",
         null,
         "100000000.0",
         null,
         null,
         null,
         null,
         null,
         null,
         null,
         null,
         "1.0",
         "0.0",
         "1.0",
         "0.0",
         "0.0",
         "0.0",
         "0.0",
         "0.0",
         "0.0",
         "0.0",
         "0.0",
         "83000.0",
         "3.0",
         "PENSIONADOS",
         "0.0",
         "0.0",
         "0.0",
         "0.0",
         "0.0",
         "0.0",
         "0.0",
         "0.0",
         "0.0",
         "0.0",
         "0.0",
         "0.0",
         "0.0",
         "0.0",
         "0.0",
         "0.0",
         "0.0",
         "0.0",
         "0.0",
         "0.0",
         "0.0",
         "0.0",
         "0.0",
         "0.0",
         "0.0",
         "0.0",
         "0.0",
         "0.0",
         "0.0",
         "0.0",
         "0.0",
         "0.0",
         "0.0",
         "0.0",
         "0.0",
         "0.0",
         "0.0",
         "0.0",
         "0.0",
         "0.0",
         "0.0",
         "0.0",
         "0.0",
         "0.0",
         "0.0",
         "0.0",
         "78280000.0",
         "8.0",
         "0.0",
         "0.0",
         "0.0",
         "0.0",
         "0.0",
         "0.0",
         "0.0",
         "0.0",
         "0.0",
         "0.0",
         "0.0",
         "0.0",
         "0.0",
         "0.0",
         "0.0",
         "0.0",
         "42018200.0",
         "4.0",
         "0.0",
         "0.0",
         "0.0",
         "0.0",
         "0.0",
         "0.0",
         "0.0",
         "0.0",
         "0.0",
         "0.0",
         "0.0",
         "0.0",
         "0.0",
         "0.0",
         "2024-11-07T05:18:36.416Z",
         "0"
        ]
       ],
       "shape": {
        "columns": 165,
        "rows": 5
       }
      },
      "text/html": [
       "<div>\n",
       "<style scoped>\n",
       "    .dataframe tbody tr th:only-of-type {\n",
       "        vertical-align: middle;\n",
       "    }\n",
       "\n",
       "    .dataframe tbody tr th {\n",
       "        vertical-align: top;\n",
       "    }\n",
       "\n",
       "    .dataframe thead th {\n",
       "        text-align: right;\n",
       "    }\n",
       "</style>\n",
       "<table border=\"1\" class=\"dataframe\">\n",
       "  <thead>\n",
       "    <tr style=\"text-align: right;\">\n",
       "      <th></th>\n",
       "      <th>identificador_cliente</th>\n",
       "      <th>cust_age_number</th>\n",
       "      <th>customer_seniority_number</th>\n",
       "      <th>main_city_type</th>\n",
       "      <th>town_id</th>\n",
       "      <th>personal_type</th>\n",
       "      <th>marital_status_type</th>\n",
       "      <th>address_relationship_type</th>\n",
       "      <th>adult_dependants_number</th>\n",
       "      <th>target_type</th>\n",
       "      <th>...</th>\n",
       "      <th>cr_dbt_card_tech_expns_amount</th>\n",
       "      <th>cr_debit_card_tech_op_number</th>\n",
       "      <th>cr_dbt_cd_tourism_expns_amount</th>\n",
       "      <th>cr_debit_cd_tourism_op_number</th>\n",
       "      <th>cr_dbt_cd_clothes_expns_amount</th>\n",
       "      <th>cr_debit_cd_clothes_op_number</th>\n",
       "      <th>cr_dbt_card_prvs_expns_amount</th>\n",
       "      <th>cr_debit_card_prvs_op_number</th>\n",
       "      <th>audit_date</th>\n",
       "      <th>alta_tdc</th>\n",
       "    </tr>\n",
       "  </thead>\n",
       "  <tbody>\n",
       "    <tr>\n",
       "      <th>0</th>\n",
       "      <td>1</td>\n",
       "      <td>68</td>\n",
       "      <td>37</td>\n",
       "      <td>1</td>\n",
       "      <td>11001</td>\n",
       "      <td>1</td>\n",
       "      <td>1.0</td>\n",
       "      <td>3</td>\n",
       "      <td>0.0</td>\n",
       "      <td>1</td>\n",
       "      <td>...</td>\n",
       "      <td>12545000.0</td>\n",
       "      <td>3.0</td>\n",
       "      <td>0.0</td>\n",
       "      <td>0.0</td>\n",
       "      <td>8500000.0</td>\n",
       "      <td>1.0</td>\n",
       "      <td>18852200.0</td>\n",
       "      <td>5.0</td>\n",
       "      <td>2024-11-07T05:18:36.416Z</td>\n",
       "      <td>0</td>\n",
       "    </tr>\n",
       "    <tr>\n",
       "      <th>1</th>\n",
       "      <td>2</td>\n",
       "      <td>92</td>\n",
       "      <td>37</td>\n",
       "      <td>1</td>\n",
       "      <td>11001</td>\n",
       "      <td>1</td>\n",
       "      <td>2.0</td>\n",
       "      <td>3</td>\n",
       "      <td>0.0</td>\n",
       "      <td>1</td>\n",
       "      <td>...</td>\n",
       "      <td>NaN</td>\n",
       "      <td>NaN</td>\n",
       "      <td>NaN</td>\n",
       "      <td>NaN</td>\n",
       "      <td>NaN</td>\n",
       "      <td>NaN</td>\n",
       "      <td>NaN</td>\n",
       "      <td>NaN</td>\n",
       "      <td>2024-11-07T05:18:36.416Z</td>\n",
       "      <td>0</td>\n",
       "    </tr>\n",
       "    <tr>\n",
       "      <th>2</th>\n",
       "      <td>3</td>\n",
       "      <td>70</td>\n",
       "      <td>27</td>\n",
       "      <td>0</td>\n",
       "      <td>25572</td>\n",
       "      <td>1</td>\n",
       "      <td>2.0</td>\n",
       "      <td>2</td>\n",
       "      <td>NaN</td>\n",
       "      <td>1</td>\n",
       "      <td>...</td>\n",
       "      <td>0.0</td>\n",
       "      <td>0.0</td>\n",
       "      <td>0.0</td>\n",
       "      <td>0.0</td>\n",
       "      <td>0.0</td>\n",
       "      <td>0.0</td>\n",
       "      <td>0.0</td>\n",
       "      <td>0.0</td>\n",
       "      <td>2024-11-07T05:18:36.416Z</td>\n",
       "      <td>0</td>\n",
       "    </tr>\n",
       "    <tr>\n",
       "      <th>3</th>\n",
       "      <td>4</td>\n",
       "      <td>76</td>\n",
       "      <td>27</td>\n",
       "      <td>0</td>\n",
       "      <td>25290</td>\n",
       "      <td>1</td>\n",
       "      <td>2.0</td>\n",
       "      <td>3</td>\n",
       "      <td>NaN</td>\n",
       "      <td>1</td>\n",
       "      <td>...</td>\n",
       "      <td>NaN</td>\n",
       "      <td>NaN</td>\n",
       "      <td>NaN</td>\n",
       "      <td>NaN</td>\n",
       "      <td>NaN</td>\n",
       "      <td>NaN</td>\n",
       "      <td>NaN</td>\n",
       "      <td>NaN</td>\n",
       "      <td>2024-11-07T05:18:36.416Z</td>\n",
       "      <td>0</td>\n",
       "    </tr>\n",
       "    <tr>\n",
       "      <th>4</th>\n",
       "      <td>5</td>\n",
       "      <td>90</td>\n",
       "      <td>37</td>\n",
       "      <td>1</td>\n",
       "      <td>5001</td>\n",
       "      <td>1</td>\n",
       "      <td>2.0</td>\n",
       "      <td>5</td>\n",
       "      <td>2.0</td>\n",
       "      <td>1</td>\n",
       "      <td>...</td>\n",
       "      <td>0.0</td>\n",
       "      <td>0.0</td>\n",
       "      <td>0.0</td>\n",
       "      <td>0.0</td>\n",
       "      <td>0.0</td>\n",
       "      <td>0.0</td>\n",
       "      <td>0.0</td>\n",
       "      <td>0.0</td>\n",
       "      <td>2024-11-07T05:18:36.416Z</td>\n",
       "      <td>0</td>\n",
       "    </tr>\n",
       "  </tbody>\n",
       "</table>\n",
       "<p>5 rows × 165 columns</p>\n",
       "</div>"
      ],
      "text/plain": [
       "   identificador_cliente  cust_age_number  customer_seniority_number  \\\n",
       "0                      1               68                         37   \n",
       "1                      2               92                         37   \n",
       "2                      3               70                         27   \n",
       "3                      4               76                         27   \n",
       "4                      5               90                         37   \n",
       "\n",
       "   main_city_type town_id personal_type  marital_status_type  \\\n",
       "0               1   11001             1                  1.0   \n",
       "1               1   11001             1                  2.0   \n",
       "2               0   25572             1                  2.0   \n",
       "3               0   25290             1                  2.0   \n",
       "4               1    5001             1                  2.0   \n",
       "\n",
       "   address_relationship_type  adult_dependants_number  target_type  ...  \\\n",
       "0                          3                      0.0            1  ...   \n",
       "1                          3                      0.0            1  ...   \n",
       "2                          2                      NaN            1  ...   \n",
       "3                          3                      NaN            1  ...   \n",
       "4                          5                      2.0            1  ...   \n",
       "\n",
       "   cr_dbt_card_tech_expns_amount  cr_debit_card_tech_op_number  \\\n",
       "0                     12545000.0                           3.0   \n",
       "1                            NaN                           NaN   \n",
       "2                            0.0                           0.0   \n",
       "3                            NaN                           NaN   \n",
       "4                            0.0                           0.0   \n",
       "\n",
       "   cr_dbt_cd_tourism_expns_amount  cr_debit_cd_tourism_op_number  \\\n",
       "0                             0.0                            0.0   \n",
       "1                             NaN                            NaN   \n",
       "2                             0.0                            0.0   \n",
       "3                             NaN                            NaN   \n",
       "4                             0.0                            0.0   \n",
       "\n",
       "   cr_dbt_cd_clothes_expns_amount  cr_debit_cd_clothes_op_number  \\\n",
       "0                       8500000.0                            1.0   \n",
       "1                             NaN                            NaN   \n",
       "2                             0.0                            0.0   \n",
       "3                             NaN                            NaN   \n",
       "4                             0.0                            0.0   \n",
       "\n",
       "   cr_dbt_card_prvs_expns_amount  cr_debit_card_prvs_op_number  \\\n",
       "0                     18852200.0                           5.0   \n",
       "1                            NaN                           NaN   \n",
       "2                            0.0                           0.0   \n",
       "3                            NaN                           NaN   \n",
       "4                            0.0                           0.0   \n",
       "\n",
       "                 audit_date  alta_tdc  \n",
       "0  2024-11-07T05:18:36.416Z         0  \n",
       "1  2024-11-07T05:18:36.416Z         0  \n",
       "2  2024-11-07T05:18:36.416Z         0  \n",
       "3  2024-11-07T05:18:36.416Z         0  \n",
       "4  2024-11-07T05:18:36.416Z         0  \n",
       "\n",
       "[5 rows x 165 columns]"
      ]
     },
     "execution_count": 29,
     "metadata": {},
     "output_type": "execute_result"
    }
   ],
   "source": [
    "# Cargar el dataset de entrenamiento\n",
    "train_df = pd.read_csv('train_df.csv', delimiter=';', thousands='.', decimal=',')\n",
    "print('Dataset de entrenamiento cargado, dimensiones:', train_df.shape)\n",
    "train_df.head()"
   ]
  },
  {
   "cell_type": "code",
   "execution_count": 30,
   "id": "preprocess",
   "metadata": {},
   "outputs": [
    {
     "name": "stdout",
     "output_type": "stream",
     "text": [
      "Columnas numéricas: ['cust_age_number', 'customer_seniority_number', 'main_city_type', 'marital_status_type', 'address_relationship_type', 'adult_dependants_number', 'target_type', 'customer_asset_amount', 'customer_liability_amount', 'customer_status_type', 'month_withdrawals_number', 'month_payment_number', 'month_purchase_number', 'm_exit_amount', 'm_entry_amount', 'mth_mbl_app_qry_number', 'mth_mbl_app_mnty_tr_number', 'mth_mbl_app_non_mnty_tr_number', 'month_atm_queries_number', 'atm_made_fin_trans_number', 'atm_made_nfin_tran_number', 'inquiries_digi_channel_number', 'dig_financial_trans_tot_number', 'dig_non_fin_trans_tot_number', 'mth_co_netcash_queries_number', 'mth_co_netc_non_mnty_tr_number', 'mth_co_netcash_mnty_tr_number', 'mth_ppl_netcash_queries_number', 'mth_ppl_netcash_mnty_tr_number', 'mth_pplnetc_non_mnty_tr_number', 'month_h2h_queries_number', 'month_h2h_mnty_tr_number', 'month_h2h_non_mnty_tr_number', 'month_webpage_queries_number', 'mth_webpage_mnty_tr_number', 'mth_webpage_non_mnty_tr_number', 'mth_ext_pos_queries_number', 'mth_ext_pos_mnty_tr_number', 'mth_ext_pos_non_mnty_tr_number', 'mth_ext_ntwrk_queries_number', 'mth_ext_ntwrk_mnty_tr_number', 'm_ext_ntwrk_non_mnty_tr_number', 'mth_banknet_queries_number', 'mth_banknet_mnty_tr_number', 'mth_banknet_non_mnty_tr_number', 'mth_third_party_queries_number', 'month_thpty_mnty_tr_number', 'month_thpty_non_mnty_tr_number', 'recv_payrl_transactions_number', 'current_payroll_incm_amount', 'payroll_type', 'instlmnt_1_bill_average_amount', 'cr_card_bill_average_amount', 'instlmnt_1_tr_average_per', 'instlmnt_1_transactions_type', 'saving_prdt_avg_bal_amount', 'fix_saving_prdt_avg_bal_amount', 'cdt_prdt_avg_balance_amount', 'consumer_cash_balance_amount', 'current_asset_amount', 'avg_balance_fund_amount', 'mtge_prdt_avg_balance_amount', 'bbva_payrl_oblg_tot_bal_amount', 'avg_cr_card_balance_amount', 'vehicle_credit_average_amount', 'lt_saving_prdt_avg_bal_amount', 'save_account_type', 'fixed_savings_tenure_type', 'term_cdt_tenure_type', 'tenure_consm_product_type', 'ownership_ca_type', 'funds_ownership_ind_type', 'ownership_mloan_type', 'libranza_tenure_mark_type', 'credit_card_ownshp_ind_type', 'vehicle_cr_tenure_mark_type', 'long_term_savings_tenure_type', 'new_segment_id', 'customer_products_number', 'cr_dbt_card_agric_expns_amount', 'cr_dbt_card_agric_op_number', 'cr_dbt_card_adv_expns_amount', 'cr_dbt_card_adv_op_number', 'cr_dbt_card_veh_expns_amount', 'cr_dbt_card_veh_op_number', 'cr_dbt_cd_beauty_expns_amount', 'cr_dbt_card_beauty_op_number', 'cr_dbt_cd_casino_expns_amount', 'cr_dbt_card_casino_op_number', 'cr_dbt_cd_cns_expns_amount', 'cr_dbt_card_cns_op_number', 'cr_dbt_cd_sport_expns_amount', 'cr_dbt_card_sport_op_number', 'cr_dbt_cd_digital_expns_amount', 'cr_dbt_cd_digital_op_number', 'cr_dbt_card_educ_expns_amount', 'cr_dbt_card_educ_op_number', 'cr_dbt_cd_co_stmp_expns_amount', 'cr_dbt_cd_co_stamp_op_number', 'cr_dbt_card_fcg_expns_amount', 'cr_dbt_card_fcg_op_number', 'cr_dbt_card_fndat_expns_amount', 'cr_dbt_card_fndat_op_number', 'cr_dbt_cd_funeral_expns_amount', 'cr_dbt_card_funeral_op_number', 'cr_dbt_card_govt_expns_amount', 'cr_dbt_card_govt_op_number', 'cr_dbt_card_home_expns_amount', 'cr_dbt_card_home_op_number', 'cr_dbt_card_inds_expns_amount', 'cr_dbt_card_inds_op_number', 'cr_dbt_card_re_expns_amount', 'cr_dbt_card_re_op_number', 'cr_dbt_card_jwlry_expns_amount', 'cr_dbt_card_jwlry_op_number', 'cr_dbt_cd_lbrtry_expns_amount', 'cr_dbt_cd_laboratory_op_number', 'cr_dbt_cd_lqr_str_expns_amount', 'cr_dbt_cd_lqr_str_op_number', 'cr_dbt_card_clng_expns_amount', 'cr_dbt_card_clng_op_number', 'cr_dbt_card_maint_expns_amount', 'cr_dbt_card_maint_op_number', 'cr_dbt_card_pets_expns_amount', 'cr_dbt_card_pets_op_number', 'cr_dbt_card_med_expns_amount', 'cr_dbt_card_med_op_number', 'cr_dbt_cd_courier_expns_amount', 'cr_dbt_card_courier_op_number', 'cr_dbt_card_misc_expns_amount', 'cr_debit_card_misc_op_number', 'cr_dbt_card_motel_expns_amount', 'cr_debit_card_motel_op_number', 'cr_dbt_cd_others_expns_amount', 'cr_debit_card_others_op_number', 'cr_dbt_cd_sttnry_expns_amount', 'cr_debit_card_sttnry_op_number', 'cr_dbt_cd_parkg_expns_amount', 'cr_debit_card_parkg_op_number', 'cr_dbt_cd_bakery_expns_amount', 'cr_debit_card_bakery_op_number', 'cr_dbt_cd_recyc_expns_amount', 'cr_debit_card_recyc_op_number', 'cr_dbt_cd_rstrnt_expns_amount', 'cr_debit_card_rstrnt_op_number', 'cr_dbt_cd_ins_expns_amount', 'cr_debit_card_ins_op_number', 'cr_dbt_cd_pub_srv_expns_amount', 'cr_debit_cd_pub_srv_op_number', 'cr_dbt_card_spmk_expns_amount', 'cr_debit_card_spmk_op_number', 'cr_dbt_card_tech_expns_amount', 'cr_debit_card_tech_op_number', 'cr_dbt_cd_tourism_expns_amount', 'cr_debit_cd_tourism_op_number', 'cr_dbt_cd_clothes_expns_amount', 'cr_debit_cd_clothes_op_number', 'cr_dbt_card_prvs_expns_amount', 'cr_debit_card_prvs_op_number']\n",
      "Columnas categóricas: ['town_id', 'personal_type', 'collective_name', 'audit_date']\n"
     ]
    }
   ],
   "source": [
    "# Definir variables objetivo e identificación\n",
    "target = 'alta_tdc'\n",
    "id_col = 'identificador_cliente'\n",
    "\n",
    "# Separar características y target\n",
    "X = train_df.drop([target, id_col], axis=1)\n",
    "y = train_df[target]\n",
    "\n",
    "# Identificar columnas numéricas y categóricas\n",
    "num_cols = X.select_dtypes(include=['number']).columns.tolist()\n",
    "cat_cols = X.select_dtypes(exclude=['number']).columns.tolist()\n",
    "\n",
    "print('Columnas numéricas:', num_cols)\n",
    "print('Columnas categóricas:', cat_cols)\n",
    "\n",
    "# Convertir variables categóricas a string\n",
    "X[cat_cols] = X[cat_cols].astype(str)"
   ]
  },
  {
   "cell_type": "markdown",
   "id": "baseline_model_intro",
   "metadata": {},
   "source": [
    "## Modelo Base y Cálculo de Importancia de Variables\n",
    "\n",
    "Se construye un pipeline que procesa las variables numéricas y categóricas y se entrena un **RandomForestClassifier** para obtener la importancia de cada variable.\n",
    "\n",
    "Decisiones tomadas:\n",
    "- Uso de **SimpleImputer** para valores faltantes (mediana para numéricas y moda para categóricas).\n",
    "- Aplicación de **StandardScaler** y **OneHotEncoder** para normalización y codificación respectivamente."
   ]
  },
  {
   "cell_type": "code",
   "execution_count": 31,
   "id": "80dfb073",
   "metadata": {},
   "outputs": [
    {
     "name": "stdout",
     "output_type": "stream",
     "text": [
      "Importancia de las variables:\n",
      "customer_seniority_number      0.036184\n",
      "cust_age_number                0.034910\n",
      "customer_liability_amount      0.029448\n",
      "current_payroll_incm_amount    0.028778\n",
      "mth_mbl_app_qry_number         0.028758\n",
      "m_entry_amount                 0.027503\n",
      "saving_prdt_avg_bal_amount     0.026915\n",
      "month_withdrawals_number       0.023876\n",
      "month_purchase_number          0.022724\n",
      "customer_asset_amount          0.022421\n",
      "dtype: float64\n"
     ]
    }
   ],
   "source": [
    "# Pipeline para variables numéricas\n",
    "numeric_transformer = Pipeline(steps=[\n",
    "    ('imputer', SimpleImputer(strategy='median')),\n",
    "    ('scaler', StandardScaler())\n",
    "])\n",
    "\n",
    "# Pipeline para variables categóricas\n",
    "categorical_transformer = Pipeline(steps=[\n",
    "    ('imputer', SimpleImputer(strategy='most_frequent')),\n",
    "    ('onehot', OneHotEncoder(handle_unknown='ignore', sparse_output=False))\n",
    "])\n",
    "\n",
    "# Combinar ambos pipelines\n",
    "preprocessor = ColumnTransformer(transformers=[\n",
    "    ('num', numeric_transformer, num_cols),\n",
    "    ('cat', categorical_transformer, cat_cols)\n",
    "])\n",
    "\n",
    "# Crear pipeline base: preprocesamiento + RandomForestClassifier\n",
    "pipeline_base = Pipeline(steps=[\n",
    "    ('preprocessor', preprocessor),\n",
    "    ('classifier', RandomForestClassifier(n_estimators=100, random_state=42))\n",
    "])\n",
    "\n",
    "# División en entrenamiento y prueba\n",
    "X_train_base, X_test_base, y_train_base, y_test_base = train_test_split(X, y, test_size=0.2, random_state=42)\n",
    "\n",
    "pipeline_base.fit(X_train_base, y_train_base)\n",
    "\n",
    "# Extraer el clasificador entrenado\n",
    "model_base = pipeline_base.named_steps['classifier']\n",
    "\n",
    "# Obtener nombres de columnas tras preprocesamiento\n",
    "onehot_feature_names = pipeline_base.named_steps['preprocessor'].named_transformers_['cat'].named_steps['onehot'].get_feature_names_out(cat_cols)\n",
    "feature_names = num_cols + list(onehot_feature_names)\n",
    "\n",
    "# Calcular importancias\n",
    "importances = model_base.feature_importances_\n",
    "feat_imp = pd.Series(importances, index=feature_names).sort_values(ascending=False)\n",
    "\n",
    "print('Importancia de las variables:')\n",
    "print(feat_imp.head(10))"
   ]
  },
  {
   "cell_type": "markdown",
   "id": "optimize_umbral_intro",
   "metadata": {},
   "source": [
    "## Optimización del Umbral de Importancia\n",
    "\n",
    "Se explora un rango de umbrales sobre las importancias para seleccionar las variables más relevantes, reduciendo la complejidad del modelo al evitar incluir variables con baja contribución."
   ]
  },
  {
   "cell_type": "code",
   "execution_count": 32,
   "id": "optimize_threshold",
   "metadata": {},
   "outputs": [
    {
     "name": "stdout",
     "output_type": "stream",
     "text": [
      "Mejor umbral: 0.009522048051814731\n",
      "Variables numéricas seleccionadas: ['cust_age_number', 'customer_seniority_number', 'marital_status_type', 'address_relationship_type', 'customer_asset_amount', 'customer_liability_amount', 'month_withdrawals_number', 'month_purchase_number', 'm_exit_amount', 'm_entry_amount', 'mth_mbl_app_qry_number', 'mth_mbl_app_mnty_tr_number', 'atm_made_fin_trans_number', 'mth_ppl_netcash_queries_number', 'mth_ppl_netcash_mnty_tr_number', 'month_h2h_mnty_tr_number', 'mth_ext_pos_mnty_tr_number', 'current_payroll_incm_amount', 'saving_prdt_avg_bal_amount', 'consumer_cash_balance_amount', 'bbva_payrl_oblg_tot_bal_amount', 'avg_cr_card_balance_amount', 'customer_products_number', 'cr_dbt_card_veh_expns_amount', 'cr_dbt_cd_courier_expns_amount', 'cr_dbt_card_spmk_expns_amount', 'cr_debit_card_spmk_op_number']\n",
      "Variables categóricas seleccionadas: ['town_id']\n"
     ]
    }
   ],
   "source": [
    "# Definir un rango de umbrales (de 0 al máximo de importancias)\n",
    "umbral_values = np.linspace(0, feat_imp.max(), num=20)\n",
    "\n",
    "best_umbral = None\n",
    "best_score = 0\n",
    "best_num_cols = None\n",
    "best_cat_cols = None\n",
    "\n",
    "for umbral in umbral_values:\n",
    "    features_temp = feat_imp[feat_imp > umbral].index.tolist()\n",
    "    \n",
    "    num_cols_temp = [col for col in num_cols if col in features_temp]\n",
    "    \n",
    "    onehot_all_names = pipeline_base.named_steps['preprocessor'].named_transformers_['cat'].named_steps['onehot'].get_feature_names_out(cat_cols)\n",
    "    cat_cols_temp = []\n",
    "    for col in cat_cols:\n",
    "        dummies = [dummy for dummy in onehot_all_names if dummy.startswith(col + '_')]\n",
    "        if any(dummy in features_temp for dummy in dummies):\n",
    "            cat_cols_temp.append(col)\n",
    "    \n",
    "    selected_cols_temp = num_cols_temp + cat_cols_temp\n",
    "    if len(selected_cols_temp) == 0:\n",
    "        continue\n",
    "    \n",
    "    X_selected_temp = X[selected_cols_temp]\n",
    "    X_train_temp, X_test_temp, y_train_temp, y_test_temp = train_test_split(X_selected_temp, y, test_size=0.2, random_state=42)\n",
    "    \n",
    "    numeric_transformer_sel = Pipeline(steps=[\n",
    "        ('imputer', SimpleImputer(strategy='median')),\n",
    "        ('scaler', StandardScaler())\n",
    "    ])\n",
    "    categorical_transformer_sel = Pipeline(steps=[\n",
    "        ('imputer', SimpleImputer(strategy='most_frequent')),\n",
    "        ('onehot', OneHotEncoder(handle_unknown='ignore', sparse_output=False))\n",
    "    ])\n",
    "    preprocessor_sel = ColumnTransformer(transformers=[\n",
    "        ('num', numeric_transformer_sel, [col for col in selected_cols_temp if col in num_cols]),\n",
    "        ('cat', categorical_transformer_sel, [col for col in selected_cols_temp if col in cat_cols])\n",
    "    ])\n",
    "    clf_temp = Pipeline(steps=[\n",
    "        ('preprocessor', preprocessor_sel),\n",
    "        ('classifier', RandomForestClassifier(n_estimators=100, random_state=42))\n",
    "    ])\n",
    "    \n",
    "    clf_temp.fit(X_train_temp, y_train_temp)\n",
    "    y_pred_temp = clf_temp.predict(X_test_temp)\n",
    "    \n",
    "    # Utilizamos el F1 Score internamente para la optimización (no se imprime)\n",
    "    score = 0\n",
    "    try:\n",
    "        score = f1_score(y_test_temp, y_pred_temp, pos_label=1)\n",
    "    except Exception as e:\n",
    "        pass\n",
    "    \n",
    "    if score > best_score:\n",
    "        best_score = score\n",
    "        best_umbral = umbral\n",
    "        best_num_cols = num_cols_temp\n",
    "        best_cat_cols = cat_cols_temp\n",
    "\n",
    "print('Mejor umbral:', best_umbral)\n",
    "print('Variables numéricas seleccionadas:', best_num_cols)\n",
    "print('Variables categóricas seleccionadas:', best_cat_cols)"
   ]
  },
  {
   "cell_type": "markdown",
   "id": "final_model_intro",
   "metadata": {},
   "source": [
    "## Construcción del Pipeline Final con Variables Seleccionadas\n",
    "\n",
    "Utilizando el umbral óptimo, se seleccionan las variables relevantes y se crea el pipeline final que incluye:\n",
    "- Preprocesamiento para las variables numéricas y categóricas seleccionadas.\n",
    "- Balanceo de clases mediante **SMOTE**.\n",
    "- Entrenamiento de un **RandomForestClassifier** con parámetros predeterminados.\n",
    "\n",
    "Al final se mostrarán únicamente el average_precision_score y la precisión."
   ]
  },
  {
   "cell_type": "code",
   "execution_count": 33,
   "id": "final_pipeline",
   "metadata": {},
   "outputs": [
    {
     "name": "stdout",
     "output_type": "stream",
     "text": [
      "Columnas seleccionadas para el modelo final: ['cust_age_number', 'customer_seniority_number', 'marital_status_type', 'address_relationship_type', 'customer_asset_amount', 'customer_liability_amount', 'month_withdrawals_number', 'month_purchase_number', 'm_exit_amount', 'm_entry_amount', 'mth_mbl_app_qry_number', 'mth_mbl_app_mnty_tr_number', 'atm_made_fin_trans_number', 'mth_ppl_netcash_queries_number', 'mth_ppl_netcash_mnty_tr_number', 'month_h2h_mnty_tr_number', 'mth_ext_pos_mnty_tr_number', 'current_payroll_incm_amount', 'saving_prdt_avg_bal_amount', 'consumer_cash_balance_amount', 'bbva_payrl_oblg_tot_bal_amount', 'avg_cr_card_balance_amount', 'customer_products_number', 'cr_dbt_card_veh_expns_amount', 'cr_dbt_cd_courier_expns_amount', 'cr_dbt_card_spmk_expns_amount', 'cr_debit_card_spmk_op_number', 'town_id']\n"
     ]
    }
   ],
   "source": [
    "selected_cols = best_num_cols + best_cat_cols\n",
    "print('Columnas seleccionadas para el modelo final:', selected_cols)\n",
    "\n",
    "numeric_transformer_sel = Pipeline(steps=[\n",
    "    ('imputer', SimpleImputer(strategy='median')),\n",
    "    ('scaler', StandardScaler())\n",
    "])\n",
    "\n",
    "categorical_transformer_sel = Pipeline(steps=[\n",
    "    ('imputer', SimpleImputer(strategy='most_frequent')),\n",
    "    ('onehot', OneHotEncoder(handle_unknown='ignore', sparse_output=False))\n",
    "])\n",
    "\n",
    "preprocessor_sel = ColumnTransformer(transformers=[\n",
    "    ('num', numeric_transformer_sel, [col for col in selected_cols if col in num_cols]),\n",
    "    ('cat', categorical_transformer_sel, [col for col in selected_cols if col in cat_cols])\n",
    "])\n",
    "\n",
    "clf_final = Pipeline(steps=[\n",
    "    ('preprocessor', preprocessor_sel),\n",
    "    ('classifier', RandomForestClassifier(n_estimators=100, random_state=42))\n",
    "])"
   ]
  },
  {
   "cell_type": "code",
   "execution_count": 34,
   "id": "data_split",
   "metadata": {},
   "outputs": [],
   "source": [
    "X_selected = X[selected_cols]\n",
    "X_train, X_test, y_train, y_test = train_test_split(X_selected, y, test_size=0.2, random_state=42)"
   ]
  },
  {
   "cell_type": "code",
   "execution_count": 35,
   "id": "final_model_training",
   "metadata": {},
   "outputs": [
    {
     "name": "stdout",
     "output_type": "stream",
     "text": [
      "Average Precision (SMOTE): 0.7394994286632312\n",
      "Precisión: 0.9563046192259675\n"
     ]
    }
   ],
   "source": [
    "clf_final_smote = ImbPipeline(steps=[\n",
    "    ('preprocessor', preprocessor_sel),\n",
    "    ('smote', SMOTE(random_state=42)),\n",
    "    ('classifier', RandomForestClassifier(n_estimators=100, random_state=42))\n",
    "])\n",
    "\n",
    "clf_final_smote.fit(X_train, y_train)\n",
    "\n",
    "y_pred_smote = clf_final_smote.predict(X_test)\n",
    "\n",
    "# Calcular average_precision_score y precisión\n",
    "ap_smote = average_precision_score(y_test, clf_final_smote.predict_proba(X_test)[:, 1])\n",
    "accuracy = accuracy_score(y_test, y_pred_smote)\n",
    "\n",
    "print(\"Average Precision (SMOTE):\", ap_smote)\n",
    "print(\"Precisión:\", accuracy)"
   ]
  },
  {
   "cell_type": "markdown",
   "id": "predictions",
   "metadata": {},
   "source": [
    "## Generación de Predicciones y Archivo de Salida\n",
    "\n",
    "Se generan las predicciones sobre el conjunto de validación y se guarda el resultado en un archivo CSV con las columnas:\n",
    "- **ID_cliente**\n",
    "- **alta_tdc** (1 si el cliente adquiere la tarjeta, 0 en caso contrario)"
   ]
  },
  {
   "cell_type": "code",
   "execution_count": 36,
   "id": "generate_predictions",
   "metadata": {},
   "outputs": [
    {
     "name": "stdout",
     "output_type": "stream",
     "text": [
      "Archivo de predicciones generado: predicciones.csv\n"
     ]
    }
   ],
   "source": [
    "validation_df = pd.read_csv('Validation_df.csv', delimiter=';', thousands='.', decimal=',')\n",
    "\n",
    "X_validation = validation_df[selected_cols]\n",
    "\n",
    "validation_preds = clf_final_smote.predict(X_validation)\n",
    "\n",
    "output_df = pd.DataFrame({\n",
    "    'ID_cliente': validation_df[id_col],\n",
    "    'alta_tdc': validation_preds\n",
    "})\n",
    "\n",
    "output_df.to_csv('predicciones.csv', index=False, sep=';')\n",
    "print('Archivo de predicciones generado: predicciones.csv')"
   ]
  },
  {
   "cell_type": "markdown",
   "id": "conclusion",
   "metadata": {},
   "source": [
    "## Justificación de las Decisiones y Próximos Pasos\n",
    "\n",
    "Decisiones tomadas:\n",
    "\n",
    "- Se entrenó un modelo base para obtener la importancia de las variables y se optimizó el umbral para seleccionar las más relevantes.\n",
    "- Se utilizó un **RandomForestClassifier** con parámetros predeterminados para mantener la simplicidad.\n",
    "- Se aplicó **SMOTE** para balancear las clases y mejorar la generalización del modelo.\n",
    "\n",
    "**Reflexión y Próximos Pasos:**\n",
    "\n",
    "- Explorar otros algoritmos (p.ej., XGBoost o LightGBM).\n",
    "- Investigar técnicas adicionales de balanceo y validación cruzada.\n",
    "- Documentar cada decisión para asegurar la claridad y reproducibilidad."
   ]
  },
  {
   "cell_type": "markdown",
   "id": "db7151dd",
   "metadata": {},
   "source": []
  }
 ],
 "metadata": {
  "kernelspec": {
   "display_name": "base",
   "language": "python",
   "name": "python3"
  },
  "language_info": {
   "codemirror_mode": {
    "name": "ipython",
    "version": 3
   },
   "file_extension": ".py",
   "mimetype": "text/x-python",
   "name": "python",
   "nbconvert_exporter": "python",
   "pygments_lexer": "ipython3",
   "version": "3.12.7"
  }
 },
 "nbformat": 4,
 "nbformat_minor": 5
}
